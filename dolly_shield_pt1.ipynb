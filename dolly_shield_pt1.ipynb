{
 "cells": [
  {
   "cell_type": "markdown",
   "metadata": {},
   "source": [
    "### Authentication and other code admin\n",
    "\n",
    "* Importing Python libraries\n",
    "* Setting up Google Cloud Platform (GCP) services\n",
    "    * Service account impersonation authentication and secrets retrieval \n",
    "    * Cloud storage access and file retrieval\n",
    "* Getting files organized"
   ]
  },
  {
   "cell_type": "markdown",
   "metadata": {},
   "source": [
    "#### Importing Python libraries"
   ]
  },
  {
   "cell_type": "code",
   "execution_count": 5,
   "metadata": {},
   "outputs": [],
   "source": [
    "#data org/manipulation\n",
    "import pandas as tian\n",
    "tian.set_option('display.max_columns', None)\n",
    "from io import StringIO\n",
    "import builtins\n",
    "from tqdm import tqdm\n",
    "import pickle\n",
    "import os\n",
    "\n",
    "\n",
    "#gcp\n",
    "from google.auth import default, impersonated_credentials\n",
    "from google.cloud import secretmanager, storage\n",
    "\n",
    "#llm libraries\n",
    "from transformers import AutoTokenizer\n",
    "from langchain import document_loaders\n",
    "from langchain.text_splitter import RecursiveCharacterTextSplitter\n",
    "import logging\n",
    "import random\n"
   ]
  },
  {
   "cell_type": "markdown",
   "metadata": {},
   "source": [
    "#### Setting up Google Cloud Platform (GCP) services"
   ]
  },
  {
   "cell_type": "markdown",
   "metadata": {},
   "source": [
    "##### Service account impersonation authentication and secrets retrieval \n",
    "\n",
    "You will need to change this to your preferred setup for accessing files and secrets if you want to follow along. My first start is authenticating into GCP from the command line:\n",
    "\n",
    "```\n",
    "gcloud auth application-default login\n",
    "```\n"
   ]
  },
  {
   "cell_type": "code",
   "execution_count": 3,
   "metadata": {},
   "outputs": [],
   "source": [
    "# Default credentials from the environment\n",
    "credentials, project_id = default()\n",
    "# service account impersonation setup\n",
    "service_account_email = \"gcp-music-service@thoughts-on-music.iam.gserviceaccount.com\"\n",
    "target_scopes = ['https://www.googleapis.com/auth/cloud-platform']\n",
    "\n",
    "impersonated_credentials = impersonated_credentials.Credentials(\n",
    "    source_credentials=credentials,\n",
    "    target_principal=service_account_email,\n",
    "    target_scopes=target_scopes\n",
    ")\n",
    "\n",
    "# secrets client\n",
    "secret_client = secretmanager.SecretManagerServiceClient()\n",
    "project_id = \"thoughts-on-music\"\n",
    "secret_id = \"HUGGING_FACE_READ_TOKEN_LLAMA\"\n",
    "version_id = \"latest\" \n",
    "secrets_name = f\"projects/{project_id}/secrets/{secret_id}/versions/{version_id}\"\n",
    "\n",
    "# retrieve HF API key from secrets manager\n",
    "response = secret_client.access_secret_version(name=secrets_name)\n",
    "HUGGING_FACE_READ_TOKEN_LLAMA = response.payload.data.decode(\"UTF-8\")\n"
   ]
  },
  {
   "cell_type": "markdown",
   "metadata": {},
   "source": [
    "##### Cloud storage access and file admin\n",
    "\n",
    "I've defined a couple functions for used as needed:\n",
    "\n",
    "* gcp_download takes a defined GPC bucket name, folder location, and file name and returns a dataframe of that file\n",
    "    * It's designed so other bucket and folder names can be introduced without wrecking the code\n",
    "* df_deets takes either a single dataframe name or a list of dataframe name and prints out details I like:\n",
    "    * The name of the dataframe\n",
    "    * The first few rows\n",
    "    * The column names\n",
    "    * The data types for each field\n",
    "    * Sum of duplicates and NAs for each column "
   ]
  },
  {
   "cell_type": "code",
   "execution_count": null,
   "metadata": {},
   "outputs": [],
   "source": [
    "# cloud storage client setup\n",
    "storage_client = storage.Client(credentials=credentials)\n",
    "love_uwsthoughts = \"love-uwsthoughts\"\n",
    "bp_csvs_folder = 'bp_csvs'\n",
    "bp_artist_bios_folder = 'bp_artist_bios'\n",
    "uwsthoughts_bucket = storage_client.bucket(love_uwsthoughts)\n",
    "\n",
    "#function to import files \n",
    "def gcp_download(bucket_name, gcp_folder, file_name):\n",
    "    bucket = storage_client.bucket(bucket_name)\n",
    "    blob_name = f\"{gcp_folder}/{file_name}\".strip(\"/\")\n",
    "    file_blob = bucket.blob(blob_name)\n",
    "    file_data = file_blob.download_as_text() \n",
    "    gcp_df = tian.read_csv(StringIO(file_data))\n",
    "    \n",
    "    return gcp_df\n",
    "\n",
    "def df_deets(df_or_names):\n",
    "    def print_info(df, df_name):\n",
    "        print(f\"{df_name}:\")\n",
    "        if hasattr(builtins, \"display\"):\n",
    "            display(df)\n",
    "        else:\n",
    "            print(df)\n",
    "        print(\"\\n\")\n",
    "        \n",
    "        # Summary of data types, duplicates, NAs, and distinct values\n",
    "        summary_df = tian.DataFrame({\n",
    "            \"Data types\": df.dtypes,\n",
    "            \"Duplicates\": [df.duplicated(subset=[col]).sum() for col in df.columns],\n",
    "            \"NAs\": df.isna().sum().values,\n",
    "            \"Distinct values\": df.nunique().values\n",
    "        }).set_index(df.columns)\n",
    "        \n",
    "        print(f\"{df_name} summary:\")\n",
    "        if hasattr(builtins, \"display\"):\n",
    "            display(summary_df)\n",
    "        else:\n",
    "            print(summary_df)\n",
    "        print(\"\\n\")\n",
    "        print(df.columns)\n",
    "        print(\"\\n\")\n",
    "        total_duplicates = df.duplicated().sum()\n",
    "        print(f\"Total number of duplicate rows in {df_name}: {total_duplicates}\\n\")\n",
    "\n",
    "    if isinstance(df_or_names, list): \n",
    "        for item in df_or_names:\n",
    "            if isinstance(item, str):\n",
    "                df = globals()[item] \n",
    "                print_info(df, item)\n",
    "            else:\n",
    "                print_info(item, \"dataframe\")\n",
    "    else: \n",
    "        if isinstance(df_or_names, str):\n",
    "            df = globals()[df_or_names]  \n",
    "            print_info(df, df_or_names)\n",
    "        else:\n",
    "            print_info(df_or_names, \"dataframe\")\n"
   ]
  },
  {
   "cell_type": "markdown",
   "metadata": {},
   "source": [
    "##### Getting files organized \n",
    "\n",
    "This may seem beautifully consolidated now but trust me when I say that there was a lot of chaos I went through to get to this point. I keep like with like to make it easier for me to remember what I was thinking."
   ]
  },
  {
   "cell_type": "markdown",
   "metadata": {},
   "source": [
    "Running list of different files I need at various points:"
   ]
  },
  {
   "cell_type": "code",
   "execution_count": null,
   "metadata": {},
   "outputs": [],
   "source": [
    "fact_bp_track_audio_features_csv = 'fact_bp_track_audio_features.csv' \n",
    "fact_bpmeta_audio_csv = 'fact_bpmeta_audio.csv'\n",
    "fact_label_bpmeta_audio_csv = 'fact_label_bpmeta_audio.csv'\n",
    "bp_artist_release_csv = 'bp_artist_release.csv'\n",
    "bp_artist_csv = 'bp_artist.csv'\n",
    "bp_artist_track_csv = 'bp_artist_track.csv'\n",
    "bp_label_csv = 'bp_label.csv'\n",
    "bp_genre_csv = 'bp_genre.csv'\n",
    "bp_key_csv = 'bp_key.csv'\n",
    "bp_label_artist_csv = 'bp_label_artist.csv'"
   ]
  },
  {
   "cell_type": "markdown",
   "metadata": {},
   "source": [
    "I only had to download from GCP once and then I cached the ones I need for later use. If I make a change that I want to be permanent, I update the cache with the changes. From time to time I'll send a changed file up to GCP if I have a long term need for it. "
   ]
  },
  {
   "cell_type": "code",
   "execution_count": null,
   "metadata": {},
   "outputs": [],
   "source": [
    "bp_artist_df = gcp_download(love_uwsthoughts, bp_csvs_folder, bp_artist_csv)\n",
    "bp_artist_release_df =  gcp_download(love_uwsthoughts, bp_csvs_folder, bp_artist_release_csv)\n",
    "bp_artist_track_df = gcp_download(love_uwsthoughts, bp_csvs_folder, bp_artist_track_csv)\n",
    "\n",
    "bp_label_df = gcp_download(love_uwsthoughts, bp_csvs_folder, bp_label_csv)\n",
    "bp_label_artist_df = gcp_download(love_uwsthoughts, bp_csvs_folder, bp_label_artist_csv)\n",
    "\n",
    "bp_genre_df = gcp_download(love_uwsthoughts, bp_csvs_folder, bp_genre_csv)\n",
    "bp_key_df = gcp_download(love_uwsthoughts, bp_csvs_folder, bp_key_csv)\n",
    "fact_label_bpmeta_audio_df = gcp_download(love_uwsthoughts, bp_csvs_folder, fact_label_bpmeta_audio_csv)\n",
    "\n",
    "fact_bp_track_audio_features_df = gcp_download(love_uwsthoughts, bp_csvs_folder, fact_bp_track_audio_features_csv)\n",
    "fact_bpmeta_audio_df = gcp_download(love_uwsthoughts, bp_csvs_folder, fact_bpmeta_audio_csv)\n",
    "\n",
    "bp_artist_df.to_parquet('bp_artist_df_cache.parquet', index=False)\n",
    "bp_artist_release_df.to_parquet('bp_artist_release_df_cache.parquet', index=False)\n",
    "bp_artist_track_df.to_parquet('bp_artist_track_df_cache.parquet', index=False)\n",
    "\n",
    "bp_label_df.to_parquet('bp_label_df_cache.parquet', index=False)\n",
    "bp_label_artist_df.to_parquet('bp_label_artist_df_cache.parquet', index=False)\n",
    "\n",
    "bp_genre_df.to_parquet('bp_genre_df_cache.parquet', index=False)\n",
    "bp_key_df.to_parquet('bp_key_df_cache.parquet', index=False)\n",
    "\n"
   ]
  },
  {
   "cell_type": "markdown",
   "metadata": {},
   "source": [
    "A consolidated list of the cached dataframes I need:"
   ]
  },
  {
   "cell_type": "code",
   "execution_count": 2,
   "metadata": {},
   "outputs": [],
   "source": [
    "# bpmeta_audio_df = tian.read_parquet('/Users/uwsthoughts/Desktop/dolly_shield_local/bpmeta_audio_df_cache.parquet') # removed fact from name\n",
    "# bpmeta_audio_shield_df = tian.read_parquet('/Users/uwsthoughts/Desktop/dolly_shield_local/bpmeta_audio_shield_df_cache.parquet')\n",
    "\n",
    "# bp_artist_df = tian.read_parquet('/Users/uwsthoughts/Desktop/dolly_shield_local/bp_artist_df_cache.parquet')\n",
    "# bp_artist_release_df = tian.read_parquet('/Users/uwsthoughts/Desktop/dolly_shield_local/bp_artist_release_df_cache.parquet')\n",
    "# bp_artist_track_df = tian.read_parquet('/Users/uwsthoughts/Desktop/dolly_shield_local/bp_artist_track_df_cache.parquet')\n",
    "\n",
    "# bp_artist_label_names_df = tian.read_parquet('/Users/uwsthoughts/Desktop/dolly_shield_local/bp_artist_label_names_df_cache.parquet')\n",
    "# artist_bios_df = tian.read_parquet('/Users/uwsthoughts/Desktop/dolly_shield_local/artist_bios_df_cache.parquet')\n",
    "\n",
    "# bp_label_df = tian.read_parquet('/Users/uwsthoughts/Desktop/dolly_shield_local/bp_label_df_cache.parquet')\n",
    "# bp_label_artist_df = tian.read_parquet('/Users/uwsthoughts/Desktop/dolly_shield_local/bp_label_artist_df_cache.parquet')\n",
    "\n",
    "# bp_genre_df = tian.read_parquet('/Users/uwsthoughts/Desktop/dolly_shield_local/bp_genre_df_cache.parquet')\n",
    "# bp_key_df = tian.read_parquet('/Users/uwsthoughts/Desktop/dolly_shield_local/bp_key_df_cache.parquet')\n",
    "\n",
    "bp_text_values_df = tian.read_parquet('/Users/uwsthoughts/Desktop/dolly_shield_local/bp_text_values_df_cache.parquet')\n",
    "\n"
   ]
  },
  {
   "cell_type": "markdown",
   "metadata": {},
   "source": [
    "### Data here, there, and everywhere\n",
    "\n",
    "This first section is about futzing around with files I made when I was much younger, maybe early summer 2024? I'm going to sweep through and see which ones are actually valuable and which ones are the result of me wrapping myself in a massive vortext of delusion."
   ]
  },
  {
   "cell_type": "code",
   "execution_count": null,
   "metadata": {},
   "outputs": [],
   "source": [
    "fact_bp_track_audio_features_df = gcp_download(love_uwsthoughts, bp_csvs_folder, fact_bp_track_audio_features_csv)\n",
    "fact_bpmeta_audio_df = gcp_download(love_uwsthoughts, bp_csvs_folder, fact_bpmeta_audio_csv)"
   ]
  },
  {
   "cell_type": "code",
   "execution_count": null,
   "metadata": {},
   "outputs": [],
   "source": [
    "dataframes_list = ['fact_bp_track_audio_features_df', 'fact_bpmeta_audio_df']\n",
    "\n",
    "df_deets(dataframes_list)"
   ]
  },
  {
   "cell_type": "markdown",
   "metadata": {},
   "source": [
    "Based on the above, it looks like I intended for 'fact_bpmeta_audio_df' to be the cleaned up version of 'fact_bp_track_audio_features_df'. There were ~13,000 rows without Beatport track_id's and, given that this heavily revolves around Beatport data, I decided that it wasn't worth keeping records without that ID. While I do want to get the show on the road, I do have to return to  'mix' having 477,121 distinct values. The table above already has all the cleaned up values in place but below is how I previously did it. I've also added some data to show that we are dealing with the longest of longest tails for this one."
   ]
  },
  {
   "cell_type": "code",
   "execution_count": null,
   "metadata": {},
   "outputs": [],
   "source": [
    "bpmeta_audio_df = tian.merge(\n",
    "    fact_bpmeta_audio_df,\n",
    "    fact_bp_track_audio_features_df[['track_id', 'title', 'track_url']],\n",
    "    on='track_id',\n",
    "    how='left'\n",
    ")\n",
    "\n",
    "bpmeta_audio_df"
   ]
  },
  {
   "cell_type": "code",
   "execution_count": null,
   "metadata": {},
   "outputs": [],
   "source": [
    "mix_replacements = {\n",
    "    \"continuous\": \"Set Mixed\",\n",
    "    \"live\": \"Set Mixed\",\n",
    "    \"remastered\": \"Remastered Mix\",\n",
    "    \"orginal\": \"Original Mix\",\n",
    "    \"ambient\": \"Ambient Mix\",\n",
    "    \"chill\": \"Ambient Mix\",\n",
    "    \"lounge\": \"Ambient Mix\",\n",
    "    \"rework\": \"Remastered Mix\",\n",
    "    \"remix\": \"Remix\",\n",
    "    \"original\": \"Original Mix\",\n",
    "    \"club\": \"Club Mix\",\n",
    "    \"dub\": \"Dub Mix\",\n",
    "    \"extended\": \"Extended Mix\",\n",
    "    \"instrumental\": \"Instrumental Mix\",\n",
    "    \"radio\": \"Radio Mix\",\n",
    "    \"vip\": \"Remix\",\n",
    "    \"album\": \"Album Mix\",\n",
    "    \"Continuous DJ Mix\": \"Mixed\",\n",
    "    \"Mix Cut\": \"Set Mixed\",\n",
    "    \"Mixed\": \"Set Mixed\",\n",
    "    \"Intro Mix\": \"Set Mixed\",\n",
    "    \"Edit\": \"Radio Edit\",\n",
    "    \"Main Mix\": \"Original Mix\",\n",
    "    \"Album Version\": \"Album Mix\",\n",
    "    \"Deep Mix\": \"Remix\",\n",
    "    \"House Mix\": \"Remix\",\n",
    "    \"Tribal Mix\": \"Remix\",\n",
    "    \"Intro\": \"Set Mixed\",\n",
    "    \"Edit Mix\": \"Radio Mix\",\n",
    "    \"Bonus Track\": \"Album Mix\"\n",
    "}\n",
    "\n",
    "# Function to clean up mix values\n",
    "def clean_mix_values(mix):\n",
    "    if isinstance(mix, str):\n",
    "        for key, value in mix_replacements.items():\n",
    "            if key.lower() in mix.lower():\n",
    "                return value\n",
    "    return mix\n",
    "\n",
    "\n",
    "bpmeta_audio_df['mix'] = bpmeta_audio_df['mix'].apply(clean_mix_values)\n",
    "total_rows = len(bpmeta_audio_df)\n",
    "top_20 = bpmeta_audio_df['mix'].value_counts().head(20)\n",
    "top_20_df = top_20.reset_index(name='count').rename(columns={'index': 'mix'})\n",
    "top_20_df['percent_of_total'] = (top_20_df['count'] / total_rows) * 100\n",
    "\n",
    "print(\"\\nTop 20 mix values after cleanup:\")\n",
    "print(top_20_df)\n"
   ]
  },
  {
   "cell_type": "markdown",
   "metadata": {},
   "source": [
    "I made the cache for bpmeta_audio_df down here and then moved the read cache part near the top with the rest. "
   ]
  },
  {
   "cell_type": "code",
   "execution_count": null,
   "metadata": {},
   "outputs": [],
   "source": [
    "bpmeta_audio_df.to_parquet('bpmeta_audio_df_cache.parquet', index=False)"
   ]
  },
  {
   "cell_type": "markdown",
   "metadata": {},
   "source": [
    "### A suspicious label data table\n",
    "\n",
    "I had an inkling that this old table I made was a botched attempt at joining label data to the other metadata. "
   ]
  },
  {
   "cell_type": "code",
   "execution_count": null,
   "metadata": {},
   "outputs": [],
   "source": [
    "df_deets(fact_label_bpmeta_audio_df)"
   ]
  },
  {
   "cell_type": "markdown",
   "metadata": {},
   "source": [
    "Based on the above, that's exactly what happened. I'm willing to bet I can just append label_name onto fact_bpmeta_audio_df and have that be that."
   ]
  },
  {
   "cell_type": "code",
   "execution_count": null,
   "metadata": {},
   "outputs": [],
   "source": [
    "bpmeta_audio_shield_df = tian.merge(bpmeta_audio_df, fact_label_bpmeta_audio_df[['track_id', 'label_name']],\n",
    "                     on='track_id', how='left')\n",
    "\n",
    "bpmeta_audio_shield_df "
   ]
  },
  {
   "cell_type": "code",
   "execution_count": null,
   "metadata": {},
   "outputs": [],
   "source": [
    "bpmeta_audio_shield_df.to_parquet('bpmeta_audio_shield_df_cache.parquet', index=False)\n",
    "\n",
    "df_deets(bpmeta_audio_shield_df)"
   ]
  },
  {
   "cell_type": "markdown",
   "metadata": {},
   "source": [
    "### Artist bios integration\n",
    "\n",
    "I scraped some aritst bios from Beatport in batches of 1,000 that were initially stored in separate files. This is where I bring them all together and have one list."
   ]
  },
  {
   "cell_type": "code",
   "execution_count": null,
   "metadata": {},
   "outputs": [],
   "source": [
    "#sort folder by created date and then grab\n",
    "def gcp_folder_sort(bucket, folder):\n",
    "    blobs = list(bucket.list_blobs(prefix=folder))\n",
    "    sorted_blobs = sorted(blobs, key=lambda x: x.time_created)\n",
    "    return sorted_blobs\n",
    "\n",
    "#combine csv files into one df\n",
    "def artists_united(bucket, folder):\n",
    "    sorted_blobs = gcp_folder_sort(bucket, folder)\n",
    "    artists_united_df = tian.DataFrame()\n",
    "    for blob in sorted_blobs:\n",
    "        if blob.name.endswith('.csv'):\n",
    "            the_drop = gcp_download(bucket.name, folder, blob.name.split('/')[-1])\n",
    "            the_drop = the_drop[['beatport_artist_id', 'artist_name', 'beatport_bio']]\n",
    "            artists_united_df = tian.concat([artists_united_df, the_drop], ignore_index=True)\n",
    "    artists_united_df = artists_united_df.drop_duplicates(ignore_index=True)        \n",
    "    return artists_united_df\n",
    "\n",
    "#save df back to gcp\n",
    "def paranoid_guard(df, bucket_name, gcp_folder, file_name):\n",
    "    bucket = storage_client.bucket(bucket_name)\n",
    "    csv_data = df.to_csv(index=False)\n",
    "    blob_name = f\"{gcp_folder}/{file_name}\".strip(\"/\")\n",
    "    blob = bucket.blob(blob_name)\n",
    "    blob.upload_from_string(csv_data, content_type='text/csv')\n"
   ]
  },
  {
   "cell_type": "code",
   "execution_count": null,
   "metadata": {},
   "outputs": [],
   "source": [
    "bppoints_artist_bios_csv = \"bppoints_artist_bios.csv\"\n",
    "\n",
    "bppoints_artist_bios_df = artists_united(uwsthoughts_bucket, bp_artist_bios_folder)\n",
    "\n",
    "paranoid_guard(bppoints_artist_bios_df, love_uwsthoughts, bp_artist_bios_folder, bppoints_artist_bios_csv)"
   ]
  },
  {
   "cell_type": "markdown",
   "metadata": {},
   "source": [
    "I decided I was only interested in the artists that had a bio so of the ~55,000 I started with, I ended up with ~48,000. "
   ]
  },
  {
   "cell_type": "code",
   "execution_count": null,
   "metadata": {},
   "outputs": [],
   "source": [
    "artist_bios_df = bppoints_artist_bios_df.drop_duplicates(subset='beatport_bio', keep='first')\n",
    "\n",
    "df_deets(artist_bios_df)"
   ]
  },
  {
   "cell_type": "code",
   "execution_count": null,
   "metadata": {},
   "outputs": [],
   "source": [
    "artist_bios_df.to_csv('/Users/uwsthoughts/Desktop/bp_spotify_raw_data/csv_data/artist_bios_df.csv', index=False)\n",
    "artist_bios_df.to_parquet('artist_bios_df_cache.parquet', index=False)"
   ]
  },
  {
   "cell_type": "markdown",
   "metadata": {},
   "source": [
    "### A big ol' effort to make human readable text\n",
    "\n",
    "A lot of my previous work has been premised on using different IDs to establish realtionships between data, with text values only coming in at the very end to help identify outputs. Now that I'm shifting into trying to use a large language model, I want text values instead of IDs so the model can tokenize and understand what it means. My thinking is that these IDs probably won't mean too much to it but it's probably been trained on enough data that it can make relationships with the addition data I give it. \n",
    "\n",
    "Below are a a few pieces that take me from ID mappings to human readable. I've never worked directly with an LLM before but my thinking is this: the human brain is essentially machine learning, perfected. In most languages, text is read left to right, top to bottom. If I create tables where the data can be read and understood by a human in a left to right fasion, an LLM should be able to do the same.\n",
    "\n",
    "That means I need to take a bunch of data I have in different palces and bring it all together into a few, human readable tables."
   ]
  },
  {
   "cell_type": "markdown",
   "metadata": {},
   "source": [
    "#### Data sample reference\n",
    "\n",
    "This is just a holding pen for samples of all the data I'm working with in this section. I used it as a reference point to confirm I was taking the right values from the right table. You can skip to 'The data in play' to see the actual work."
   ]
  },
  {
   "cell_type": "code",
   "execution_count": null,
   "metadata": {},
   "outputs": [],
   "source": [
    "df_list = [bpmeta_audio_shield_df, bp_artist_df, bp_artist_release_df, bp_artist_track_df, bp_label_df, bp_label_artist_df, bp_genre_df, bp_key_df]\n",
    "df_deets(df_list)"
   ]
  },
  {
   "cell_type": "markdown",
   "metadata": {},
   "source": [
    "#### Miami = synergy\n",
    "\n",
    "While each dataframe has it's column names printed as part of df_deets() above, for this specific part I needed all the column names neatly stacked on top of each other so I could figure out what needed to go where. I've been working with this data for a few months now so all these tables and fields mean something to me, with the samples above used as needed. The only one that isn't an original dataset is```bpmeta_audio_shield_df```."
   ]
  },
  {
   "cell_type": "code",
   "execution_count": null,
   "metadata": {},
   "outputs": [],
   "source": [
    "df_names = [\"bpmeta_audio_shield_df\", \"bp_artist_df\", \"bp_artist_release_df\", \"bp_artist_track_df\", \"bp_label_df\", \"bp_label_artist_df\", \"bp_genre_df\", \"bp_key_df\"]\n",
    "\n",
    "for name, df in zip(df_names, df_list):\n",
    "    print(f\"{name}:\\n {df.columns}\\n\")"
   ]
  },
  {
   "cell_type": "markdown",
   "metadata": {},
   "source": [
    "After looking at the above, I decided the best approach was to use ```bpmeta_audio_shield_df``` as the starting point and add in text values where it made sense. I did this with a couple of goals in mind:\n",
    "* Make copies of tables I want to change so that I can preserve original tables in their original structure\n",
    "* Combine data that can realistically go together, like the data saying which artists are on which labels"
   ]
  },
  {
   "cell_type": "markdown",
   "metadata": {},
   "source": [
    "#### From the underground to the world \n",
    "\n",
    "This first part is straight forward: there were separate tables for artist and label metadata and I wanted to see a label and its artists together. I thought of it has \"Anjunadeep has Marsh and Eli & Fur as artists.\" I kept the IDs and urls but tucked them in at the end. My spider sense says having those urls available later is going to be useful."
   ]
  },
  {
   "cell_type": "code",
   "execution_count": null,
   "metadata": {},
   "outputs": [],
   "source": [
    "label_artist_temp = tian.merge(bp_label_artist_df, bp_label_df, on='label_id', suffixes=('', '_label'))\n",
    "bp_artist_label_names_df = tian.merge(label_artist_temp, bp_artist_df, on='artist_id', suffixes=('', '_artist'))\n",
    "bp_artist_label_names_df = bp_artist_label_names_df[[ 'label_name', 'artist_name', 'label_id', 'label_url', 'artist_id', 'artist_url']]\n"
   ]
  },
  {
   "cell_type": "code",
   "execution_count": null,
   "metadata": {},
   "outputs": [],
   "source": [
    "df_deets(bp_artist_label_names_df)"
   ]
  },
  {
   "cell_type": "code",
   "execution_count": null,
   "metadata": {},
   "outputs": [],
   "source": [
    "bp_artist_label_names_df.to_parquet('bp_artist_label_names_df_cache.parquet', index=False)\n"
   ]
  },
  {
   "cell_type": "markdown",
   "metadata": {},
   "source": [
    "### Four to the floor\n",
    "\n",
    "Take a deep breath with me. From the above, I wanted to be able to say something like the following:\n",
    "\n",
    "> On August 18th, 2023, Mira released 'Celo' on Kiosk ID. Her first release in 2023, it was also her first foray into melodic house & techno. It brought a newer and edgier side to her growing repertoire.\n",
    "\n",
    "That led me to a table design that look like this:\n",
    "\n",
    "- release_date\n",
    "- artist_name\n",
    "- title\n",
    "- label_name\n",
    "- genre_name\n",
    "- bpm\n",
    "- key_id\n",
    "- mix\n",
    "- is_remixed\n",
    "- is_remixer\n",
    "- mode\n",
    "- valence\n",
    "- danceability\n",
    "- energy\n",
    "- speechiness\n",
    "- loudness\n",
    "- liveness\n",
    "- instrumentalness\n",
    "- acousticness\n",
    "- isrc\n",
    "- artist_id\n",
    "- artist_url\n",
    "- track_id\n",
    "- track_url\n",
    "- label_id\n",
    "- label_url\n",
    "- genre_id\n",
    "- genre_url\n",
    "\n",
    "All of the text values are one after another on the left, with IDs and urls at the end. I have text value descriptions for all these Spotift audio metrics so it's easy to see how those go from continuous 0-1 values to something a human can understand. But,as they say, that's a problem for a different day.\n",
    "\n",
    "To do this, I simply joined on the different IDs I needed, with track_id being the center of gravity. For now, I decided to have one track ID for each artist, which means multiple track IDs for each artist. In future work, I want to put all the artists together since the human brain doesn't separate out artists on a track like that. \n"
   ]
  },
  {
   "cell_type": "code",
   "execution_count": null,
   "metadata": {},
   "outputs": [],
   "source": [
    "bp_track_artist_merge = tian.merge(bpmeta_audio_shield_df, bp_artist_track_df, on='track_id', suffixes=('', '_artist'))\n",
    "bp_track_artist_label_merge = tian.merge(bp_track_artist_merge, bp_artist_df, on='artist_id', suffixes=('', '_artist_info'))\n",
    "bp_track_artist_label_merge = tian.merge(bp_track_artist_label_merge, bp_label_df, on='label_id', suffixes=('', '_label'))\n",
    "bp_track_artist_label_merge = tian.merge(bp_track_artist_label_merge, bp_genre_df, on='genre_id', suffixes=('', '_genre'))\n",
    "bp_text_values_df = bp_track_artist_label_merge[[\n",
    "    'release_date', 'artist_name', 'title',  'label_name', 'duration', 'genre_name', 'bpm', 'key_id', 'mix', 'is_remixed', 'is_remixer',  \n",
    "    'mode', 'valence', 'danceability', 'energy', 'speechiness', 'loudness', 'liveness', 'instrumentalness', 'acousticness', 'isrc', 'artist_id', 'artist_url', \n",
    "    'track_id', 'track_url', 'label_id', 'label_url', 'genre_id', 'genre_url'\n",
    "]]"
   ]
  },
  {
   "cell_type": "markdown",
   "metadata": {},
   "source": [
    "This brought me this beatifully massive table. On spec, it looks how I wanted. I need to handle things like ```is_remixed``` and ```is_remixer``` since they're telling the same story from different perspectives."
   ]
  },
  {
   "cell_type": "code",
   "execution_count": null,
   "metadata": {},
   "outputs": [],
   "source": [
    "df_deets(bp_text_values_df)"
   ]
  },
  {
   "cell_type": "markdown",
   "metadata": {},
   "source": [
    "All of that work means I can also find artists I'm looking for much easier. Text values as IDs are, generally speaking, not great because it's easy to have overlaps and duplicates. For example, ```Mira (Berlin)``` has (Berlin) after her name because 1) she's from Berlin so it clearly identifies her and there's another ```Mira``` on Beatport and so someone has to change a bit. This is the divergence between the relational database world I've lived in and the more unstructured world of LLMs. I also didn't deal with ```bp_key_df``` meaningfully because it's a whole separate chunk of work to make it ready to add to this one. The key_id was preserved so I can easily return to it when ready. "
   ]
  },
  {
   "cell_type": "code",
   "execution_count": null,
   "metadata": {},
   "outputs": [],
   "source": [
    "# bp_text_values_df[(bp_text_values_df['artist_name'] == 'Fideles') & (bp_text_values_df['title'] == 'Away With Me')].sort_values(by='release_date', ascending=False)\n",
    "bp_text_values_df[bp_text_values_df['artist_name'] == 'Mira (Berlin)'].sort_values(by='release_date', ascending=False).head(10)\n"
   ]
  },
  {
   "cell_type": "code",
   "execution_count": null,
   "metadata": {},
   "outputs": [],
   "source": [
    "bp_text_values_df.to_parquet('bp_text_values_df_cache.parquet', index=False)\n"
   ]
  },
  {
   "cell_type": "markdown",
   "metadata": {},
   "source": [
    "## Tokenizing Work\n",
    "\n",
    "Initial work using Hugging Face and Langchain to access and use the folllowing open source Large Language Models (LLMs):\n",
    "\n",
    "* [Meta's Llama 3.1-8B](https://www.llama.com/docs/model-cards-and-prompt-formats/llama3_1#llama-3.1)\n",
    "* [Meta's Llama-3.2-11B-Vision](https://www.llama.com/docs/model-cards-and-prompt-formats/llama3_2#-llama-3.2-vision-models-(11b/90b)-)\n",
    "\n",
    "First, I'm gonna bring in the files I cached. If you're following along at home, this notebook is coming together over several different sessions and I need a mechanism to bring the data back. I could redownload from GCP but that seems excessive."
   ]
  },
  {
   "cell_type": "markdown",
   "metadata": {},
   "source": [
    "### If we say tokens enough times, they appear"
   ]
  },
  {
   "cell_type": "code",
   "execution_count": 6,
   "metadata": {},
   "outputs": [],
   "source": [
    "llama_318b = \"meta-llama/Meta-Llama-3.1-8B\"\n",
    "llama_318b_tokenizer = AutoTokenizer.from_pretrained(llama_318b, token=\"HUGGING_FACE_READ_TOKEN_LLAMA\")\n",
    "\n",
    "llama_3211b = \"meta-llama/Llama-3.2-11B-Vision\"\n",
    "llama_3211b_tokenizer = AutoTokenizer.from_pretrained(llama_3211b)\n",
    "\n",
    "logging.basicConfig(filename='/Users/uwsthoughts/Desktop/dolly_shield_local/tokenization_logs.txt', level=logging.INFO, format='%(asctime)s - %(message)s')\n",
    "\n",
    "def melodies(row):\n",
    "    text = (\n",
    "        f\"Track ID: {row['track_id']}, Title: {row['title']}, \"\n",
    "        f\"Artist: {row['artist_name']}, Artist ID: {row['artist_id']}, \"\n",
    "        f\"Genre: {row['genre_name']}, Genre ID: {row['genre_id']}, \"\n",
    "        f\"Label: {row['label_name']}, Label ID: {row['label_id']}, \"\n",
    "        f\"Release Date: {row['release_date']}, Track URL: {row['track_url']}, \"\n",
    "        f\"Mix: {row['mix']}, Remix: {'Yes' if row['is_remixed'] else 'No'}, \"\n",
    "        f\"Remixer: {'Yes' if row['is_remixer'] else 'No'}, Duration: {row['duration']} minutes, \"\n",
    "        f\"BPM: {row['bpm']}, Key ID: {row['key_id']}, \"\n",
    "        f\"Mode: {row['mode']}, Valence: {row['valence']}, Danceability: {row['danceability']}, \"\n",
    "        f\"Energy: {row['energy']}, Speechiness: {row['speechiness']}, \"\n",
    "        f\"Loudness: {row['loudness']}, Liveness: {row['liveness']}, \"\n",
    "        f\"Instrumentalness: {row['instrumentalness']}, Acousticness: {row['acousticness']}, \"\n",
    "        f\"ISRC: {row['isrc']}, Artist URL: {row['artist_url']}, Label URL: {row['label_url']}, \"\n",
    "        f\"Genre URL: {row['genre_url']}.\"\n",
    "    )\n",
    "    return text\n",
    "\n",
    "def find_your_flow(dataframe, farm_trips):\n",
    "    hay_barrels = (len(dataframe) // farm_trips) + 1\n",
    "    full_shed = []\n",
    "\n",
    "    for i in range(0, hay_barrels, 20):\n",
    "        last_barrel = min(i + 20, hay_barrels)\n",
    "        for barrel in tqdm(range(i, last_barrel), desc=f\"Processing batches {i+1}-{last_barrel}\"):\n",
    "            fresh_cut = barrel * farm_trips\n",
    "            full_up = min((barrel + 1) * farm_trips, len(dataframe))\n",
    "            batch_df = dataframe.iloc[fresh_cut:full_up]\n",
    "            \n",
    "            full_barrel = [melodies(row) for _, row in tqdm(batch_df.iterrows(), total=len(batch_df), desc=f\"Processing batch {barrel+1}/{hay_barrels}\")]\n",
    "            full_shed.extend(full_barrel)\n",
    "    \n",
    "    return full_shed\n",
    "\n",
    "\n",
    "def dolly_tunes(texts, farm_trips):\n",
    "    hay_barrels = (len(texts) // farm_trips) + 1\n",
    "    dolly_grazing = []\n",
    "\n",
    "    #sample of 100 random rows \n",
    "    sample_indices = random.sample(range(len(texts)), min(100, len(texts)))\n",
    "\n",
    "    for i in range(0, hay_barrels, 20):\n",
    "        last_barrel = min(i + 20, hay_barrels)\n",
    "        for barrel in tqdm(range(i, last_barrel), desc=f\"Tokenizing batches {i+1}-{last_barrel}\"):\n",
    "            fresh_cut = barrel * farm_trips\n",
    "            full_up = min((barrel + 1) * farm_trips, len(texts))\n",
    "            full_barrel = texts[fresh_cut:full_up]\n",
    "            \n",
    "            #Tokenization of batch\n",
    "            full_truck = llama_3211b_tokenizer(\n",
    "                full_barrel,\n",
    "                return_tensors=\"tf\",\n",
    "                truncation=True,\n",
    "                padding=True\n",
    "            )\n",
    "\n",
    "            for idx, text in enumerate(full_barrel):\n",
    "                tokens = llama_3211b_tokenizer.tokenize(text)\n",
    "                token_ids = llama_3211b_tokenizer.convert_tokens_to_ids(tokens)\n",
    "\n",
    "                #log all tokens into file\n",
    "                logging.info(f\"Text: {text}\\nTokens: {tokens}\\nToken IDs: {token_ids}\")\n",
    "\n",
    "                #print out match rows of random sample using global index\n",
    "                global_idx = fresh_cut + idx  \n",
    "                if global_idx in sample_indices:\n",
    "                    print(\"Tokens:\", tokens)\n",
    "                    print(\"Token IDs:\", token_ids)\n",
    "\n",
    "            dolly_grazing.append(full_truck)\n",
    "\n",
    "    return dolly_grazing\n",
    "\n",
    "# def dolly_tunes(texts, farm_trips):\n",
    "#     hay_barrels = (len(texts) // farm_trips) + 1\n",
    "#     dolly_grazing = []\n",
    "\n",
    "#     for i in range(0, hay_barrels, 20):\n",
    "#         last_barrel = min(i + 20, hay_barrels)\n",
    "#         for barrel in tqdm(range(i, last_barrel), desc=f\"Tokenizing batches {i+1}-{last_barrel}\"):\n",
    "#             fresh_cut = barrel * farm_trips\n",
    "#             full_up = min((barrel + 1) * farm_trips, len(texts))\n",
    "#             full_barrel = texts[fresh_cut:full_up]\n",
    "            \n",
    "#             full_truck = llama_3211b_tokenizer(full_barrel, return_tensors=\"tf\", truncation=True, padding=True)\n",
    "#             dolly_grazing.append(full_truck)\n",
    "    \n",
    "#     return dolly_grazing\n",
    "\n"
   ]
  },
  {
   "cell_type": "code",
   "execution_count": null,
   "metadata": {},
   "outputs": [],
   "source": [
    "# versions of above that have standard names for fields so I can underdstand\n",
    "\n",
    "# def find_your_flow(dataframe, batch_size):\n",
    "#     num_batches = (len(dataframe) // batch_size) + 1\n",
    "#     all_texts = []\n",
    "\n",
    "#     for i in range(0, num_batches, 20):\n",
    "#         end_batch = min(i + 20, num_batches)\n",
    "#         for batch_idx in tqdm(range(i, end_batch), desc=f\"Processing batches {i+1}-{end_batch}\"):\n",
    "#             start_idx = batch_idx * batch_size\n",
    "#             end_idx = min((batch_idx + 1) * batch_size, len(dataframe))\n",
    "#             batch_df = dataframe.iloc[start_idx:end_idx]\n",
    "            \n",
    "#             batch_texts = [melodies(row) for _, row in tqdm(batch_df.iterrows(), total=len(batch_df), desc=f\"Processing batch {batch_idx+1}/{num_batches}\")]\n",
    "#             all_texts.extend(batch_texts)\n",
    "    \n",
    "#     return all_texts\n",
    "\n",
    "# def dolly_tunes(texts, batch_size):\n",
    "#     num_batches = (len(texts) // batch_size) + 1\n",
    "#     tokenized_batches = []\n",
    "\n",
    "#     for i in range(0, num_batches, 20):\n",
    "#         end_batch = min(i + 20, num_batches)\n",
    "#         for batch_idx in tqdm(range(i, end_batch), desc=f\"Tokenizing batches {i+1}-{end_batch}\"):\n",
    "#             start_idx = batch_idx * batch_size\n",
    "#             end_idx = min((batch_idx + 1) * batch_size, len(texts))\n",
    "#             batch_texts = texts[start_idx:end_idx]\n",
    "            \n",
    "#             large_token = llama_3211b_tokenizer(batch_texts, return_tensors=\"tf\", truncation=True, padding=True)\n",
    "#             tokenized_batches.append(large_token)\n",
    "    \n",
    "#     return tokenized_batches\n"
   ]
  },
  {
   "cell_type": "markdown",
   "metadata": {},
   "source": [
    "Dolly tunes that supports visualizations"
   ]
  },
  {
   "cell_type": "code",
   "execution_count": 9,
   "metadata": {},
   "outputs": [],
   "source": [
    "import random\n",
    "import logging\n",
    "from collections import Counter\n",
    "import matplotlib.pyplot as plt\n",
    "import seaborn as sns\n",
    "\n",
    "# Set up logging configuration\n",
    "logging.basicConfig(filename='tokenization_log.txt', level=logging.INFO, format='%(asctime)s - %(message)s')\n",
    "\n",
    "def dolly_tunes(texts, farm_trips):\n",
    "    hay_barrels = (len(texts) // farm_trips) + 1\n",
    "    dolly_grazing = []\n",
    "\n",
    "    # Variables for analysis\n",
    "    all_tokens = []\n",
    "    token_lengths = []\n",
    "    vocabulary_growth = []\n",
    "    sample_indices = random.sample(range(len(texts)), min(100, len(texts)))\n",
    "\n",
    "    for i in range(0, hay_barrels, 20):\n",
    "        last_barrel = min(i + 20, hay_barrels)\n",
    "        for barrel in tqdm(range(i, last_barrel), desc=f\"Tokenizing batches {i+1}-{last_barrel}\"):\n",
    "            fresh_cut = barrel * farm_trips\n",
    "            full_up = min((barrel + 1) * farm_trips, len(texts))\n",
    "            full_barrel = texts[fresh_cut:full_up]\n",
    "            \n",
    "            # Tokenization of batch\n",
    "            full_truck = llama_3211b_tokenizer(\n",
    "                full_barrel,\n",
    "                return_tensors=\"tf\",\n",
    "                truncation=True,\n",
    "                padding=True\n",
    "            )\n",
    "\n",
    "            for idx, text in enumerate(full_barrel):\n",
    "                tokens = llama_3211b_tokenizer.tokenize(text)\n",
    "                token_ids = llama_3211b_tokenizer.convert_tokens_to_ids(tokens)\n",
    "\n",
    "                # Collect tokens for analysis\n",
    "                all_tokens.extend(tokens)\n",
    "                token_lengths.extend([len(token) for token in tokens])\n",
    "                \n",
    "                # Log all tokens into file\n",
    "                logging.info(f\"Text: {text}\\nTokens: {tokens}\\nToken IDs: {token_ids}\")\n",
    "\n",
    "                # Print out matching rows of random sample using global index\n",
    "                global_idx = fresh_cut + idx  \n",
    "                if global_idx in sample_indices:\n",
    "                    print(\"Tokens:\", tokens)\n",
    "                    print(\"Token IDs:\", token_ids)\n",
    "\n",
    "            dolly_grazing.append(full_truck)\n",
    "            vocabulary_growth.append(len(set(all_tokens)))\n",
    "\n",
    "    # Summarize Token Statistics\n",
    "    summarize_token_statistics(all_tokens, token_lengths)\n",
    "\n",
    "    # Token Frequency Analysis\n",
    "    token_frequency_analysis(all_tokens)\n",
    "\n",
    "    # Visualize Aggregated Data\n",
    "    visualize_vocabulary_growth(vocabulary_growth)\n",
    "    visualize_token_length_distribution(token_lengths)\n",
    "    visualize_token_frequency_heatmap(all_tokens)\n",
    "\n",
    "    return dolly_grazing\n",
    "\n",
    "# Function to summarize token statistics\n",
    "def summarize_token_statistics(all_tokens, token_lengths):\n",
    "    avg_length = sum(token_lengths) / len(token_lengths) if len(token_lengths) > 0 else 0\n",
    "    print(f\"Total number of tokens: {len(all_tokens)}\")\n",
    "    print(f\"Vocabulary size: {len(set(all_tokens))}\")\n",
    "    print(f\"Average token length: {avg_length}\")\n",
    "    print(f\"Minimum token length: {min(token_lengths)}\")\n",
    "    print(f\"Maximum token length: {max(token_lengths)}\")\n",
    "\n",
    "# Function for Token Frequency Analysis\n",
    "def token_frequency_analysis(all_tokens):\n",
    "    token_counts = Counter(all_tokens)\n",
    "    most_common_tokens = token_counts.most_common(20)\n",
    "    print(\"\\nMost Common Tokens:\")\n",
    "    for token, count in most_common_tokens:\n",
    "        print(f\"{token}: {count}\")\n",
    "\n",
    "# Function to visualize vocabulary growth\n",
    "def visualize_vocabulary_growth(vocabulary_growth):\n",
    "    plt.figure(figsize=(10, 6))\n",
    "    plt.plot(vocabulary_growth)\n",
    "    plt.xlabel('Batch Number')\n",
    "    plt.ylabel('Vocabulary Size')\n",
    "    plt.title('Vocabulary Growth Over Time')\n",
    "    plt.show()\n",
    "\n",
    "# Function to visualize token length distribution\n",
    "def visualize_token_length_distribution(token_lengths):\n",
    "    plt.figure(figsize=(10, 6))\n",
    "    plt.hist(token_lengths, bins=20, color='skyblue', edgecolor='black')\n",
    "    plt.xlabel('Token Length')\n",
    "    plt.ylabel('Frequency')\n",
    "    plt.title('Token Length Distribution')\n",
    "    plt.show()\n",
    "\n",
    "# Function to visualize token frequency heatmap\n",
    "def visualize_token_frequency_heatmap(all_tokens):\n",
    "    token_counts = Counter(all_tokens)\n",
    "    top_tokens = [token for token, _ in token_counts.most_common(20)]\n",
    "    top_token_counts = [token_counts[token] for token in top_tokens]\n",
    "\n",
    "    plt.figure(figsize=(10, 6))\n",
    "    sns.heatmap([top_token_counts], annot=True, cmap='YlGnBu', xticklabels=top_tokens)\n",
    "   \n"
   ]
  },
  {
   "cell_type": "code",
   "execution_count": 7,
   "metadata": {},
   "outputs": [
    {
     "name": "stderr",
     "output_type": "stream",
     "text": [
      "Processing batch 1/191: 100%|██████████| 50000/50000 [00:01<00:00, 32801.32it/s]\n",
      "Processing batch 2/191: 100%|██████████| 50000/50000 [00:01<00:00, 32199.59it/s]\n",
      "Processing batch 3/191: 100%|██████████| 50000/50000 [00:01<00:00, 32956.93it/s]\n",
      "Processing batch 4/191: 100%|██████████| 50000/50000 [00:01<00:00, 31053.80it/s]\n",
      "Processing batch 5/191: 100%|██████████| 50000/50000 [00:01<00:00, 33235.40it/s]\n",
      "Processing batch 6/191: 100%|██████████| 50000/50000 [00:01<00:00, 32753.55it/s]\n",
      "Processing batch 7/191: 100%|██████████| 50000/50000 [00:01<00:00, 33094.96it/s]\n",
      "Processing batch 8/191: 100%|██████████| 50000/50000 [00:01<00:00, 32097.25it/s]\n",
      "Processing batch 9/191: 100%|██████████| 50000/50000 [00:01<00:00, 31640.97it/s]\n",
      "Processing batch 10/191: 100%|██████████| 50000/50000 [00:01<00:00, 31172.07it/s]\n",
      "Processing batch 11/191: 100%|██████████| 50000/50000 [00:01<00:00, 31462.69it/s]\n",
      "Processing batch 12/191: 100%|██████████| 50000/50000 [00:01<00:00, 31430.33it/s]\n",
      "Processing batch 13/191: 100%|██████████| 50000/50000 [00:01<00:00, 31425.62it/s]\n",
      "Processing batch 14/191: 100%|██████████| 50000/50000 [00:01<00:00, 31127.66it/s]\n",
      "Processing batch 15/191: 100%|██████████| 50000/50000 [00:01<00:00, 31382.99it/s]\n",
      "Processing batch 16/191: 100%|██████████| 50000/50000 [00:01<00:00, 31804.55it/s]\n",
      "Processing batch 17/191: 100%|██████████| 50000/50000 [00:01<00:00, 32098.90it/s]\n",
      "Processing batch 18/191: 100%|██████████| 50000/50000 [00:01<00:00, 31643.47it/s]\n",
      "Processing batch 19/191: 100%|██████████| 50000/50000 [00:01<00:00, 32211.60it/s]\n",
      "Processing batch 20/191: 100%|██████████| 50000/50000 [00:01<00:00, 30819.56it/s]\n",
      "Processing batches 1-20: 100%|██████████| 20/20 [00:31<00:00,  1.57s/it]\n",
      "Processing batch 21/191: 100%|██████████| 50000/50000 [00:01<00:00, 31102.69it/s]\n",
      "Processing batch 22/191: 100%|██████████| 50000/50000 [00:01<00:00, 30965.12it/s]\n",
      "Processing batch 23/191: 100%|██████████| 50000/50000 [00:01<00:00, 30532.04it/s]\n",
      "Processing batch 24/191: 100%|██████████| 50000/50000 [00:01<00:00, 31315.35it/s]\n",
      "Processing batch 25/191: 100%|██████████| 50000/50000 [00:01<00:00, 30729.22it/s]\n",
      "Processing batch 26/191: 100%|██████████| 50000/50000 [00:01<00:00, 31883.85it/s]\n",
      "Processing batch 27/191: 100%|██████████| 50000/50000 [00:01<00:00, 31520.54it/s]\n",
      "Processing batch 28/191: 100%|██████████| 50000/50000 [00:01<00:00, 31184.75it/s]\n",
      "Processing batch 29/191: 100%|██████████| 50000/50000 [00:01<00:00, 32450.36it/s]\n",
      "Processing batch 30/191: 100%|██████████| 50000/50000 [00:01<00:00, 32357.51it/s]\n",
      "Processing batch 31/191: 100%|██████████| 50000/50000 [00:01<00:00, 32521.85it/s]\n",
      "Processing batch 32/191: 100%|██████████| 50000/50000 [00:01<00:00, 32194.51it/s]\n",
      "Processing batch 33/191: 100%|██████████| 50000/50000 [00:01<00:00, 31288.49it/s]\n",
      "Processing batch 34/191: 100%|██████████| 50000/50000 [00:01<00:00, 31046.57it/s]\n",
      "Processing batch 35/191: 100%|██████████| 50000/50000 [00:01<00:00, 32083.61it/s]\n",
      "Processing batch 36/191: 100%|██████████| 50000/50000 [00:01<00:00, 31579.33it/s]\n",
      "Processing batch 37/191: 100%|██████████| 50000/50000 [00:01<00:00, 32328.42it/s]\n",
      "Processing batch 38/191: 100%|██████████| 50000/50000 [00:01<00:00, 32462.66it/s]\n",
      "Processing batch 39/191: 100%|██████████| 50000/50000 [00:01<00:00, 32163.94it/s]\n",
      "Processing batch 40/191: 100%|██████████| 50000/50000 [00:01<00:00, 32501.18it/s]\n",
      "Processing batches 21-40: 100%|██████████| 20/20 [00:31<00:00,  1.58s/it]\n",
      "Processing batch 41/191: 100%|██████████| 50000/50000 [00:01<00:00, 31862.42it/s]\n",
      "Processing batch 42/191: 100%|██████████| 50000/50000 [00:01<00:00, 31265.83it/s]\n",
      "Processing batch 43/191: 100%|██████████| 50000/50000 [00:01<00:00, 32414.55it/s]\n",
      "Processing batch 44/191: 100%|██████████| 50000/50000 [00:01<00:00, 32324.86it/s]\n",
      "Processing batch 45/191: 100%|██████████| 50000/50000 [00:01<00:00, 32007.60it/s]\n",
      "Processing batch 46/191: 100%|██████████| 50000/50000 [00:01<00:00, 32015.68it/s]\n",
      "Processing batch 47/191: 100%|██████████| 50000/50000 [00:01<00:00, 32801.17it/s]\n",
      "Processing batch 48/191: 100%|██████████| 50000/50000 [00:01<00:00, 32987.65it/s]\n",
      "Processing batch 49/191: 100%|██████████| 50000/50000 [00:01<00:00, 32916.83it/s]\n",
      "Processing batch 50/191: 100%|██████████| 50000/50000 [00:01<00:00, 32176.40it/s]\n",
      "Processing batch 51/191: 100%|██████████| 50000/50000 [00:01<00:00, 32392.51it/s]\n",
      "Processing batch 52/191: 100%|██████████| 50000/50000 [00:01<00:00, 32074.33it/s]\n",
      "Processing batch 53/191: 100%|██████████| 50000/50000 [00:01<00:00, 32628.35it/s]\n",
      "Processing batch 54/191: 100%|██████████| 50000/50000 [00:01<00:00, 32308.29it/s]\n",
      "Processing batch 55/191: 100%|██████████| 50000/50000 [00:01<00:00, 32352.51it/s]\n",
      "Processing batch 56/191: 100%|██████████| 50000/50000 [00:01<00:00, 32162.10it/s]\n",
      "Processing batch 57/191: 100%|██████████| 50000/50000 [00:01<00:00, 32256.05it/s]\n",
      "Processing batch 58/191: 100%|██████████| 50000/50000 [00:01<00:00, 32262.83it/s]\n",
      "Processing batch 59/191: 100%|██████████| 50000/50000 [00:01<00:00, 31887.57it/s]\n",
      "Processing batch 60/191: 100%|██████████| 50000/50000 [00:01<00:00, 32528.83it/s]\n",
      "Processing batches 41-60: 100%|██████████| 20/20 [00:31<00:00,  1.55s/it]\n",
      "Processing batch 61/191: 100%|██████████| 50000/50000 [00:01<00:00, 32004.03it/s]\n",
      "Processing batch 62/191: 100%|██████████| 50000/50000 [00:01<00:00, 31402.95it/s]\n",
      "Processing batch 63/191: 100%|██████████| 50000/50000 [00:01<00:00, 30687.54it/s]\n",
      "Processing batch 64/191: 100%|██████████| 50000/50000 [00:01<00:00, 31100.89it/s]\n",
      "Processing batch 65/191: 100%|██████████| 50000/50000 [00:01<00:00, 31593.92it/s]\n",
      "Processing batch 66/191: 100%|██████████| 50000/50000 [00:01<00:00, 31655.71it/s]\n",
      "Processing batch 67/191: 100%|██████████| 50000/50000 [00:01<00:00, 32362.67it/s]\n",
      "Processing batch 68/191: 100%|██████████| 50000/50000 [00:01<00:00, 32805.71it/s]\n",
      "Processing batch 69/191: 100%|██████████| 50000/50000 [00:01<00:00, 31825.07it/s]\n",
      "Processing batch 70/191: 100%|██████████| 50000/50000 [00:01<00:00, 32545.96it/s]\n",
      "Processing batch 71/191: 100%|██████████| 50000/50000 [00:01<00:00, 32587.43it/s]\n",
      "Processing batch 72/191: 100%|██████████| 50000/50000 [00:01<00:00, 32476.45it/s]\n",
      "Processing batch 73/191: 100%|██████████| 50000/50000 [00:01<00:00, 32758.66it/s]\n",
      "Processing batch 74/191: 100%|██████████| 50000/50000 [00:01<00:00, 32729.69it/s]\n",
      "Processing batch 75/191: 100%|██████████| 50000/50000 [00:01<00:00, 32831.32it/s]\n",
      "Processing batch 76/191: 100%|██████████| 50000/50000 [00:01<00:00, 32758.53it/s]\n",
      "Processing batch 77/191: 100%|██████████| 50000/50000 [00:01<00:00, 32836.06it/s]\n",
      "Processing batch 78/191: 100%|██████████| 50000/50000 [00:01<00:00, 32779.81it/s]\n",
      "Processing batch 79/191: 100%|██████████| 50000/50000 [00:01<00:00, 32742.08it/s]\n",
      "Processing batch 80/191: 100%|██████████| 50000/50000 [00:01<00:00, 32698.90it/s]\n",
      "Processing batches 61-80: 100%|██████████| 20/20 [00:31<00:00,  1.56s/it]\n",
      "Processing batch 81/191: 100%|██████████| 50000/50000 [00:01<00:00, 32918.52it/s]\n",
      "Processing batch 82/191: 100%|██████████| 50000/50000 [00:01<00:00, 32847.24it/s]\n",
      "Processing batch 83/191: 100%|██████████| 50000/50000 [00:01<00:00, 32733.56it/s]\n",
      "Processing batch 84/191: 100%|██████████| 50000/50000 [00:01<00:00, 32876.31it/s]\n",
      "Processing batch 85/191: 100%|██████████| 50000/50000 [00:01<00:00, 32766.26it/s]\n",
      "Processing batch 86/191: 100%|██████████| 50000/50000 [00:01<00:00, 32834.32it/s]\n",
      "Processing batch 87/191: 100%|██████████| 50000/50000 [00:01<00:00, 32857.53it/s]\n",
      "Processing batch 88/191: 100%|██████████| 50000/50000 [00:01<00:00, 32637.31it/s]\n",
      "Processing batch 89/191: 100%|██████████| 50000/50000 [00:01<00:00, 32316.97it/s]\n",
      "Processing batch 90/191: 100%|██████████| 50000/50000 [00:01<00:00, 32726.52it/s]\n",
      "Processing batch 91/191: 100%|██████████| 50000/50000 [00:01<00:00, 32472.36it/s]\n",
      "Processing batch 92/191: 100%|██████████| 50000/50000 [00:01<00:00, 32227.37it/s]\n",
      "Processing batch 93/191: 100%|██████████| 50000/50000 [00:01<00:00, 32148.53it/s]\n",
      "Processing batch 94/191: 100%|██████████| 50000/50000 [00:01<00:00, 32589.64it/s]\n",
      "Processing batch 95/191: 100%|██████████| 50000/50000 [00:01<00:00, 32598.81it/s]\n",
      "Processing batch 96/191: 100%|██████████| 50000/50000 [00:01<00:00, 32909.28it/s]\n",
      "Processing batch 97/191: 100%|██████████| 50000/50000 [00:01<00:00, 32715.51it/s]\n",
      "Processing batch 98/191: 100%|██████████| 50000/50000 [00:01<00:00, 32543.27it/s]\n",
      "Processing batch 99/191: 100%|██████████| 50000/50000 [00:01<00:00, 32627.09it/s]\n",
      "Processing batch 100/191: 100%|██████████| 50000/50000 [00:01<00:00, 32608.66it/s]\n",
      "Processing batches 81-100: 100%|██████████| 20/20 [00:30<00:00,  1.54s/it]\n",
      "Processing batch 101/191: 100%|██████████| 50000/50000 [00:01<00:00, 32775.53it/s]\n",
      "Processing batch 102/191: 100%|██████████| 50000/50000 [00:01<00:00, 32700.26it/s]\n",
      "Processing batch 103/191: 100%|██████████| 50000/50000 [00:01<00:00, 32960.18it/s]\n",
      "Processing batch 104/191: 100%|██████████| 50000/50000 [00:01<00:00, 32384.63it/s]\n",
      "Processing batch 105/191: 100%|██████████| 50000/50000 [00:01<00:00, 32517.20it/s]\n",
      "Processing batch 106/191: 100%|██████████| 50000/50000 [00:01<00:00, 32619.95it/s]\n",
      "Processing batch 107/191: 100%|██████████| 50000/50000 [00:01<00:00, 32501.68it/s]\n",
      "Processing batch 108/191: 100%|██████████| 50000/50000 [00:01<00:00, 32675.06it/s]\n",
      "Processing batch 109/191: 100%|██████████| 50000/50000 [00:01<00:00, 32661.34it/s]\n",
      "Processing batch 110/191: 100%|██████████| 50000/50000 [00:01<00:00, 32674.48it/s]\n",
      "Processing batch 111/191: 100%|██████████| 50000/50000 [00:01<00:00, 32201.68it/s]\n",
      "Processing batch 112/191: 100%|██████████| 50000/50000 [00:01<00:00, 32402.56it/s]\n",
      "Processing batch 113/191: 100%|██████████| 50000/50000 [00:01<00:00, 32750.78it/s]\n",
      "Processing batch 114/191: 100%|██████████| 50000/50000 [00:01<00:00, 32511.63it/s]\n",
      "Processing batch 115/191: 100%|██████████| 50000/50000 [00:01<00:00, 32533.29it/s]\n",
      "Processing batch 116/191: 100%|██████████| 50000/50000 [00:01<00:00, 32091.77it/s]\n",
      "Processing batch 117/191: 100%|██████████| 50000/50000 [00:01<00:00, 32502.23it/s]\n",
      "Processing batch 118/191: 100%|██████████| 50000/50000 [00:01<00:00, 32224.57it/s]\n",
      "Processing batch 119/191: 100%|██████████| 50000/50000 [00:01<00:00, 32551.34it/s]\n",
      "Processing batch 120/191: 100%|██████████| 50000/50000 [00:01<00:00, 32682.64it/s]\n",
      "Processing batches 101-120: 100%|██████████| 20/20 [00:30<00:00,  1.54s/it]\n",
      "Processing batch 121/191: 100%|██████████| 50000/50000 [00:01<00:00, 32750.63it/s]\n",
      "Processing batch 122/191: 100%|██████████| 50000/50000 [00:01<00:00, 31945.76it/s]\n",
      "Processing batch 123/191: 100%|██████████| 50000/50000 [00:01<00:00, 32568.88it/s]\n",
      "Processing batch 124/191: 100%|██████████| 50000/50000 [00:01<00:00, 32484.58it/s]\n",
      "Processing batch 125/191: 100%|██████████| 50000/50000 [00:01<00:00, 32626.99it/s]\n",
      "Processing batch 126/191: 100%|██████████| 50000/50000 [00:01<00:00, 32648.31it/s]\n",
      "Processing batch 127/191: 100%|██████████| 50000/50000 [00:01<00:00, 32422.52it/s]\n",
      "Processing batch 128/191: 100%|██████████| 50000/50000 [00:01<00:00, 32708.81it/s]\n",
      "Processing batch 129/191: 100%|██████████| 50000/50000 [00:01<00:00, 32557.89it/s]\n",
      "Processing batch 130/191: 100%|██████████| 50000/50000 [00:01<00:00, 32485.69it/s]\n",
      "Processing batch 131/191: 100%|██████████| 50000/50000 [00:01<00:00, 32377.89it/s]\n",
      "Processing batch 132/191: 100%|██████████| 50000/50000 [00:01<00:00, 32592.53it/s]\n",
      "Processing batch 133/191: 100%|██████████| 50000/50000 [00:01<00:00, 32802.96it/s]\n",
      "Processing batch 134/191: 100%|██████████| 50000/50000 [00:01<00:00, 32175.86it/s]\n",
      "Processing batch 135/191: 100%|██████████| 50000/50000 [00:01<00:00, 32493.68it/s]\n",
      "Processing batch 136/191: 100%|██████████| 50000/50000 [00:01<00:00, 32503.31it/s]\n",
      "Processing batch 137/191: 100%|██████████| 50000/50000 [00:01<00:00, 32622.98it/s]\n",
      "Processing batch 138/191: 100%|██████████| 50000/50000 [00:01<00:00, 32415.19it/s]\n",
      "Processing batch 139/191: 100%|██████████| 50000/50000 [00:01<00:00, 32531.77it/s]\n",
      "Processing batch 140/191: 100%|██████████| 50000/50000 [00:01<00:00, 32825.26it/s]\n",
      "Processing batches 121-140: 100%|██████████| 20/20 [00:30<00:00,  1.54s/it]\n",
      "Processing batch 141/191: 100%|██████████| 50000/50000 [00:01<00:00, 32259.25it/s]\n",
      "Processing batch 142/191: 100%|██████████| 50000/50000 [00:01<00:00, 31900.45it/s]\n",
      "Processing batch 143/191: 100%|██████████| 50000/50000 [00:01<00:00, 32262.44it/s]\n",
      "Processing batch 144/191: 100%|██████████| 50000/50000 [00:01<00:00, 32430.62it/s]\n",
      "Processing batch 145/191: 100%|██████████| 50000/50000 [00:01<00:00, 32439.18it/s]\n",
      "Processing batch 146/191: 100%|██████████| 50000/50000 [00:01<00:00, 32564.61it/s]\n",
      "Processing batch 147/191: 100%|██████████| 50000/50000 [00:01<00:00, 32264.83it/s]\n",
      "Processing batch 148/191: 100%|██████████| 50000/50000 [00:01<00:00, 32458.96it/s]\n",
      "Processing batch 149/191: 100%|██████████| 50000/50000 [00:01<00:00, 32102.03it/s]\n",
      "Processing batch 150/191: 100%|██████████| 50000/50000 [00:01<00:00, 32537.34it/s]\n",
      "Processing batch 151/191: 100%|██████████| 50000/50000 [00:01<00:00, 32480.77it/s]\n",
      "Processing batch 152/191: 100%|██████████| 50000/50000 [00:01<00:00, 32602.73it/s]\n",
      "Processing batch 153/191: 100%|██████████| 50000/50000 [00:01<00:00, 32551.94it/s]\n",
      "Processing batch 154/191: 100%|██████████| 50000/50000 [00:01<00:00, 32442.97it/s]\n",
      "Processing batch 155/191: 100%|██████████| 50000/50000 [00:01<00:00, 31154.14it/s]\n",
      "Processing batch 156/191: 100%|██████████| 50000/50000 [00:01<00:00, 32587.98it/s]\n",
      "Processing batch 157/191: 100%|██████████| 50000/50000 [00:01<00:00, 32243.74it/s]\n",
      "Processing batch 158/191: 100%|██████████| 50000/50000 [00:01<00:00, 32445.87it/s]\n",
      "Processing batch 159/191: 100%|██████████| 50000/50000 [00:01<00:00, 31975.36it/s]\n",
      "Processing batch 160/191: 100%|██████████| 50000/50000 [00:01<00:00, 32528.69it/s]\n",
      "Processing batches 141-160: 100%|██████████| 20/20 [00:31<00:00,  1.55s/it]\n",
      "Processing batch 161/191: 100%|██████████| 50000/50000 [00:01<00:00, 32520.03it/s]\n",
      "Processing batch 162/191: 100%|██████████| 50000/50000 [00:01<00:00, 32561.49it/s]\n",
      "Processing batch 163/191: 100%|██████████| 50000/50000 [00:01<00:00, 32572.38it/s]\n",
      "Processing batch 164/191: 100%|██████████| 50000/50000 [00:01<00:00, 32300.37it/s]\n",
      "Processing batch 165/191: 100%|██████████| 50000/50000 [00:01<00:00, 32061.15it/s]\n",
      "Processing batch 166/191: 100%|██████████| 50000/50000 [00:01<00:00, 32646.75it/s]\n",
      "Processing batch 167/191: 100%|██████████| 50000/50000 [00:01<00:00, 32453.35it/s]\n",
      "Processing batch 168/191: 100%|██████████| 50000/50000 [00:01<00:00, 31895.25it/s]\n",
      "Processing batch 169/191: 100%|██████████| 50000/50000 [00:01<00:00, 31648.33it/s]\n",
      "Processing batch 170/191: 100%|██████████| 50000/50000 [00:01<00:00, 32100.23it/s]\n",
      "Processing batch 171/191: 100%|██████████| 50000/50000 [00:01<00:00, 32485.61it/s]\n",
      "Processing batch 172/191: 100%|██████████| 50000/50000 [00:01<00:00, 32583.67it/s]\n",
      "Processing batch 173/191: 100%|██████████| 50000/50000 [00:01<00:00, 32754.00it/s]\n",
      "Processing batch 174/191: 100%|██████████| 50000/50000 [00:01<00:00, 32488.04it/s]\n",
      "Processing batch 175/191: 100%|██████████| 50000/50000 [00:01<00:00, 32540.09it/s]\n",
      "Processing batch 176/191: 100%|██████████| 50000/50000 [00:01<00:00, 32666.44it/s]\n",
      "Processing batch 177/191: 100%|██████████| 50000/50000 [00:01<00:00, 32691.00it/s]\n",
      "Processing batch 178/191: 100%|██████████| 50000/50000 [00:01<00:00, 32646.20it/s]\n",
      "Processing batch 179/191: 100%|██████████| 50000/50000 [00:01<00:00, 32569.00it/s]\n",
      "Processing batch 180/191: 100%|██████████| 50000/50000 [00:01<00:00, 32265.27it/s]\n",
      "Processing batches 161-180: 100%|██████████| 20/20 [00:30<00:00,  1.55s/it]\n",
      "Processing batch 181/191: 100%|██████████| 50000/50000 [00:01<00:00, 32535.94it/s]\n",
      "Processing batch 182/191: 100%|██████████| 50000/50000 [00:01<00:00, 32674.14it/s]\n",
      "Processing batch 183/191: 100%|██████████| 50000/50000 [00:01<00:00, 32579.08it/s]\n",
      "Processing batch 184/191: 100%|██████████| 50000/50000 [00:01<00:00, 32604.64it/s]\n",
      "Processing batch 185/191: 100%|██████████| 50000/50000 [00:01<00:00, 32773.63it/s]\n",
      "Processing batch 186/191: 100%|██████████| 50000/50000 [00:01<00:00, 32558.23it/s]\n",
      "Processing batch 187/191: 100%|██████████| 50000/50000 [00:01<00:00, 32466.21it/s]\n",
      "Processing batch 188/191: 100%|██████████| 50000/50000 [00:01<00:00, 32586.62it/s]\n",
      "Processing batch 189/191: 100%|██████████| 50000/50000 [00:01<00:00, 32466.98it/s]\n",
      "Processing batch 190/191: 100%|██████████| 50000/50000 [00:01<00:00, 32640.58it/s]\n",
      "Processing batch 191/191: 100%|██████████| 22077/22077 [00:00<00:00, 32620.70it/s]\n",
      "Processing batches 181-191: 100%|██████████| 11/11 [00:16<00:00,  1.46s/it]\n"
     ]
    }
   ],
   "source": [
    "farm_trips = 50000\n",
    "bp_text_values = find_your_flow(bp_text_values_df, farm_trips)"
   ]
  },
  {
   "cell_type": "code",
   "execution_count": 10,
   "metadata": {},
   "outputs": [
    {
     "name": "stderr",
     "output_type": "stream",
     "text": [
      "Tokenizing batches 1-20:  15%|█▌        | 3/20 [01:17<07:18, 25.81s/it]"
     ]
    },
    {
     "name": "stdout",
     "output_type": "stream",
     "text": [
      "Tokens: ['Track', 'ĠID', ':', 'Ġ', '178', '056', '49', ',', 'ĠTitle', ':', 'ĠBang', 's', 'ĠIn', 'ĠThe', 'ĠHead', ',', 'ĠArtist', ':', 'ĠVal', 'eri', 'Ã¸', 'ĠInn', 'Ã¸r', 'ta', ',', 'ĠArtist', 'ĠID', ':', 'Ġ', '647', '817', ',', 'ĠGenre', ':', 'ĠHard', 'ĠTechn', 'o', ',', 'ĠGenre', 'ĠID', ':', 'Ġ', '2', ',', 'ĠLabel', ':', 'ĠCar', 'bone', 'ĠRecords', ',', 'ĠLabel', 'ĠID', ':', 'Ġ', '591', '59', ',', 'ĠRelease', 'ĠDate', ':', 'Ġ', '202', '3', '-', '06', '-', '30', ',', 'ĠTrack', 'ĠURL', ':', 'Ġbeat', 'port', '.com', '/', 'track', '/b', 'angs', '-in', '-the', '-head', '/', '178', '056', '49', ',', 'ĠMix', ':', 'ĠOriginal', 'ĠMix', ',', 'ĠRemix', ':', 'ĠYes', ',', 'ĠRem', 'ixer', ':', 'ĠYes', ',', 'ĠDuration', ':', 'Ġ', '5', ':', '20', 'Ġminutes', ',', 'ĠBPM', ':', 'Ġ', '80', '.', '0', ',', 'ĠKey', 'ĠID', ':', 'Ġ', '3', '.', '0', ',', 'ĠMode', ':', 'Ġ', '0', '.', '0', ',', 'ĠVal', 'ence', ':', 'Ġ', '0', '.', '527', ',', 'ĠDance', 'ability', ':', 'Ġ', '0', '.', '686', ',', 'ĠEnergy', ':', 'Ġ', '0', '.', '928', ',', 'ĠSpeech', 'iness', ':', 'Ġ', '0', '.', '173', ',', 'ĠLoud', 'ness', ':', 'Ġ-', '5', '.', '653', ',', 'ĠL', 'iveness', ':', 'Ġ', '0', '.', '153', ',', 'ĠInstrument', 'al', 'ness', ':', 'Ġ', '0', '.', '175', ',', 'ĠAc', 'oustic', 'ness', ':', 'Ġ', '0', '.', '000', '329', ',', 'ĠIS', 'RC', ':', 'ĠNL', 'CK', '422', '320', '42', ',', 'ĠArtist', 'ĠURL', ':', 'Ġbeat', 'port', '.com', '/', 'artist', '/', 'val', 'eri', '-in', 'nr', 'ta', '/', '647', '817', ',', 'ĠLabel', 'ĠURL', ':', 'Ġbeat', 'port', '.com', '/', 'label', '/car', 'bone', '-', 'records', '/', '591', '59', ',', 'ĠGenre', 'ĠURL', ':', 'Ġ/', 'genre', '/h', 'ard', '-', 'techn', 'o', '/', '2', '.']\n",
      "Token IDs: [16042, 3110, 25, 220, 11256, 25921, 2491, 11, 11106, 25, 17343, 82, 763, 578, 11452, 11, 29459, 25, 4196, 31803, 6282, 17382, 17545, 2629, 11, 29459, 3110, 25, 220, 22644, 25528, 11, 41395, 25, 11481, 7146, 78, 11, 41395, 3110, 25, 220, 17, 11, 9587, 25, 3341, 20337, 22293, 11, 9587, 3110, 25, 220, 24380, 2946, 11, 17836, 2696, 25, 220, 2366, 18, 12, 2705, 12, 966, 11, 20371, 5665, 25, 9567, 403, 916, 14, 13432, 3554, 65587, 3502, 10826, 27488, 14, 11256, 25921, 2491, 11, 19771, 25, 17674, 19771, 11, 51127, 25, 7566, 11, 5031, 40114, 25, 7566, 11, 21722, 25, 220, 20, 25, 508, 4520, 11, 89319, 25, 220, 1490, 13, 15, 11, 5422, 3110, 25, 220, 18, 13, 15, 11, 14904, 25, 220, 15, 13, 15, 11, 4196, 768, 25, 220, 15, 13, 22369, 11, 30704, 2968, 25, 220, 15, 13, 22347, 11, 12634, 25, 220, 15, 13, 25001, 11, 39841, 1918, 25, 220, 15, 13, 11908, 11, 80648, 2136, 25, 482, 20, 13, 21598, 11, 445, 13071, 25, 220, 15, 13, 9800, 11, 43405, 278, 2136, 25, 220, 15, 13, 10005, 11, 6515, 35415, 2136, 25, 220, 15, 13, 931, 18196, 11, 3507, 7532, 25, 33260, 3096, 16460, 9588, 2983, 11, 29459, 5665, 25, 9567, 403, 916, 14, 19135, 14, 838, 31803, 3502, 20191, 2629, 14, 22644, 25528, 11, 9587, 5665, 25, 9567, 403, 916, 14, 1530, 66759, 20337, 12, 27295, 14, 24380, 2946, 11, 41395, 5665, 25, 611, 34713, 7682, 569, 12, 26522, 78, 14, 17, 13]\n"
     ]
    },
    {
     "name": "stderr",
     "output_type": "stream",
     "text": [
      "Tokenizing batches 1-20:  25%|██▌       | 5/20 [02:11<06:37, 26.47s/it]"
     ]
    },
    {
     "name": "stdout",
     "output_type": "stream",
     "text": [
      "Tokens: ['Track', 'ĠID', ':', 'Ġ', '153', '921', '98', ',', 'ĠTitle', ':', 'ĠMy', 'ĠLittle', 'ĠFantasy', ',', 'ĠArtist', ':', 'ĠMad', 'agas', 'ca', ',', 'ĠArtist', 'ĠID', ':', 'Ġ', '744', '949', ',', 'ĠGenre', ':', 'ĠHard', 'ĠDance', 'Ġ/', 'ĠHardcore', ',', 'ĠGenre', 'ĠID', ':', 'Ġ', '8', ',', 'ĠLabel', ':', 'ĠChe', 'ek', 'y', 'ĠTracks', ',', 'ĠLabel', 'ĠID', ':', 'Ġ', '182', '33', ',', 'ĠRelease', 'ĠDate', ':', 'Ġ', '202', '1', '-', '07', '-', '16', ',', 'ĠTrack', 'ĠURL', ':', 'Ġbeat', 'port', '.com', '/', 'track', '/my', '-l', 'ittle', '-f', 'antasy', '/', '153', '921', '98', ',', 'ĠMix', ':', 'ĠRemix', ',', 'ĠRemix', ':', 'ĠYes', ',', 'ĠRem', 'ixer', ':', 'ĠYes', ',', 'ĠDuration', ':', 'Ġ', '5', ':', '39', 'Ġminutes', ',', 'ĠBPM', ':', 'Ġ', '150', '.', '0', ',', 'ĠKey', 'ĠID', ':', 'Ġ', '19', '.', '0', ',', 'ĠMode', ':', 'Ġ', '1', '.', '0', ',', 'ĠVal', 'ence', ':', 'Ġ', '0', '.', '522', ',', 'ĠDance', 'ability', ':', 'Ġ', '0', '.', '602', ',', 'ĠEnergy', ':', 'Ġ', '0', '.', '991', ',', 'ĠSpeech', 'iness', ':', 'Ġ', '0', '.', '103', ',', 'ĠLoud', 'ness', ':', 'Ġ-', '3', '.', '884', ',', 'ĠL', 'iveness', ':', 'Ġ', '0', '.', '253', ',', 'ĠInstrument', 'al', 'ness', ':', 'Ġ', '0', '.', '121', ',', 'ĠAc', 'oustic', 'ness', ':', 'Ġ', '0', '.', '008', '65', ',', 'ĠIS', 'RC', ':', 'ĠGB', 'K', 'QU', '213', '007', '2', ',', 'ĠArtist', 'ĠURL', ':', 'Ġbeat', 'port', '.com', '/', 'artist', '/m', 'ad', 'agas', 'ca', '/', '744', '949', ',', 'ĠLabel', 'ĠURL', ':', 'Ġbeat', 'port', '.com', '/', 'label', '/', 'che', 'ek', 'y', '-tr', 'acks', '/', '182', '33', ',', 'ĠGenre', 'ĠURL', ':', 'Ġ/', 'genre', '/h', 'ard', '-d', 'ance', '-hard', 'core', '/', '8', '.']\n",
      "Token IDs: [16042, 3110, 25, 220, 9800, 22536, 3264, 11, 11106, 25, 3092, 15013, 27582, 11, 29459, 25, 9671, 86152, 936, 11, 29459, 3110, 25, 220, 23800, 24680, 11, 41395, 25, 11481, 30704, 611, 60650, 11, 41395, 3110, 25, 220, 23, 11, 9587, 25, 8602, 1247, 88, 65840, 11, 9587, 3110, 25, 220, 10828, 1644, 11, 17836, 2696, 25, 220, 2366, 16, 12, 2589, 12, 845, 11, 20371, 5665, 25, 9567, 403, 916, 14, 13432, 35298, 2922, 2433, 2269, 98037, 14, 9800, 22536, 3264, 11, 19771, 25, 51127, 11, 51127, 25, 7566, 11, 5031, 40114, 25, 7566, 11, 21722, 25, 220, 20, 25, 2137, 4520, 11, 89319, 25, 220, 3965, 13, 15, 11, 5422, 3110, 25, 220, 777, 13, 15, 11, 14904, 25, 220, 16, 13, 15, 11, 4196, 768, 25, 220, 15, 13, 20936, 11, 30704, 2968, 25, 220, 15, 13, 20224, 11, 12634, 25, 220, 15, 13, 24606, 11, 39841, 1918, 25, 220, 15, 13, 6889, 11, 80648, 2136, 25, 482, 18, 13, 25962, 11, 445, 13071, 25, 220, 15, 13, 14022, 11, 43405, 278, 2136, 25, 220, 15, 13, 7994, 11, 6515, 35415, 2136, 25, 220, 15, 13, 11436, 2397, 11, 3507, 7532, 25, 19397, 42, 5876, 11702, 11194, 17, 11, 29459, 5665, 25, 9567, 403, 916, 14, 19135, 3262, 329, 86152, 936, 14, 23800, 24680, 11, 9587, 5665, 25, 9567, 403, 916, 14, 1530, 14, 1557, 1247, 88, 10398, 7977, 14, 10828, 1644, 11, 41395, 5665, 25, 611, 34713, 7682, 569, 1773, 685, 71845, 2202, 14, 23, 13]\n"
     ]
    },
    {
     "name": "stderr",
     "output_type": "stream",
     "text": [
      "Tokenizing batches 1-20:  30%|███       | 6/20 [02:38<06:12, 26.64s/it]"
     ]
    },
    {
     "name": "stdout",
     "output_type": "stream",
     "text": [
      "Tokens: ['Track', 'ĠID', ':', 'Ġ', '162', '376', '90', ',', 'ĠTitle', ':', 'ĠFree', 'fall', 'ing', ',', 'ĠArtist', ':', 'ĠTechn', 'ikal', ',', 'ĠArtist', 'ĠID', ':', 'Ġ', '823', '2', ',', 'ĠGenre', ':', 'ĠHard', 'ĠDance', 'Ġ/', 'ĠHardcore', ',', 'ĠGenre', 'ĠID', ':', 'Ġ', '8', ',', 'ĠLabel', ':', 'ĠT', 'idy', ',', 'ĠLabel', 'ĠID', ':', 'Ġ', '101', '417', ',', 'ĠRelease', 'ĠDate', ':', 'Ġ', '201', '9', '-', '10', '-', '16', ',', 'ĠTrack', 'ĠURL', ':', 'Ġbeat', 'port', '.com', '/', 'track', '/free', 'fall', 'ing', '/', '162', '376', '90', ',', 'ĠMix', ':', 'ĠRob', 'ĠT', 'isser', 'a', \"'s\", 'ĠEpic', 'ĠRe', '-R', 'ub', ',', 'ĠRemix', ':', 'ĠYes', ',', 'ĠRem', 'ixer', ':', 'ĠYes', ',', 'ĠDuration', ':', 'Ġ', '7', ':', '11', 'Ġminutes', ',', 'ĠBPM', ':', 'Ġ', '150', '.', '0', ',', 'ĠKey', 'ĠID', ':', 'Ġ', '10', '.', '0', ',', 'ĠMode', ':', 'Ġ', '0', '.', '0', ',', 'ĠVal', 'ence', ':', 'Ġ', '0', '.', '199', ',', 'ĠDance', 'ability', ':', 'Ġ', '0', '.', '572', ',', 'ĠEnergy', ':', 'Ġ', '0', '.', '978', ',', 'ĠSpeech', 'iness', ':', 'Ġ', '0', '.', '177', ',', 'ĠLoud', 'ness', ':', 'Ġ-', '4', '.', '554', ',', 'ĠL', 'iveness', ':', 'Ġ', '0', '.', '367', ',', 'ĠInstrument', 'al', 'ness', ':', 'Ġ', '0', '.', '659', ',', 'ĠAc', 'oustic', 'ness', ':', 'Ġ', '5', '.', '22', 'e', '-', '05', ',', 'ĠIS', 'RC', ':', 'ĠGB', 'K', 'QU', '194', '658', '7', ',', 'ĠArtist', 'ĠURL', ':', 'Ġbeat', 'port', '.com', '/', 'artist', '/', 'techn', 'ikal', '/', '823', '2', ',', 'ĠLabel', 'ĠURL', ':', 'Ġbeat', 'port', '.com', '/', 'label', '/t', 'idy', '/', '101', '417', ',', 'ĠGenre', 'ĠURL', ':', 'Ġ/', 'genre', '/h', 'ard', '-d', 'ance', '-hard', 'core', '/', '8', '.']\n",
      "Token IDs: [16042, 3110, 25, 220, 10674, 18322, 1954, 11, 11106, 25, 3658, 13772, 287, 11, 29459, 25, 7146, 88560, 11, 29459, 3110, 25, 220, 23848, 17, 11, 41395, 25, 11481, 30704, 611, 60650, 11, 41395, 3110, 25, 220, 23, 11, 9587, 25, 350, 43686, 11, 9587, 3110, 25, 220, 4645, 19561, 11, 17836, 2696, 25, 220, 679, 24, 12, 605, 12, 845, 11, 20371, 5665, 25, 9567, 403, 916, 14, 13432, 56794, 13772, 287, 14, 10674, 18322, 1954, 11, 19771, 25, 4997, 350, 74333, 64, 596, 40467, 1050, 11151, 392, 11, 51127, 25, 7566, 11, 5031, 40114, 25, 7566, 11, 21722, 25, 220, 22, 25, 806, 4520, 11, 89319, 25, 220, 3965, 13, 15, 11, 5422, 3110, 25, 220, 605, 13, 15, 11, 14904, 25, 220, 15, 13, 15, 11, 4196, 768, 25, 220, 15, 13, 2550, 11, 30704, 2968, 25, 220, 15, 13, 22468, 11, 12634, 25, 220, 15, 13, 17272, 11, 39841, 1918, 25, 220, 15, 13, 11242, 11, 80648, 2136, 25, 482, 19, 13, 22303, 11, 445, 13071, 25, 220, 15, 13, 18775, 11, 43405, 278, 2136, 25, 220, 15, 13, 25090, 11, 6515, 35415, 2136, 25, 220, 20, 13, 1313, 68, 12, 2304, 11, 3507, 7532, 25, 19397, 42, 5876, 6393, 23654, 22, 11, 29459, 5665, 25, 9567, 403, 916, 14, 19135, 14, 26522, 88560, 14, 23848, 17, 11, 9587, 5665, 25, 9567, 403, 916, 14, 1530, 5640, 43686, 14, 4645, 19561, 11, 41395, 5665, 25, 611, 34713, 7682, 569, 1773, 685, 71845, 2202, 14, 23, 13]\n"
     ]
    },
    {
     "name": "stderr",
     "output_type": "stream",
     "text": [
      "Tokenizing batches 1-20:  40%|████      | 8/20 [03:33<05:25, 27.10s/it]"
     ]
    },
    {
     "name": "stdout",
     "output_type": "stream",
     "text": [
      "Tokens: ['Track', 'ĠID', ':', 'Ġ', '153', '785', '03', ',', 'ĠTitle', ':', 'ĠTrust', 'ĠIssue', ',', 'ĠArtist', ':', 'ĠDub', 'iosity', ',', 'ĠArtist', 'ĠID', ':', 'Ġ', '272', '568', ',', 'ĠGenre', ':', 'ĠTechn', 'o', 'Ġ(', 'Peak', 'ĠTime', 'Ġ/', 'ĠDriving', '),', 'ĠGenre', 'ĠID', ':', 'Ġ', '6', ',', 'ĠLabel', ':', 'ĠLux', 'ĠRec', ',', 'ĠLabel', 'ĠID', ':', 'Ġ', '945', '86', ',', 'ĠRelease', 'ĠDate', ':', 'Ġ', '201', '8', '-', '05', '-', '23', ',', 'ĠTrack', 'ĠURL', ':', 'Ġbeat', 'port', '.com', '/', 'track', '/tr', 'ust', '-issue', '/', '153', '785', '03', ',', 'ĠMix', ':', 'ĠOriginal', 'ĠMix', ',', 'ĠRemix', ':', 'ĠYes', ',', 'ĠRem', 'ixer', ':', 'ĠYes', ',', 'ĠDuration', ':', 'Ġ', '6', ':', '36', 'Ġminutes', ',', 'ĠBPM', ':', 'Ġ', '127', '.', '0', ',', 'ĠKey', 'ĠID', ':', 'Ġ', '22', '.', '0', ',', 'ĠMode', ':', 'Ġ', '0', '.', '0', ',', 'ĠVal', 'ence', ':', 'Ġ', '0', '.', '044', '4', ',', 'ĠDance', 'ability', ':', 'Ġ', '0', '.', '607', ',', 'ĠEnergy', ':', 'Ġ', '0', '.', '836', ',', 'ĠSpeech', 'iness', ':', 'Ġ', '0', '.', '050', '4', ',', 'ĠLoud', 'ness', ':', 'Ġ-', '9', '.', '911', ',', 'ĠL', 'iveness', ':', 'Ġ', '0', '.', '096', '3', ',', 'ĠInstrument', 'al', 'ness', ':', 'Ġ', '0', '.', '839', ',', 'ĠAc', 'oustic', 'ness', ':', 'Ġ', '0', '.', '000', '414', ',', 'ĠIS', 'RC', ':', 'ĠNL', 'CK', '410', '886', '28', ',', 'ĠArtist', 'ĠURL', ':', 'Ġbeat', 'port', '.com', '/', 'artist', '/d', 'ub', 'iosity', '/', '272', '568', ',', 'ĠLabel', 'ĠURL', ':', 'Ġbeat', 'port', '.com', '/', 'label', '/l', 'ux', '-rec', '/', '945', '86', ',', 'ĠGenre', 'ĠURL', ':', 'Ġ/', 'genre', '/', 'techn', 'o', '-', 'peak', '-time', '-driving', '/', '6', '.']\n",
      "Token IDs: [16042, 3110, 25, 220, 9800, 22539, 2839, 11, 11106, 25, 17236, 26292, 11, 29459, 25, 17533, 33279, 11, 29459, 3110, 25, 220, 15741, 22049, 11, 41395, 25, 7146, 78, 320, 57867, 4212, 611, 53353, 705, 41395, 3110, 25, 220, 21, 11, 9587, 25, 27466, 4158, 11, 9587, 3110, 25, 220, 24599, 4218, 11, 17836, 2696, 25, 220, 679, 23, 12, 2304, 12, 1419, 11, 20371, 5665, 25, 9567, 403, 916, 14, 13432, 22205, 592, 90465, 14, 9800, 22539, 2839, 11, 19771, 25, 17674, 19771, 11, 51127, 25, 7566, 11, 5031, 40114, 25, 7566, 11, 21722, 25, 220, 21, 25, 1927, 4520, 11, 89319, 25, 220, 6804, 13, 15, 11, 5422, 3110, 25, 220, 1313, 13, 15, 11, 14904, 25, 220, 15, 13, 15, 11, 4196, 768, 25, 220, 15, 13, 20078, 19, 11, 30704, 2968, 25, 220, 15, 13, 21996, 11, 12634, 25, 220, 15, 13, 25192, 11, 39841, 1918, 25, 220, 15, 13, 16193, 19, 11, 80648, 2136, 25, 482, 24, 13, 17000, 11, 445, 13071, 25, 220, 15, 13, 28153, 18, 11, 43405, 278, 2136, 25, 220, 15, 13, 25465, 11, 6515, 35415, 2136, 25, 220, 15, 13, 931, 17448, 11, 3507, 7532, 25, 33260, 3096, 14487, 25399, 1591, 11, 29459, 5665, 25, 9567, 403, 916, 14, 19135, 3529, 392, 33279, 14, 15741, 22049, 11, 9587, 5665, 25, 9567, 403, 916, 14, 1530, 13631, 2249, 60272, 14, 24599, 4218, 11, 41395, 5665, 25, 611, 34713, 14, 26522, 78, 12, 23635, 7394, 60811, 14, 21, 13]\n"
     ]
    },
    {
     "name": "stderr",
     "output_type": "stream",
     "text": [
      "Tokenizing batches 1-20:  75%|███████▌  | 15/20 [06:55<02:25, 29.01s/it]"
     ]
    },
    {
     "name": "stdout",
     "output_type": "stream",
     "text": [
      "Tokens: ['Track', 'ĠID', ':', 'Ġ', '110', '535', '16', ',', 'ĠTitle', ':', 'ĠImportant', 'ĠRole', ',', 'ĠArtist', ':', 'ĠMaster', 'ĠMaster', ',', 'ĠArtist', 'ĠID', ':', 'Ġ', '104', '926', ',', 'ĠGenre', ':', 'ĠTechn', 'o', 'Ġ(', 'Peak', 'ĠTime', 'Ġ/', 'ĠDriving', '),', 'ĠGenre', 'ĠID', ':', 'Ġ', '6', ',', 'ĠLabel', ':', 'ĠBerlin', 'ĠAfter', 'ĠDark', ',', 'ĠLabel', 'ĠID', ':', 'Ġ', '707', '86', ',', 'ĠRelease', 'ĠDate', ':', 'Ġ', '201', '8', '-', '10', '-', '21', ',', 'ĠTrack', 'ĠURL', ':', 'Ġbeat', 'port', '.com', '/', 'track', '/', 'important', '-role', '/', '110', '535', '16', ',', 'ĠMix', ':', 'ĠRemix', ',', 'ĠRemix', ':', 'ĠYes', ',', 'ĠRem', 'ixer', ':', 'ĠYes', ',', 'ĠDuration', ':', 'Ġ', '7', ':', '07', 'Ġminutes', ',', 'ĠBPM', ':', 'Ġ', '128', '.', '0', ',', 'ĠKey', 'ĠID', ':', 'Ġ', '19', '.', '0', ',', 'ĠMode', ':', 'Ġ', '0', '.', '0', ',', 'ĠVal', 'ence', ':', 'Ġ', '0', '.', '349', ',', 'ĠDance', 'ability', ':', 'Ġ', '0', '.', '71', ',', 'ĠEnergy', ':', 'Ġ', '0', '.', '534', ',', 'ĠSpeech', 'iness', ':', 'Ġ', '0', '.', '051', '5', ',', 'ĠLoud', 'ness', ':', 'Ġ-', '11', '.', '083', ',', 'ĠL', 'iveness', ':', 'Ġ', '0', '.', '092', '6', ',', 'ĠInstrument', 'al', 'ness', ':', 'Ġ', '0', '.', '837', ',', 'ĠAc', 'oustic', 'ness', ':', 'Ġ', '2', '.', '79', 'e', '-', '06', ',', 'ĠIS', 'RC', ':', 'ĠGB', 'K', 'QU', '188', '483', '0', ',', 'ĠArtist', 'ĠURL', ':', 'Ġbeat', 'port', '.com', '/', 'artist', '/master', '-master', '/', '104', '926', ',', 'ĠLabel', 'ĠURL', ':', 'Ġbeat', 'port', '.com', '/', 'label', '/', 'ber', 'lin', '-after', '-dark', '/', '707', '86', ',', 'ĠGenre', 'ĠURL', ':', 'Ġ/', 'genre', '/', 'techn', 'o', '-', 'peak', '-time', '-driving', '/', '6', '.']\n",
      "Token IDs: [16042, 3110, 25, 220, 5120, 20618, 845, 11, 11106, 25, 44921, 15766, 11, 29459, 25, 11060, 11060, 11, 29459, 3110, 25, 220, 6849, 26026, 11, 41395, 25, 7146, 78, 320, 57867, 4212, 611, 53353, 705, 41395, 3110, 25, 220, 21, 11, 9587, 25, 20437, 4740, 12538, 11, 9587, 3110, 25, 220, 18770, 4218, 11, 17836, 2696, 25, 220, 679, 23, 12, 605, 12, 1691, 11, 20371, 5665, 25, 9567, 403, 916, 14, 13432, 14, 15693, 55921, 14, 5120, 20618, 845, 11, 19771, 25, 51127, 11, 51127, 25, 7566, 11, 5031, 40114, 25, 7566, 11, 21722, 25, 220, 22, 25, 2589, 4520, 11, 89319, 25, 220, 4386, 13, 15, 11, 5422, 3110, 25, 220, 777, 13, 15, 11, 14904, 25, 220, 15, 13, 15, 11, 4196, 768, 25, 220, 15, 13, 18634, 11, 30704, 2968, 25, 220, 15, 13, 6028, 11, 12634, 25, 220, 15, 13, 22467, 11, 39841, 1918, 25, 220, 15, 13, 23545, 20, 11, 80648, 2136, 25, 482, 806, 13, 25077, 11, 445, 13071, 25, 220, 15, 13, 25221, 21, 11, 43405, 278, 2136, 25, 220, 15, 13, 26244, 11, 6515, 35415, 2136, 25, 220, 17, 13, 4643, 68, 12, 2705, 11, 3507, 7532, 25, 19397, 42, 5876, 9367, 21884, 15, 11, 29459, 5665, 25, 9567, 403, 916, 14, 19135, 24184, 52003, 14, 6849, 26026, 11, 9587, 5665, 25, 9567, 403, 916, 14, 1530, 14, 655, 3817, 45673, 22592, 14, 18770, 4218, 11, 41395, 5665, 25, 611, 34713, 14, 26522, 78, 12, 23635, 7394, 60811, 14, 21, 13]\n"
     ]
    },
    {
     "name": "stderr",
     "output_type": "stream",
     "text": [
      "Tokenizing batches 1-20:  80%|████████  | 16/20 [07:25<01:57, 29.39s/it]"
     ]
    },
    {
     "name": "stdout",
     "output_type": "stream",
     "text": [
      "Tokens: ['Track', 'ĠID', ':', 'Ġ', '587', '258', '0', ',', 'ĠTitle', ':', 'ĠEarth', 'ĠStation', ',', 'ĠArtist', ':', 'ĠSyn', 'ac', ',', 'ĠArtist', 'ĠID', ':', 'Ġ', '200', '963', ',', 'ĠGenre', ':', 'ĠTechn', 'o', 'Ġ(', 'Peak', 'ĠTime', 'Ġ/', 'ĠDriving', '),', 'ĠGenre', 'ĠID', ':', 'Ġ', '6', ',', 'ĠLabel', ':', 'ĠD', '-L', 'ab', 'ĠRecords', ',', 'ĠLabel', 'ĠID', ':', 'Ġ', '166', '19', ',', 'ĠRelease', 'ĠDate', ':', 'Ġ', '201', '4', '-', '10', '-', '01', ',', 'ĠTrack', 'ĠURL', ':', 'Ġbeat', 'port', '.com', '/', 'track', '/', 'earth', '-st', 'ation', '/', '587', '258', '0', ',', 'ĠMix', ':', 'ĠOriginal', 'ĠMix', ',', 'ĠRemix', ':', 'ĠYes', ',', 'ĠRem', 'ixer', ':', 'ĠYes', ',', 'ĠDuration', ':', 'Ġ', '7', ':', '28', 'Ġminutes', ',', 'ĠBPM', ':', 'Ġ', '128', '.', '0', ',', 'ĠKey', 'ĠID', ':', 'Ġ', '20', '.', '0', ',', 'ĠMode', ':', 'Ġ', '1', '.', '0', ',', 'ĠVal', 'ence', ':', 'Ġ', '0', '.', '202', ',', 'ĠDance', 'ability', ':', 'Ġ', '0', '.', '826', ',', 'ĠEnergy', ':', 'Ġ', '0', '.', '348', ',', 'ĠSpeech', 'iness', ':', 'Ġ', '0', '.', '109', ',', 'ĠLoud', 'ness', ':', 'Ġ-', '8', '.', '746', ',', 'ĠL', 'iveness', ':', 'Ġ', '0', '.', '108', ',', 'ĠInstrument', 'al', 'ness', ':', 'Ġ', '0', '.', '821', ',', 'ĠAc', 'oustic', 'ness', ':', 'Ġ', '0', '.', '236', ',', 'ĠIS', 'RC', ':', 'ĠGB', 'W', 'UL', '146', '526', '5', ',', 'ĠArtist', 'ĠURL', ':', 'Ġbeat', 'port', '.com', '/', 'artist', '/s', 'yn', 'ac', '/', '200', '963', ',', 'ĠLabel', 'ĠURL', ':', 'Ġbeat', 'port', '.com', '/', 'label', '/d', '-l', 'ab', '-', 'records', '/', '166', '19', ',', 'ĠGenre', 'ĠURL', ':', 'Ġ/', 'genre', '/', 'techn', 'o', '-', 'peak', '-time', '-driving', '/', '6', '.']\n",
      "Token IDs: [16042, 3110, 25, 220, 22159, 15966, 15, 11, 11106, 25, 9420, 17040, 11, 29459, 25, 24028, 582, 11, 29459, 3110, 25, 220, 1049, 26087, 11, 41395, 25, 7146, 78, 320, 57867, 4212, 611, 53353, 705, 41395, 3110, 25, 220, 21, 11, 9587, 25, 423, 8288, 370, 22293, 11, 9587, 3110, 25, 220, 11247, 777, 11, 17836, 2696, 25, 220, 679, 19, 12, 605, 12, 1721, 11, 20371, 5665, 25, 9567, 403, 916, 14, 13432, 14, 28641, 5594, 367, 14, 22159, 15966, 15, 11, 19771, 25, 17674, 19771, 11, 51127, 25, 7566, 11, 5031, 40114, 25, 7566, 11, 21722, 25, 220, 22, 25, 1591, 4520, 11, 89319, 25, 220, 4386, 13, 15, 11, 5422, 3110, 25, 220, 508, 13, 15, 11, 14904, 25, 220, 16, 13, 15, 11, 4196, 768, 25, 220, 15, 13, 2366, 11, 30704, 2968, 25, 220, 15, 13, 23038, 11, 12634, 25, 220, 15, 13, 19746, 11, 39841, 1918, 25, 220, 15, 13, 7743, 11, 80648, 2136, 25, 482, 23, 13, 25594, 11, 445, 13071, 25, 220, 15, 13, 6640, 11, 43405, 278, 2136, 25, 220, 15, 13, 23282, 11, 6515, 35415, 2136, 25, 220, 15, 13, 14087, 11, 3507, 7532, 25, 19397, 54, 1112, 10465, 22593, 20, 11, 29459, 5665, 25, 9567, 403, 916, 14, 19135, 2754, 1910, 582, 14, 1049, 26087, 11, 9587, 5665, 25, 9567, 403, 916, 14, 1530, 3529, 2922, 370, 12, 27295, 14, 11247, 777, 11, 41395, 5665, 25, 611, 34713, 14, 26522, 78, 12, 23635, 7394, 60811, 14, 21, 13]\n"
     ]
    },
    {
     "name": "stderr",
     "output_type": "stream",
     "text": [
      "Tokenizing batches 1-20: 100%|██████████| 20/20 [09:26<00:00, 28.31s/it]\n",
      "Tokenizing batches 21-40:   0%|          | 0/20 [00:00<?, ?it/s]"
     ]
    },
    {
     "name": "stdout",
     "output_type": "stream",
     "text": [
      "Tokens: ['Track', 'ĠID', ':', 'Ġ', '112', '692', '02', ',', 'ĠTitle', ':', 'Ġ', '47', 'ĠRon', 'in', ',', 'ĠArtist', ':', 'ĠVital', 'iy', 'ĠBlack', ',', 'ĠArtist', 'ĠID', ':', 'Ġ', '344', '998', ',', 'ĠGenre', ':', 'ĠTechn', 'o', 'Ġ(', 'Peak', 'ĠTime', 'Ġ/', 'ĠDriving', '),', 'ĠGenre', 'ĠID', ':', 'Ġ', '6', ',', 'ĠLabel', ':', 'ĠBlack', 'ĠDrop', ',', 'ĠLabel', 'ĠID', ':', 'Ġ', '574', '45', ',', 'ĠRelease', 'ĠDate', ':', 'Ġ', '201', '8', '-', '11', '-', '19', ',', 'ĠTrack', 'ĠURL', ':', 'Ġbeat', 'port', '.com', '/', 'track', '/', '47', '-', 'ron', 'in', '/', '112', '692', '02', ',', 'ĠMix', ':', 'ĠOriginal', 'ĠMix', ',', 'ĠRemix', ':', 'ĠYes', ',', 'ĠRem', 'ixer', ':', 'ĠYes', ',', 'ĠDuration', ':', 'Ġ', '5', ':', '15', 'Ġminutes', ',', 'ĠBPM', ':', 'Ġ', '65', '.', '0', ',', 'ĠKey', 'ĠID', ':', 'Ġ', '13', '.', '0', ',', 'ĠMode', ':', 'Ġ', '1', '.', '0', ',', 'ĠVal', 'ence', ':', 'Ġ', '0', '.', '057', '7', ',', 'ĠDance', 'ability', ':', 'Ġ', '0', '.', '733', ',', 'ĠEnergy', ':', 'Ġ', '0', '.', '41', ',', 'ĠSpeech', 'iness', ':', 'Ġ', '0', '.', '047', '1', ',', 'ĠLoud', 'ness', ':', 'Ġ-', '11', '.', '592', ',', 'ĠL', 'iveness', ':', 'Ġ', '0', '.', '104', ',', 'ĠInstrument', 'al', 'ness', ':', 'Ġ', '0', '.', '873', ',', 'ĠAc', 'oustic', 'ness', ':', 'Ġ', '0', '.', '007', '86', ',', 'ĠIS', 'RC', ':', 'ĠCA', '5', 'KR', '184', '108', '2', ',', 'ĠArtist', 'ĠURL', ':', 'Ġbeat', 'port', '.com', '/', 'artist', '/v', 'ital', 'iy', '-black', '/', '344', '998', ',', 'ĠLabel', 'ĠURL', ':', 'Ġbeat', 'port', '.com', '/', 'label', '/black', '-drop', '/', '574', '45', ',', 'ĠGenre', 'ĠURL', ':', 'Ġ/', 'genre', '/', 'techn', 'o', '-', 'peak', '-time', '-driving', '/', '6', '.']\n",
      "Token IDs: [16042, 3110, 25, 220, 7261, 25073, 2437, 11, 11106, 25, 220, 2618, 14662, 258, 11, 29459, 25, 55371, 16618, 5348, 11, 29459, 3110, 25, 220, 17451, 19416, 11, 41395, 25, 7146, 78, 320, 57867, 4212, 611, 53353, 705, 41395, 3110, 25, 220, 21, 11, 9587, 25, 5348, 16110, 11, 9587, 3110, 25, 220, 23402, 1774, 11, 17836, 2696, 25, 220, 679, 23, 12, 806, 12, 777, 11, 20371, 5665, 25, 9567, 403, 916, 14, 13432, 14, 2618, 12, 2298, 258, 14, 7261, 25073, 2437, 11, 19771, 25, 17674, 19771, 11, 51127, 25, 7566, 11, 5031, 40114, 25, 7566, 11, 21722, 25, 220, 20, 25, 868, 4520, 11, 89319, 25, 220, 2397, 13, 15, 11, 5422, 3110, 25, 220, 1032, 13, 15, 11, 14904, 25, 220, 16, 13, 15, 11, 4196, 768, 25, 220, 15, 13, 26866, 22, 11, 30704, 2968, 25, 220, 15, 13, 24865, 11, 12634, 25, 220, 15, 13, 3174, 11, 39841, 1918, 25, 220, 15, 13, 24970, 16, 11, 80648, 2136, 25, 482, 806, 13, 20128, 11, 445, 13071, 25, 220, 15, 13, 6849, 11, 43405, 278, 2136, 25, 220, 15, 13, 25747, 11, 6515, 35415, 2136, 25, 220, 15, 13, 11194, 4218, 11, 3507, 7532, 25, 9362, 20, 62984, 10336, 6640, 17, 11, 29459, 5665, 25, 9567, 403, 916, 14, 19135, 5574, 2223, 16618, 38046, 14, 17451, 19416, 11, 9587, 5665, 25, 9567, 403, 916, 14, 1530, 99645, 62871, 14, 23402, 1774, 11, 41395, 5665, 25, 611, 34713, 14, 26522, 78, 12, 23635, 7394, 60811, 14, 21, 13]\n"
     ]
    },
    {
     "name": "stderr",
     "output_type": "stream",
     "text": [
      "Tokenizing batches 21-40:  15%|█▌        | 3/20 [01:33<08:50, 31.21s/it]"
     ]
    },
    {
     "name": "stdout",
     "output_type": "stream",
     "text": [
      "Tokens: ['Track', 'ĠID', ':', 'Ġ', '165', '972', '7', ',', 'ĠTitle', ':', 'ĠBlack', 'ĠMoon', 'ĠPart', 'Ġ', '2', ',', 'ĠArtist', ':', 'ĠSv', 'art', '1', ',', 'ĠArtist', 'ĠID', ':', 'Ġ', '172', '609', ',', 'ĠGenre', ':', 'ĠTechn', 'o', 'Ġ(', 'Peak', 'ĠTime', 'Ġ/', 'ĠDriving', '),', 'ĠGenre', 'ĠID', ':', 'Ġ', '6', ',', 'ĠLabel', ':', 'ĠMono', 'ĠRecords', ',', 'ĠLabel', 'ĠID', ':', 'Ġ', '137', '71', ',', 'ĠRelease', 'ĠDate', ':', 'Ġ', '201', '1', '-', '01', '-', '28', ',', 'ĠTrack', 'ĠURL', ':', 'Ġbeat', 'port', '.com', '/', 'track', '/black', '-m', 'oon', '-part', '-', '2', '/', '165', '972', '7', ',', 'ĠMix', ':', 'ĠRemix', ',', 'ĠRemix', ':', 'ĠYes', ',', 'ĠRem', 'ixer', ':', 'ĠYes', ',', 'ĠDuration', ':', 'Ġ', '6', ':', '43', 'Ġminutes', ',', 'ĠBPM', ':', 'Ġ', '126', '.', '0', ',', 'ĠKey', 'ĠID', ':', 'Ġ', '17', '.', '0', ',', 'ĠMode', ':', 'Ġ', '1', '.', '0', ',', 'ĠVal', 'ence', ':', 'Ġ', '0', '.', '033', '9', ',', 'ĠDance', 'ability', ':', 'Ġ', '0', '.', '616', ',', 'ĠEnergy', ':', 'Ġ', '0', '.', '276', ',', 'ĠSpeech', 'iness', ':', 'Ġ', '0', '.', '050', '7', ',', 'ĠLoud', 'ness', ':', 'Ġ-', '17', '.', '269', ',', 'ĠL', 'iveness', ':', 'Ġ', '0', '.', '112', ',', 'ĠInstrument', 'al', 'ness', ':', 'Ġ', '0', '.', '874', ',', 'ĠAc', 'oustic', 'ness', ':', 'Ġ', '0', '.', '009', '41', ',', 'ĠIS', 'RC', ':', 'ĠDE', 'H', '741', '100', '352', ',', 'ĠArtist', 'ĠURL', ':', 'Ġbeat', 'port', '.com', '/', 'artist', '/s', 'v', 'art', '1', '/', '172', '609', ',', 'ĠLabel', 'ĠURL', ':', 'Ġbeat', 'port', '.com', '/', 'label', '/', 'mono', '-', 'records', '/', '137', '71', ',', 'ĠGenre', 'ĠURL', ':', 'Ġ/', 'genre', '/', 'techn', 'o', '-', 'peak', '-time', '-driving', '/', '6', '.']\n",
      "Token IDs: [16042, 3110, 25, 220, 10680, 24425, 22, 11, 11106, 25, 5348, 17781, 3744, 220, 17, 11, 29459, 25, 64705, 472, 16, 11, 29459, 3110, 25, 220, 10861, 21138, 11, 41395, 25, 7146, 78, 320, 57867, 4212, 611, 53353, 705, 41395, 3110, 25, 220, 21, 11, 9587, 25, 12980, 22293, 11, 9587, 3110, 25, 220, 10148, 6028, 11, 17836, 2696, 25, 220, 679, 16, 12, 1721, 12, 1591, 11, 20371, 5665, 25, 9567, 403, 916, 14, 13432, 99645, 1474, 9186, 29137, 12, 17, 14, 10680, 24425, 22, 11, 19771, 25, 51127, 11, 51127, 25, 7566, 11, 5031, 40114, 25, 7566, 11, 21722, 25, 220, 21, 25, 3391, 4520, 11, 89319, 25, 220, 9390, 13, 15, 11, 5422, 3110, 25, 220, 1114, 13, 15, 11, 14904, 25, 220, 16, 13, 15, 11, 4196, 768, 25, 220, 15, 13, 13103, 24, 11, 30704, 2968, 25, 220, 15, 13, 21379, 11, 12634, 25, 220, 15, 13, 16660, 11, 39841, 1918, 25, 220, 15, 13, 16193, 22, 11, 80648, 2136, 25, 482, 1114, 13, 16955, 11, 445, 13071, 25, 220, 15, 13, 7261, 11, 43405, 278, 2136, 25, 220, 15, 13, 25822, 11, 6515, 35415, 2136, 25, 220, 15, 13, 13858, 3174, 11, 3507, 7532, 25, 3467, 39, 25021, 1041, 16482, 11, 29459, 5665, 25, 9567, 403, 916, 14, 19135, 2754, 85, 472, 16, 14, 10861, 21138, 11, 9587, 5665, 25, 9567, 403, 916, 14, 1530, 14, 57501, 12, 27295, 14, 10148, 6028, 11, 41395, 5665, 25, 611, 34713, 14, 26522, 78, 12, 23635, 7394, 60811, 14, 21, 13]\n"
     ]
    },
    {
     "name": "stderr",
     "output_type": "stream",
     "text": [
      "Tokenizing batches 21-40:  25%|██▌       | 5/20 [02:39<08:01, 32.07s/it]"
     ]
    },
    {
     "name": "stdout",
     "output_type": "stream",
     "text": [
      "Tokens: ['Track', 'ĠID', ':', 'Ġ', '100', '137', '13', ',', 'ĠTitle', ':', 'ĠAd', 'renal', 'ine', ',', 'ĠArtist', ':', 'ĠAlias', 'ĠUK', ',', 'ĠArtist', 'ĠID', ':', 'Ġ', '647', '119', ',', 'ĠGenre', ':', 'ĠTechn', 'o', 'Ġ(', 'Peak', 'ĠTime', 'Ġ/', 'ĠDriving', '),', 'ĠGenre', 'ĠID', ':', 'Ġ', '6', ',', 'ĠLabel', ':', 'ĠA', 'ILA', 'ĠRECORD', 'S', ',', 'ĠLabel', 'ĠID', ':', 'Ġ', '513', '02', ',', 'ĠRelease', 'ĠDate', ':', 'Ġ', '201', '7', '-', '12', '-', '29', ',', 'ĠTrack', 'ĠURL', ':', 'Ġbeat', 'port', '.com', '/', 'track', '/ad', 'renal', 'ine', '/', '100', '137', '13', ',', 'ĠMix', ':', 'ĠRemix', ',', 'ĠRemix', ':', 'ĠYes', ',', 'ĠRem', 'ixer', ':', 'ĠYes', ',', 'ĠDuration', ':', 'Ġ', '5', ':', '37', 'Ġminutes', ',', 'ĠBPM', ':', 'Ġ', '125', '.', '0', ',', 'ĠKey', 'ĠID', ':', 'Ġ', '7', '.', '0', ',', 'ĠMode', ':', 'Ġ', '1', '.', '0', ',', 'ĠVal', 'ence', ':', 'Ġ', '0', '.', '044', '3', ',', 'ĠDance', 'ability', ':', 'Ġ', '0', '.', '713', ',', 'ĠEnergy', ':', 'Ġ', '0', '.', '458', ',', 'ĠSpeech', 'iness', ':', 'Ġ', '0', '.', '057', '2', ',', 'ĠLoud', 'ness', ':', 'Ġ-', '20', '.', '156', ',', 'ĠL', 'iveness', ':', 'Ġ', '0', '.', '119', ',', 'ĠInstrument', 'al', 'ness', ':', 'Ġ', '0', '.', '947', ',', 'ĠAc', 'oustic', 'ness', ':', 'Ġ', '0', '.', '103', ',', 'ĠIS', 'RC', ':', 'ĠG', 'BL', 'V', '617', '201', '88', ',', 'ĠArtist', 'ĠURL', ':', 'Ġbeat', 'port', '.com', '/', 'artist', '/', 'alias', '-', 'uk', '/', '647', '119', ',', 'ĠLabel', 'ĠURL', ':', 'Ġbeat', 'port', '.com', '/', 'label', '/', 'ail', 'a', '-', 'records', '/', '513', '02', ',', 'ĠGenre', 'ĠURL', ':', 'Ġ/', 'genre', '/', 'techn', 'o', '-', 'peak', '-time', '-driving', '/', '6', '.']\n",
      "Token IDs: [16042, 3110, 25, 220, 1041, 10148, 1032, 11, 11106, 25, 2467, 47738, 483, 11, 29459, 25, 59140, 6560, 11, 29459, 3110, 25, 220, 22644, 9079, 11, 41395, 25, 7146, 78, 320, 57867, 4212, 611, 53353, 705, 41395, 3110, 25, 220, 21, 11, 9587, 25, 362, 98596, 57093, 50, 11, 9587, 3110, 25, 220, 21164, 2437, 11, 17836, 2696, 25, 220, 679, 22, 12, 717, 12, 1682, 11, 20371, 5665, 25, 9567, 403, 916, 14, 13432, 45560, 47738, 483, 14, 1041, 10148, 1032, 11, 19771, 25, 51127, 11, 51127, 25, 7566, 11, 5031, 40114, 25, 7566, 11, 21722, 25, 220, 20, 25, 1806, 4520, 11, 89319, 25, 220, 6549, 13, 15, 11, 5422, 3110, 25, 220, 22, 13, 15, 11, 14904, 25, 220, 16, 13, 15, 11, 4196, 768, 25, 220, 15, 13, 20078, 18, 11, 30704, 2968, 25, 220, 15, 13, 22977, 11, 12634, 25, 220, 15, 13, 21209, 11, 39841, 1918, 25, 220, 15, 13, 26866, 17, 11, 80648, 2136, 25, 482, 508, 13, 10132, 11, 445, 13071, 25, 220, 15, 13, 9079, 11, 43405, 278, 2136, 25, 220, 15, 13, 26511, 11, 6515, 35415, 2136, 25, 220, 15, 13, 6889, 11, 3507, 7532, 25, 480, 9574, 53, 21717, 679, 2421, 11, 29459, 5665, 25, 9567, 403, 916, 14, 19135, 14, 15305, 12, 3178, 14, 22644, 9079, 11, 9587, 5665, 25, 9567, 403, 916, 14, 1530, 14, 607, 64, 12, 27295, 14, 21164, 2437, 11, 41395, 5665, 25, 611, 34713, 14, 26522, 78, 12, 23635, 7394, 60811, 14, 21, 13]\n"
     ]
    },
    {
     "name": "stderr",
     "output_type": "stream",
     "text": [
      "Tokenizing batches 21-40:  35%|███▌      | 7/20 [03:43<06:55, 31.93s/it]"
     ]
    },
    {
     "name": "stdout",
     "output_type": "stream",
     "text": [
      "Tokens: ['Track', 'ĠID', ':', 'Ġ', '275', '807', '2', ',', 'ĠTitle', ':', 'ĠRelease', 'ĠThe', 'ĠPressure', ',', 'ĠArtist', ':', 'ĠTs', 'T', ',', 'ĠArtist', 'ĠID', ':', 'Ġ', '486', '03', ',', 'ĠGenre', ':', 'ĠTechn', 'o', 'Ġ(', 'Peak', 'ĠTime', 'Ġ/', 'ĠDriving', '),', 'ĠGenre', 'ĠID', ':', 'Ġ', '6', ',', 'ĠLabel', ':', 'Ġ', '24', '/', '7', 'ĠHardcore', ',', 'ĠLabel', 'ĠID', ':', 'Ġ', '220', '96', ',', 'ĠRelease', 'ĠDate', ':', 'Ġ', '201', '1', '-', '10', '-', '12', ',', 'ĠTrack', 'ĠURL', ':', 'Ġbeat', 'port', '.com', '/', 'track', '/release', '-the', '-pressure', '/', '275', '807', '2', ',', 'ĠMix', ':', 'ĠOriginal', 'ĠMix', ',', 'ĠRemix', ':', 'ĠYes', ',', 'ĠRem', 'ixer', ':', 'ĠYes', ',', 'ĠDuration', ':', 'Ġ', '5', ':', '29', 'Ġminutes', ',', 'ĠBPM', ':', 'Ġ', '86', '.', '0', ',', 'ĠKey', 'ĠID', ':', 'Ġ', '34', '.', '0', ',', 'ĠMode', ':', 'Ġ', '0', '.', '0', ',', 'ĠVal', 'ence', ':', 'Ġ', '0', '.', '228', ',', 'ĠDance', 'ability', ':', 'Ġ', '0', '.', '399', ',', 'ĠEnergy', ':', 'Ġ', '0', '.', '991', ',', 'ĠSpeech', 'iness', ':', 'Ġ', '0', '.', '127', ',', 'ĠLoud', 'ness', ':', 'Ġ-', '3', '.', '163', ',', 'ĠL', 'iveness', ':', 'Ġ', '0', '.', '245', ',', 'ĠInstrument', 'al', 'ness', ':', 'Ġ', '0', '.', '405', ',', 'ĠAc', 'oustic', 'ness', ':', 'Ġ', '8', '.', '89', 'e', '-', '06', ',', 'ĠIS', 'RC', ':', 'ĠGB', 'K', 'QU', '115', '438', '3', ',', 'ĠArtist', 'ĠURL', ':', 'Ġbeat', 'port', '.com', '/', 'artist', '/t', 'st', '/', '486', '03', ',', 'ĠLabel', 'ĠURL', ':', 'Ġbeat', 'port', '.com', '/', 'label', '/', '247', '-hard', 'core', '/', '220', '96', ',', 'ĠGenre', 'ĠURL', ':', 'Ġ/', 'genre', '/', 'techn', 'o', '-', 'peak', '-time', '-driving', '/', '6', '.']\n",
      "Token IDs: [16042, 3110, 25, 220, 14417, 23178, 17, 11, 11106, 25, 17836, 578, 40090, 11, 29459, 25, 26132, 51, 11, 29459, 3110, 25, 220, 21511, 2839, 11, 41395, 25, 7146, 78, 320, 57867, 4212, 611, 53353, 705, 41395, 3110, 25, 220, 21, 11, 9587, 25, 220, 1187, 14, 22, 60650, 11, 9587, 3110, 25, 220, 8610, 4161, 11, 17836, 2696, 25, 220, 679, 16, 12, 605, 12, 717, 11, 20371, 5665, 25, 9567, 403, 916, 14, 13432, 89748, 10826, 89561, 14, 14417, 23178, 17, 11, 19771, 25, 17674, 19771, 11, 51127, 25, 7566, 11, 5031, 40114, 25, 7566, 11, 21722, 25, 220, 20, 25, 1682, 4520, 11, 89319, 25, 220, 4218, 13, 15, 11, 5422, 3110, 25, 220, 1958, 13, 15, 11, 14904, 25, 220, 15, 13, 15, 11, 4196, 768, 25, 220, 15, 13, 14261, 11, 30704, 2968, 25, 220, 15, 13, 18572, 11, 12634, 25, 220, 15, 13, 24606, 11, 39841, 1918, 25, 220, 15, 13, 6804, 11, 80648, 2136, 25, 482, 18, 13, 9892, 11, 445, 13071, 25, 220, 15, 13, 13078, 11, 43405, 278, 2136, 25, 220, 15, 13, 16408, 11, 6515, 35415, 2136, 25, 220, 23, 13, 4578, 68, 12, 2705, 11, 3507, 7532, 25, 19397, 42, 5876, 7322, 20596, 18, 11, 29459, 5665, 25, 9567, 403, 916, 14, 19135, 5640, 267, 14, 21511, 2839, 11, 9587, 5665, 25, 9567, 403, 916, 14, 1530, 14, 14125, 71845, 2202, 14, 8610, 4161, 11, 41395, 5665, 25, 611, 34713, 14, 26522, 78, 12, 23635, 7394, 60811, 14, 21, 13]\n"
     ]
    },
    {
     "name": "stderr",
     "output_type": "stream",
     "text": [
      "Tokenizing batches 21-40:  40%|████      | 8/20 [04:14<06:20, 31.72s/it]"
     ]
    },
    {
     "name": "stdout",
     "output_type": "stream",
     "text": [
      "Tokens: ['Track', 'ĠID', ':', 'Ġ', '106', '341', '53', ',', 'ĠTitle', ':', 'ĠEl', 'ĠVer', 'ano', ',', 'ĠArtist', ':', 'ĠPill', 'ĠColl', 'inz', ',', 'ĠArtist', 'ĠID', ':', 'Ġ', '473', '263', ',', 'ĠGenre', ':', 'ĠFunk', 'y', 'ĠHouse', ',', 'ĠGenre', 'ĠID', ':', 'Ġ', '81', ',', 'ĠLabel', ':', 'ĠInfluence', 'ĠRecord', 'ings', ',', 'ĠLabel', 'ĠID', ':', 'Ġ', '957', ',', 'ĠRelease', 'ĠDate', ':', 'Ġ', '201', '8', '-', '07', '-', '05', ',', 'ĠTrack', 'ĠURL', ':', 'Ġbeat', 'port', '.com', '/', 'track', '/el', '-ver', 'ano', '/', '106', '341', '53', ',', 'ĠMix', ':', 'ĠExtended', 'ĠMix', ',', 'ĠRemix', ':', 'ĠYes', ',', 'ĠRem', 'ixer', ':', 'ĠYes', ',', 'ĠDuration', ':', 'Ġ', '4', ':', '42', 'Ġminutes', ',', 'ĠBPM', ':', 'Ġ', '125', '.', '0', ',', 'ĠKey', 'ĠID', ':', 'Ġ', '6', '.', '0', ',', 'ĠMode', ':', 'Ġ', '0', '.', '0', ',', 'ĠVal', 'ence', ':', 'Ġ', '0', '.', '781', ',', 'ĠDance', 'ability', ':', 'Ġ', '0', '.', '772', ',', 'ĠEnergy', ':', 'Ġ', '0', '.', '964', ',', 'ĠSpeech', 'iness', ':', 'Ġ', '0', '.', '107', ',', 'ĠLoud', 'ness', ':', 'Ġ-', '4', '.', '672', ',', 'ĠL', 'iveness', ':', 'Ġ', '0', '.', '131', ',', 'ĠInstrument', 'al', 'ness', ':', 'Ġ', '0', '.', '010', '7', ',', 'ĠAc', 'oustic', 'ness', ':', 'Ġ', '0', '.', '010', '2', ',', 'ĠIS', 'RC', ':', 'ĠDE', 'W', '871', '805', '153', ',', 'ĠArtist', 'ĠURL', ':', 'Ġbeat', 'port', '.com', '/', 'artist', '/p', 'ill', '-c', 'oll', 'inz', '/', '473', '263', ',', 'ĠLabel', 'ĠURL', ':', 'Ġbeat', 'port', '.com', '/', 'label', '/in', 'fluence', '-record', 'ings', '/', '957', ',', 'ĠGenre', 'ĠURL', ':', 'Ġ/', 'genre', '/f', 'unky', '-house', '/', '81', '.']\n",
      "Token IDs: [16042, 3110, 25, 220, 7461, 16546, 4331, 11, 11106, 25, 4072, 6383, 5770, 11, 29459, 25, 35236, 13201, 41622, 11, 29459, 3110, 25, 220, 21505, 15666, 11, 41395, 25, 40710, 88, 4783, 11, 41395, 3110, 25, 220, 5932, 11, 9587, 25, 76040, 13896, 826, 11, 9587, 3110, 25, 220, 27341, 11, 17836, 2696, 25, 220, 679, 23, 12, 2589, 12, 2304, 11, 20371, 5665, 25, 9567, 403, 916, 14, 13432, 89758, 99156, 5770, 14, 7461, 16546, 4331, 11, 19771, 25, 41665, 19771, 11, 51127, 25, 7566, 11, 5031, 40114, 25, 7566, 11, 21722, 25, 220, 19, 25, 2983, 4520, 11, 89319, 25, 220, 6549, 13, 15, 11, 5422, 3110, 25, 220, 21, 13, 15, 11, 14904, 25, 220, 15, 13, 15, 11, 4196, 768, 25, 220, 15, 13, 21893, 11, 30704, 2968, 25, 220, 15, 13, 23624, 11, 12634, 25, 220, 15, 13, 26281, 11, 39841, 1918, 25, 220, 15, 13, 7699, 11, 80648, 2136, 25, 482, 19, 13, 22768, 11, 445, 13071, 25, 220, 15, 13, 9263, 11, 43405, 278, 2136, 25, 220, 15, 13, 7755, 22, 11, 6515, 35415, 2136, 25, 220, 15, 13, 7755, 17, 11, 3507, 7532, 25, 3467, 54, 25665, 21032, 9800, 11, 29459, 5665, 25, 9567, 403, 916, 14, 19135, 4420, 484, 1824, 980, 41622, 14, 21505, 15666, 11, 9587, 5665, 25, 9567, 403, 916, 14, 1530, 18480, 41116, 57263, 826, 14, 27341, 11, 41395, 5665, 25, 611, 34713, 6801, 70305, 37002, 14, 5932, 13]\n",
      "Tokens: ['Track', 'ĠID', ':', 'Ġ', '178', '668', '78', ',', 'ĠTitle', ':', 'ĠThe', 'ĠBasics', ',', 'ĠArtist', ':', 'ĠThe', 'ĠDo', 'berman', 'ĠClub', ',', 'ĠArtist', 'ĠID', ':', 'Ġ', '820', '536', ',', 'ĠGenre', ':', 'ĠFunk', 'y', 'ĠHouse', ',', 'ĠGenre', 'ĠID', ':', 'Ġ', '81', ',', 'ĠLabel', ':', 'ĠClub', 'ĠSession', ',', 'ĠLabel', 'ĠID', ':', 'Ġ', '226', '67', ',', 'ĠRelease', 'ĠDate', ':', 'Ġ', '202', '3', '-', '07', '-', '01', ',', 'ĠTrack', 'ĠURL', ':', 'Ġbeat', 'port', '.com', '/', 'track', '/the', '-b', 'asics', '/', '178', '668', '78', ',', 'ĠMix', ':', 'ĠExtended', 'ĠMix', ',', 'ĠRemix', ':', 'ĠYes', ',', 'ĠRem', 'ixer', ':', 'ĠYes', ',', 'ĠDuration', ':', 'Ġ', '4', ':', '40', 'Ġminutes', ',', 'ĠBPM', ':', 'Ġ', '126', '.', '0', ',', 'ĠKey', 'ĠID', ':', 'Ġ', '21', '.', '0', ',', 'ĠMode', ':', 'Ġ', '1', '.', '0', ',', 'ĠVal', 'ence', ':', 'Ġ', '0', '.', '479', ',', 'ĠDance', 'ability', ':', 'Ġ', '0', '.', '774', ',', 'ĠEnergy', ':', 'Ġ', '0', '.', '88', ',', 'ĠSpeech', 'iness', ':', 'Ġ', '0', '.', '097', '8', ',', 'ĠLoud', 'ness', ':', 'Ġ-', '7', '.', '497', ',', 'ĠL', 'iveness', ':', 'Ġ', '0', '.', '069', ',', 'ĠInstrument', 'al', 'ness', ':', 'Ġ', '0', '.', '449', ',', 'ĠAc', 'oustic', 'ness', ':', 'Ġ', '0', '.', '007', '3', ',', 'ĠIS', 'RC', ':', 'ĠDE', 'W', '872', '301', '426', ',', 'ĠArtist', 'ĠURL', ':', 'Ġbeat', 'port', '.com', '/', 'artist', '/the', '-d', 'ober', 'man', '-', 'club', '/', '820', '536', ',', 'ĠLabel', 'ĠURL', ':', 'Ġbeat', 'port', '.com', '/', 'label', '/', 'club', '-session', '/', '226', '67', ',', 'ĠGenre', 'ĠURL', ':', 'Ġ/', 'genre', '/f', 'unky', '-house', '/', '81', '.']\n",
      "Token IDs: [16042, 3110, 25, 220, 11256, 24427, 2495, 11, 11106, 25, 578, 68276, 11, 29459, 25, 578, 3234, 81295, 10349, 11, 29459, 3110, 25, 220, 18248, 21600, 11, 41395, 25, 40710, 88, 4783, 11, 41395, 3110, 25, 220, 5932, 11, 9587, 25, 10349, 9343, 11, 9587, 3110, 25, 220, 14057, 3080, 11, 17836, 2696, 25, 220, 2366, 18, 12, 2589, 12, 1721, 11, 20371, 5665, 25, 9567, 403, 916, 14, 13432, 52357, 1481, 69081, 14, 11256, 24427, 2495, 11, 19771, 25, 41665, 19771, 11, 51127, 25, 7566, 11, 5031, 40114, 25, 7566, 11, 21722, 25, 220, 19, 25, 1272, 4520, 11, 89319, 25, 220, 9390, 13, 15, 11, 5422, 3110, 25, 220, 1691, 13, 15, 11, 14904, 25, 220, 16, 13, 15, 11, 4196, 768, 25, 220, 15, 13, 21848, 11, 30704, 2968, 25, 220, 15, 13, 24472, 11, 12634, 25, 220, 15, 13, 2421, 11, 39841, 1918, 25, 220, 15, 13, 28384, 23, 11, 80648, 2136, 25, 482, 22, 13, 22640, 11, 445, 13071, 25, 220, 15, 13, 27325, 11, 43405, 278, 2136, 25, 220, 15, 13, 21125, 11, 6515, 35415, 2136, 25, 220, 15, 13, 11194, 18, 11, 3507, 7532, 25, 3467, 54, 25303, 12405, 20363, 11, 29459, 5665, 25, 9567, 403, 916, 14, 19135, 52357, 1773, 6048, 1543, 12, 20453, 14, 18248, 21600, 11, 9587, 5665, 25, 9567, 403, 916, 14, 1530, 14, 20453, 58281, 14, 14057, 3080, 11, 41395, 5665, 25, 611, 34713, 6801, 70305, 37002, 14, 5932, 13]\n"
     ]
    },
    {
     "name": "stderr",
     "output_type": "stream",
     "text": [
      "Tokenizing batches 21-40:  45%|████▌     | 9/20 [04:47<05:51, 31.97s/it]"
     ]
    },
    {
     "name": "stdout",
     "output_type": "stream",
     "text": [
      "Tokens: ['Track', 'ĠID', ':', 'Ġ', '921', '101', '9', ',', 'ĠTitle', ':', 'ĠFl', 'ute', ',', 'ĠArtist', ':', 'ĠMarc', 'io', 'ĠPer', 'on', ',', 'ĠArtist', 'ĠID', ':', 'Ġ', '472', '408', ',', 'ĠGenre', ':', 'ĠFunk', 'y', 'ĠHouse', ',', 'ĠGenre', 'ĠID', ':', 'Ġ', '81', ',', 'ĠLabel', ':', 'Ġ', '1', 'T', 'rib', 'al', 'ĠRecords', ',', 'ĠLabel', 'ĠID', ':', 'Ġ', '409', '27', ',', 'ĠRelease', 'ĠDate', ':', 'Ġ', '201', '7', '-', '05', '-', '09', ',', 'ĠTrack', 'ĠURL', ':', 'Ġbeat', 'port', '.com', '/', 'track', '/fl', 'ute', '/', '921', '101', '9', ',', 'ĠMix', ':', 'ĠOriginal', 'ĠMix', ',', 'ĠRemix', ':', 'ĠYes', ',', 'ĠRem', 'ixer', ':', 'ĠYes', ',', 'ĠDuration', ':', 'Ġ', '5', ':', '39', 'Ġminutes', ',', 'ĠBPM', ':', 'Ġ', '130', '.', '0', ',', 'ĠKey', 'ĠID', ':', 'Ġ', '21', '.', '0', ',', 'ĠMode', ':', 'Ġ', '1', '.', '0', ',', 'ĠVal', 'ence', ':', 'Ġ', '0', '.', '654', ',', 'ĠDance', 'ability', ':', 'Ġ', '0', '.', '73', ',', 'ĠEnergy', ':', 'Ġ', '0', '.', '984', ',', 'ĠSpeech', 'iness', ':', 'Ġ', '0', '.', '078', '9', ',', 'ĠLoud', 'ness', ':', 'Ġ-', '4', '.', '934', ',', 'ĠL', 'iveness', ':', 'Ġ', '0', '.', '815', ',', 'ĠInstrument', 'al', 'ness', ':', 'Ġ', '0', '.', '803', ',', 'ĠAc', 'oustic', 'ness', ':', 'Ġ', '0', '.', '001', '2', ',', 'ĠIS', 'RC', ':', 'ĠFR', '2', 'X', '417', '567', '99', ',', 'ĠArtist', 'ĠURL', ':', 'Ġbeat', 'port', '.com', '/', 'artist', '/m', 'arc', 'io', '-per', 'on', '/', '472', '408', ',', 'ĠLabel', 'ĠURL', ':', 'Ġbeat', 'port', '.com', '/', 'label', '/', '1', 'trib', 'al', '-', 'records', '/', '409', '27', ',', 'ĠGenre', 'ĠURL', ':', 'Ġ/', 'genre', '/f', 'unky', '-house', '/', '81', '.']\n",
      "Token IDs: [16042, 3110, 25, 220, 22536, 4645, 24, 11, 11106, 25, 3061, 1088, 11, 29459, 25, 19412, 822, 3700, 263, 11, 29459, 3110, 25, 220, 21757, 18058, 11, 41395, 25, 40710, 88, 4783, 11, 41395, 3110, 25, 220, 5932, 11, 9587, 25, 220, 16, 51, 1936, 278, 22293, 11, 9587, 3110, 25, 220, 12378, 1544, 11, 17836, 2696, 25, 220, 679, 22, 12, 2304, 12, 2545, 11, 20371, 5665, 25, 9567, 403, 916, 14, 13432, 59403, 1088, 14, 22536, 4645, 24, 11, 19771, 25, 17674, 19771, 11, 51127, 25, 7566, 11, 5031, 40114, 25, 7566, 11, 21722, 25, 220, 20, 25, 2137, 4520, 11, 89319, 25, 220, 5894, 13, 15, 11, 5422, 3110, 25, 220, 1691, 13, 15, 11, 14904, 25, 220, 16, 13, 15, 11, 4196, 768, 25, 220, 15, 13, 21969, 11, 30704, 2968, 25, 220, 15, 13, 5958, 11, 12634, 25, 220, 15, 13, 23812, 11, 39841, 1918, 25, 220, 15, 13, 24850, 24, 11, 80648, 2136, 25, 482, 19, 13, 24347, 11, 445, 13071, 25, 220, 15, 13, 23582, 11, 43405, 278, 2136, 25, 220, 15, 13, 20899, 11, 6515, 35415, 2136, 25, 220, 15, 13, 4119, 17, 11, 3507, 7532, 25, 17067, 17, 55, 19561, 19282, 1484, 11, 29459, 5665, 25, 9567, 403, 916, 14, 19135, 3262, 8362, 822, 17453, 263, 14, 21757, 18058, 11, 9587, 5665, 25, 9567, 403, 916, 14, 1530, 14, 16, 1356, 278, 12, 27295, 14, 12378, 1544, 11, 41395, 5665, 25, 611, 34713, 6801, 70305, 37002, 14, 5932, 13]\n"
     ]
    },
    {
     "name": "stderr",
     "output_type": "stream",
     "text": [
      "Tokenizing batches 21-40:  80%|████████  | 16/20 [08:39<02:12, 33.25s/it]"
     ]
    },
    {
     "name": "stdout",
     "output_type": "stream",
     "text": [
      "Tokens: ['Track', 'ĠID', ':', 'Ġ', '105', '310', '38', ',', 'ĠTitle', ':', 'ĠWhat', 'ĠYou', 'ĠDo', ',', 'ĠArtist', ':', 'ĠFreak', 'a', 'Tr', 'on', ',', 'ĠArtist', 'ĠID', ':', 'Ġ', '676', '351', ',', 'ĠGenre', ':', 'ĠDance', 'Ġ/', 'ĠElectro', 'ĠPop', ',', 'ĠGenre', 'ĠID', ':', 'Ġ', '39', ',', 'ĠLabel', ':', 'ĠLAND', 'R', ',', 'ĠSelf', '-', 'Released', ',', 'ĠLabel', 'ĠID', ':', 'Ġ', '676', '26', ',', 'ĠRelease', 'ĠDate', ':', 'Ġ', '201', '8', '-', '04', '-', '23', ',', 'ĠTrack', 'ĠURL', ':', 'Ġbeat', 'port', '.com', '/', 'track', '/', 'what', '-you', '-do', '/', '105', '310', '38', ',', 'ĠMix', ':', 'ĠOriginal', 'ĠMix', ',', 'ĠRemix', ':', 'ĠYes', ',', 'ĠRem', 'ixer', ':', 'ĠYes', ',', 'ĠDuration', ':', 'Ġ', '4', ':', '15', 'Ġminutes', ',', 'ĠBPM', ':', 'Ġ', '70', '.', '0', ',', 'ĠKey', 'ĠID', ':', 'Ġ', '22', '.', '0', ',', 'ĠMode', ':', 'Ġ', '0', '.', '0', ',', 'ĠVal', 'ence', ':', 'Ġ', '0', '.', '273', ',', 'ĠDance', 'ability', ':', 'Ġ', '0', '.', '421', ',', 'ĠEnergy', ':', 'Ġ', '0', '.', '804', ',', 'ĠSpeech', 'iness', ':', 'Ġ', '0', '.', '047', '2', ',', 'ĠLoud', 'ness', ':', 'Ġ-', '4', '.', '371', ',', 'ĠL', 'iveness', ':', 'Ġ', '0', '.', '333', ',', 'ĠInstrument', 'al', 'ness', ':', 'Ġ', '0', '.', '831', ',', 'ĠAc', 'oustic', 'ness', ':', 'Ġ', '0', '.', '018', '7', ',', 'ĠIS', 'RC', ':', 'ĠCA', 'ENV', '186', '623', '9', ',', 'ĠArtist', 'ĠURL', ':', 'Ġbeat', 'port', '.com', '/', 'artist', '/f', 'reak', 'atron', '/', '676', '351', ',', 'ĠLabel', 'ĠURL', ':', 'Ġbeat', 'port', '.com', '/', 'label', '/', 'land', 'r', '-self', '-re', 'leased', '/', '676', '26', ',', 'ĠGenre', 'ĠURL', ':', 'Ġ/', 'genre', '/d', 'ance', '-elect', 'ro', '-pop', '/', '39', '.']\n",
      "Token IDs: [16042, 3110, 25, 220, 6550, 12226, 1987, 11, 11106, 25, 3639, 1472, 3234, 11, 29459, 25, 81225, 64, 1305, 263, 11, 29459, 3110, 25, 220, 24187, 18113, 11, 41395, 25, 30704, 611, 69390, 10466, 11, 41395, 3110, 25, 220, 2137, 11, 9587, 25, 92956, 49, 11, 10323, 12, 41138, 11, 9587, 3110, 25, 220, 24187, 1627, 11, 17836, 2696, 25, 220, 679, 23, 12, 2371, 12, 1419, 11, 20371, 5665, 25, 9567, 403, 916, 14, 13432, 14, 12840, 46517, 30659, 14, 6550, 12226, 1987, 11, 19771, 25, 17674, 19771, 11, 51127, 25, 7566, 11, 5031, 40114, 25, 7566, 11, 21722, 25, 220, 19, 25, 868, 4520, 11, 89319, 25, 220, 2031, 13, 15, 11, 5422, 3110, 25, 220, 1313, 13, 15, 11, 14904, 25, 220, 15, 13, 15, 11, 4196, 768, 25, 220, 15, 13, 15451, 11, 30704, 2968, 25, 220, 15, 13, 18245, 11, 12634, 25, 220, 15, 13, 20417, 11, 39841, 1918, 25, 220, 15, 13, 24970, 17, 11, 80648, 2136, 25, 482, 19, 13, 18650, 11, 445, 13071, 25, 220, 15, 13, 8765, 11, 43405, 278, 2136, 25, 220, 15, 13, 25009, 11, 6515, 35415, 2136, 25, 220, 15, 13, 16745, 22, 11, 3507, 7532, 25, 9362, 31460, 9714, 22801, 24, 11, 29459, 5665, 25, 9567, 403, 916, 14, 19135, 6801, 1127, 81189, 14, 24187, 18113, 11, 9587, 5665, 25, 9567, 403, 916, 14, 1530, 14, 1974, 81, 42576, 5621, 4778, 14, 24187, 1627, 11, 41395, 5665, 25, 611, 34713, 3529, 685, 37081, 299, 41352, 14, 2137, 13]\n"
     ]
    },
    {
     "name": "stderr",
     "output_type": "stream",
     "text": [
      "Tokenizing batches 21-40:  95%|█████████▌| 19/20 [10:24<00:34, 34.43s/it]"
     ]
    },
    {
     "name": "stdout",
     "output_type": "stream",
     "text": [
      "Tokens: ['Track', 'ĠID', ':', 'Ġ', '104', '329', '84', ',', 'ĠTitle', ':', 'ĠDem', 'ons', ',', 'ĠArtist', ':', 'ĠM', 'anna', '-C', 'roup', ',', 'ĠArtist', 'ĠID', ':', 'Ġ', '172', '194', ',', 'ĠGenre', ':', 'ĠTech', 'ĠHouse', ',', 'ĠGenre', 'ĠID', ':', 'Ġ', '11', ',', 'ĠLabel', ':', 'ĠMusic', 'ĠIs', 'ĠMy', 'ĠReligion', ',', 'ĠLabel', 'ĠID', ':', 'Ġ', '659', '53', ',', 'ĠRelease', 'ĠDate', ':', 'Ġ', '201', '8', '-', '04', '-', '30', ',', 'ĠTrack', 'ĠURL', ':', 'Ġbeat', 'port', '.com', '/', 'track', '/d', 'emons', '/', '104', '329', '84', ',', 'ĠMix', ':', 'ĠOriginal', 'ĠMix', ',', 'ĠRemix', ':', 'ĠYes', ',', 'ĠRem', 'ixer', ':', 'ĠYes', ',', 'ĠDuration', ':', 'Ġ', '8', ':', '33', 'Ġminutes', ',', 'ĠBPM', ':', 'Ġ', '120', '.', '0', ',', 'ĠKey', 'ĠID', ':', 'Ġ', '33', '.', '0', ',', 'ĠMode', ':', 'Ġ', '1', '.', '0', ',', 'ĠVal', 'ence', ':', 'Ġ', '0', '.', '576', ',', 'ĠDance', 'ability', ':', 'Ġ', '0', '.', '735', ',', 'ĠEnergy', ':', 'Ġ', '0', '.', '687', ',', 'ĠSpeech', 'iness', ':', 'Ġ', '0', '.', '049', '5', ',', 'ĠLoud', 'ness', ':', 'Ġ-', '6', '.', '917', ',', 'ĠL', 'iveness', ':', 'Ġ', '0', '.', '089', '6', ',', 'ĠInstrument', 'al', 'ness', ':', 'Ġ', '0', '.', '101', ',', 'ĠAc', 'oustic', 'ness', ':', 'Ġ', '0', '.', '261', ',', 'ĠIS', 'RC', ':', 'ĠGB', 'BL', '714', '000', '62', ',', 'ĠArtist', 'ĠURL', ':', 'Ġbeat', 'port', '.com', '/', 'artist', '/m', 'anna', '-c', 'roup', '/', '172', '194', ',', 'ĠLabel', 'ĠURL', ':', 'Ġbeat', 'port', '.com', '/', 'label', '/music', '-is', '-my', '-rel', 'igion', '/', '659', '53', ',', 'ĠGenre', 'ĠURL', ':', 'Ġ/', 'genre', '/', 'tech', '-house', '/', '11', '.']\n",
      "Token IDs: [16042, 3110, 25, 220, 6849, 18196, 5833, 11, 11106, 25, 4829, 2439, 11, 29459, 25, 386, 12930, 7813, 896, 11, 29459, 3110, 25, 220, 10861, 6393, 11, 41395, 25, 17829, 4783, 11, 41395, 3110, 25, 220, 806, 11, 9587, 25, 10948, 2209, 3092, 44193, 11, 9587, 3110, 25, 220, 25090, 4331, 11, 17836, 2696, 25, 220, 679, 23, 12, 2371, 12, 966, 11, 20371, 5665, 25, 9567, 403, 916, 14, 13432, 3529, 59396, 14, 6849, 18196, 5833, 11, 19771, 25, 17674, 19771, 11, 51127, 25, 7566, 11, 5031, 40114, 25, 7566, 11, 21722, 25, 220, 23, 25, 1644, 4520, 11, 89319, 25, 220, 4364, 13, 15, 11, 5422, 3110, 25, 220, 1644, 13, 15, 11, 14904, 25, 220, 16, 13, 15, 11, 4196, 768, 25, 220, 15, 13, 20758, 11, 30704, 2968, 25, 220, 15, 13, 24939, 11, 12634, 25, 220, 15, 13, 21897, 11, 39841, 1918, 25, 220, 15, 13, 25307, 20, 11, 80648, 2136, 25, 482, 21, 13, 24391, 11, 445, 13071, 25, 220, 15, 13, 25867, 21, 11, 43405, 278, 2136, 25, 220, 15, 13, 4645, 11, 6515, 35415, 2136, 25, 220, 15, 13, 15602, 11, 3507, 7532, 25, 19397, 9574, 23193, 931, 5538, 11, 29459, 5665, 25, 9567, 403, 916, 14, 19135, 3262, 12930, 1824, 896, 14, 10861, 6393, 11, 9587, 5665, 25, 9567, 403, 916, 14, 1530, 78870, 31530, 62596, 48712, 32718, 14, 25090, 4331, 11, 41395, 5665, 25, 611, 34713, 14, 18261, 37002, 14, 806, 13]\n"
     ]
    },
    {
     "name": "stderr",
     "output_type": "stream",
     "text": [
      "Tokenizing batches 21-40: 100%|██████████| 20/20 [10:57<00:00, 32.87s/it]\n",
      "Tokenizing batches 41-60:   5%|▌         | 1/20 [00:32<10:11, 32.16s/it]"
     ]
    },
    {
     "name": "stdout",
     "output_type": "stream",
     "text": [
      "Tokens: ['Track', 'ĠID', ':', 'Ġ', '312', '896', '3', ',', 'ĠTitle', ':', 'ĠWell', 'ĠWater', ',', 'ĠArtist', ':', 'ĠSt', 'as', 'ĠMiller', ',', 'ĠArtist', 'ĠID', ':', 'Ġ', '211', '869', ',', 'ĠGenre', ':', 'ĠTech', 'ĠHouse', ',', 'ĠGenre', 'ĠID', ':', 'Ġ', '11', ',', 'ĠLabel', ':', 'Ġ', '9', 'ĠS', 'ides', 'ĠRecords', ',', 'ĠLabel', 'ĠID', ':', 'Ġ', '175', '33', ',', 'ĠRelease', 'ĠDate', ':', 'Ġ', '201', '1', '-', '11', '-', '19', ',', 'ĠTrack', 'ĠURL', ':', 'Ġbeat', 'port', '.com', '/', 'track', '/w', 'ell', '-water', '/', '312', '896', '3', ',', 'ĠMix', ':', 'ĠRemix', ',', 'ĠRemix', ':', 'ĠYes', ',', 'ĠRem', 'ixer', ':', 'ĠYes', ',', 'ĠDuration', ':', 'Ġ', '5', ':', '37', 'Ġminutes', ',', 'ĠBPM', ':', 'Ġ', '128', '.', '0', ',', 'ĠKey', 'ĠID', ':', 'Ġ', '12', '.', '0', ',', 'ĠMode', ':', 'Ġ', '1', '.', '0', ',', 'ĠVal', 'ence', ':', 'Ġ', '0', '.', '083', '4', ',', 'ĠDance', 'ability', ':', 'Ġ', '0', '.', '844', ',', 'ĠEnergy', ':', 'Ġ', '0', '.', '649', ',', 'ĠSpeech', 'iness', ':', 'Ġ', '0', '.', '052', '9', ',', 'ĠLoud', 'ness', ':', 'Ġ-', '11', '.', '287', ',', 'ĠL', 'iveness', ':', 'Ġ', '0', '.', '112', ',', 'ĠInstrument', 'al', 'ness', ':', 'Ġ', '0', '.', '913', ',', 'ĠAc', 'oustic', 'ness', ':', 'Ġ', '0', '.', '022', '9', ',', 'ĠIS', 'RC', ':', 'ĠR', 'UA', '491', '117', '999', ',', 'ĠArtist', 'ĠURL', ':', 'Ġbeat', 'port', '.com', '/', 'artist', '/st', 'as', '-m', 'iller', '/', '211', '869', ',', 'ĠLabel', 'ĠURL', ':', 'Ġbeat', 'port', '.com', '/', 'label', '/', '9', '-s', 'ides', '-', 'records', '/', '175', '33', ',', 'ĠGenre', 'ĠURL', ':', 'Ġ/', 'genre', '/', 'tech', '-house', '/', '11', '.']\n",
      "Token IDs: [16042, 3110, 25, 220, 13384, 24542, 18, 11, 11106, 25, 8489, 10164, 11, 29459, 25, 800, 300, 17472, 11, 29459, 3110, 25, 220, 11483, 26497, 11, 41395, 25, 17829, 4783, 11, 41395, 3110, 25, 220, 806, 11, 9587, 25, 220, 24, 328, 3422, 22293, 11, 9587, 3110, 25, 220, 10005, 1644, 11, 17836, 2696, 25, 220, 679, 16, 12, 806, 12, 777, 11, 20371, 5665, 25, 9567, 403, 916, 14, 13432, 6458, 616, 55051, 14, 13384, 24542, 18, 11, 19771, 25, 51127, 11, 51127, 25, 7566, 11, 5031, 40114, 25, 7566, 11, 21722, 25, 220, 20, 25, 1806, 4520, 11, 89319, 25, 220, 4386, 13, 15, 11, 5422, 3110, 25, 220, 717, 13, 15, 11, 14904, 25, 220, 16, 13, 15, 11, 4196, 768, 25, 220, 15, 13, 25077, 19, 11, 30704, 2968, 25, 220, 15, 13, 24344, 11, 12634, 25, 220, 15, 13, 24734, 11, 39841, 1918, 25, 220, 15, 13, 24130, 24, 11, 80648, 2136, 25, 482, 806, 13, 17897, 11, 445, 13071, 25, 220, 15, 13, 7261, 11, 43405, 278, 2136, 25, 220, 15, 13, 24331, 11, 6515, 35415, 2136, 25, 220, 15, 13, 18642, 24, 11, 3507, 7532, 25, 432, 18258, 21824, 8546, 5500, 11, 29459, 5665, 25, 9567, 403, 916, 14, 19135, 14607, 300, 1474, 15610, 14, 11483, 26497, 11, 9587, 5665, 25, 9567, 403, 916, 14, 1530, 14, 24, 1355, 3422, 12, 27295, 14, 10005, 1644, 11, 41395, 5665, 25, 611, 34713, 14, 18261, 37002, 14, 806, 13]\n"
     ]
    },
    {
     "name": "stderr",
     "output_type": "stream",
     "text": [
      "Tokenizing batches 41-60:  35%|███▌      | 7/20 [04:08<07:53, 36.41s/it]"
     ]
    },
    {
     "name": "stdout",
     "output_type": "stream",
     "text": [
      "Tokens: ['Track', 'ĠID', ':', 'Ġ', '114', '865', '13', ',', 'ĠTitle', ':', 'ĠBL', 'K', 'SW', 'N', 'Ġfeat', '.', 'ĠAlex', 'ĠDon', 'ati', ',', 'ĠArtist', ':', 'ĠJeff', 'ĠEvel', 'ine', ',', 'ĠArtist', 'ĠID', ':', 'Ġ', '123', '699', ',', 'ĠGenre', ':', 'ĠTech', 'ĠHouse', ',', 'ĠGenre', 'ĠID', ':', 'Ġ', '11', ',', 'ĠLabel', ':', 'ĠMad', 'zone', 'generation', 'ĠRecords', ',', 'ĠLabel', 'ĠID', ':', 'Ġ', '228', '33', ',', 'ĠRelease', 'ĠDate', ':', 'Ġ', '201', '9', '-', '01', '-', '14', ',', 'ĠTrack', 'ĠURL', ':', 'Ġbeat', 'port', '.com', '/', 'track', '/bl', 'ks', 'wn', '-fe', 'at', '-', 'alex', '-d', 'on', 'ati', '/', '114', '865', '13', ',', 'ĠMix', ':', 'ĠOriginal', 'ĠMix', ',', 'ĠRemix', ':', 'ĠYes', ',', 'ĠRem', 'ixer', ':', 'ĠYes', ',', 'ĠDuration', ':', 'Ġ', '7', ':', '00', 'Ġminutes', ',', 'ĠBPM', ':', 'Ġ', '120', '.', '0', ',', 'ĠKey', 'ĠID', ':', 'Ġ', '8', '.', '0', ',', 'ĠMode', ':', 'Ġ', '0', '.', '0', ',', 'ĠVal', 'ence', ':', 'Ġ', '0', '.', '314', ',', 'ĠDance', 'ability', ':', 'Ġ', '0', '.', '812', ',', 'ĠEnergy', ':', 'Ġ', '0', '.', '598', ',', 'ĠSpeech', 'iness', ':', 'Ġ', '0', '.', '139', ',', 'ĠLoud', 'ness', ':', 'Ġ-', '11', '.', '125', ',', 'ĠL', 'iveness', ':', 'Ġ', '0', '.', '102', ',', 'ĠInstrument', 'al', 'ness', ':', 'Ġ', '0', '.', '814', ',', 'ĠAc', 'oustic', 'ness', ':', 'Ġ', '0', '.', '000', '429', ',', 'ĠIS', 'RC', ':', 'ĠFR', 'X', '201', '746', '241', ',', 'ĠArtist', 'ĠURL', ':', 'Ġbeat', 'port', '.com', '/', 'artist', '/', 'je', 'ff', '-e', 'vel', 'ine', '/', '123', '699', ',', 'ĠLabel', 'ĠURL', ':', 'Ġbeat', 'port', '.com', '/', 'label', '/m', 'ad', 'zone', 'generation', '-', 'records', '/', '228', '33', ',', 'ĠGenre', 'ĠURL', ':', 'Ġ/', 'genre', '/', 'tech', '-house', '/', '11', '.']\n",
      "Token IDs: [16042, 3110, 25, 220, 8011, 24678, 1032, 11, 11106, 25, 15195, 42, 17268, 45, 12627, 13, 8683, 4418, 9491, 11, 29459, 25, 12149, 82096, 483, 11, 29459, 3110, 25, 220, 4513, 23459, 11, 41395, 25, 17829, 4783, 11, 41395, 3110, 25, 220, 806, 11, 9587, 25, 9671, 8855, 81157, 22293, 11, 9587, 3110, 25, 220, 14261, 1644, 11, 17836, 2696, 25, 220, 679, 24, 12, 1721, 12, 975, 11, 20371, 5665, 25, 9567, 403, 916, 14, 13432, 90293, 2857, 1551, 34303, 266, 12, 56975, 1773, 263, 9491, 14, 8011, 24678, 1032, 11, 19771, 25, 17674, 19771, 11, 51127, 25, 7566, 11, 5031, 40114, 25, 7566, 11, 21722, 25, 220, 22, 25, 410, 4520, 11, 89319, 25, 220, 4364, 13, 15, 11, 5422, 3110, 25, 220, 23, 13, 15, 11, 14904, 25, 220, 15, 13, 15, 11, 4196, 768, 25, 220, 15, 13, 16104, 11, 30704, 2968, 25, 220, 15, 13, 19270, 11, 12634, 25, 220, 15, 13, 21856, 11, 39841, 1918, 25, 220, 15, 13, 10125, 11, 80648, 2136, 25, 482, 806, 13, 6549, 11, 445, 13071, 25, 220, 15, 13, 4278, 11, 43405, 278, 2136, 25, 220, 15, 13, 25498, 11, 6515, 35415, 2136, 25, 220, 15, 13, 931, 16371, 11, 3507, 7532, 25, 17067, 55, 679, 25594, 13341, 11, 29459, 5665, 25, 9567, 403, 916, 14, 19135, 14, 3841, 544, 5773, 899, 483, 14, 4513, 23459, 11, 9587, 5665, 25, 9567, 403, 916, 14, 1530, 3262, 329, 8855, 81157, 12, 27295, 14, 14261, 1644, 11, 41395, 5665, 25, 611, 34713, 14, 18261, 37002, 14, 806, 13]\n"
     ]
    },
    {
     "name": "stderr",
     "output_type": "stream",
     "text": [
      "Tokenizing batches 41-60:  60%|██████    | 12/20 [07:09<04:51, 36.41s/it]"
     ]
    },
    {
     "name": "stdout",
     "output_type": "stream",
     "text": [
      "Tokens: ['Track', 'ĠID', ':', 'Ġ', '983', '273', '8', ',', 'ĠTitle', ':', 'ĠLogical', 'ĠMovement', ',', 'ĠArtist', ':', 'ĠMiss', 'ĠVogue', ',', 'ĠArtist', 'ĠID', ':', 'Ġ', '408', '631', ',', 'ĠGenre', ':', 'ĠTech', 'ĠHouse', ',', 'ĠGenre', 'ĠID', ':', 'Ġ', '11', ',', 'ĠLabel', ':', 'ĠExt', 'acy', ',', 'ĠLabel', 'ĠID', ':', 'Ġ', '345', '28', ',', 'ĠRelease', 'ĠDate', ':', 'Ġ', '201', '7', '-', '10', '-', '27', ',', 'ĠTrack', 'ĠURL', ':', 'Ġbeat', 'port', '.com', '/', 'track', '/log', 'ical', '-m', 'ovement', '/', '983', '273', '8', ',', 'ĠMix', ':', 'ĠOriginal', 'ĠMix', ',', 'ĠRemix', ':', 'ĠYes', ',', 'ĠRem', 'ixer', ':', 'ĠYes', ',', 'ĠDuration', ':', 'Ġ', '5', ':', '26', 'Ġminutes', ',', 'ĠBPM', ':', 'Ġ', '128', '.', '0', ',', 'ĠKey', 'ĠID', ':', 'Ġ', '7', '.', '0', ',', 'ĠMode', ':', 'Ġ', '0', '.', '0', ',', 'ĠVal', 'ence', ':', 'Ġ', '0', '.', '534', ',', 'ĠDance', 'ability', ':', 'Ġ', '0', '.', '807', ',', 'ĠEnergy', ':', 'Ġ', '0', '.', '695', ',', 'ĠSpeech', 'iness', ':', 'Ġ', '0', '.', '064', '7', ',', 'ĠLoud', 'ness', ':', 'Ġ-', '6', '.', '959', ',', 'ĠL', 'iveness', ':', 'Ġ', '0', '.', '070', '4', ',', 'ĠInstrument', 'al', 'ness', ':', 'Ġ', '0', '.', '857', ',', 'ĠAc', 'oustic', 'ness', ':', 'Ġ', '0', '.', '000', '31', ',', 'ĠIS', 'RC', ':', 'ĠGB', 'UL', 'Z', '130', '105', '2', ',', 'ĠArtist', 'ĠURL', ':', 'Ġbeat', 'port', '.com', '/', 'artist', '/', 'miss', '-v', 'ogue', '/', '408', '631', ',', 'ĠLabel', 'ĠURL', ':', 'Ġbeat', 'port', '.com', '/', 'label', '/ext', 'acy', '/', '345', '28', ',', 'ĠGenre', 'ĠURL', ':', 'Ġ/', 'genre', '/', 'tech', '-house', '/', '11', '.']\n",
      "Token IDs: [16042, 3110, 25, 220, 24742, 15451, 23, 11, 11106, 25, 63169, 29098, 11, 29459, 25, 9083, 91072, 11, 29459, 3110, 25, 220, 18058, 21729, 11, 41395, 25, 17829, 4783, 11, 41395, 3110, 25, 220, 806, 11, 9587, 25, 9634, 2826, 11, 9587, 3110, 25, 220, 12901, 1591, 11, 17836, 2696, 25, 220, 679, 22, 12, 605, 12, 1544, 11, 20371, 5665, 25, 9567, 403, 916, 14, 13432, 19977, 950, 1474, 14797, 14, 24742, 15451, 23, 11, 19771, 25, 17674, 19771, 11, 51127, 25, 7566, 11, 5031, 40114, 25, 7566, 11, 21722, 25, 220, 20, 25, 1627, 4520, 11, 89319, 25, 220, 4386, 13, 15, 11, 5422, 3110, 25, 220, 22, 13, 15, 11, 14904, 25, 220, 15, 13, 15, 11, 4196, 768, 25, 220, 15, 13, 22467, 11, 30704, 2968, 25, 220, 15, 13, 23178, 11, 12634, 25, 220, 15, 13, 24394, 11, 39841, 1918, 25, 220, 15, 13, 20478, 22, 11, 80648, 2136, 25, 482, 21, 13, 26328, 11, 445, 13071, 25, 220, 15, 13, 17819, 19, 11, 43405, 278, 2136, 25, 220, 15, 13, 20907, 11, 6515, 35415, 2136, 25, 220, 15, 13, 931, 2148, 11, 3507, 7532, 25, 19397, 1112, 57, 5894, 6550, 17, 11, 29459, 5665, 25, 9567, 403, 916, 14, 19135, 14, 1869, 8437, 28523, 14, 18058, 21729, 11, 9587, 5665, 25, 9567, 403, 916, 14, 1530, 82243, 2826, 14, 12901, 1591, 11, 41395, 5665, 25, 611, 34713, 14, 18261, 37002, 14, 806, 13]\n"
     ]
    },
    {
     "name": "stderr",
     "output_type": "stream",
     "text": [
      "Tokenizing batches 41-60:  70%|███████   | 14/20 [08:28<03:47, 37.97s/it]"
     ]
    },
    {
     "name": "stdout",
     "output_type": "stream",
     "text": [
      "Tokens: ['Track', 'ĠID', ':', 'Ġ', '138', '532', '64', ',', 'ĠTitle', ':', 'ĠSmoke', 'ĠUp', '!,', 'ĠArtist', ':', 'ĠY', 'ell', 'ine', 'ck', ',', 'ĠArtist', 'ĠID', ':', 'Ġ', '250', '897', ',', 'ĠGenre', ':', 'ĠMinimal', 'Ġ/', 'ĠDeep', 'ĠTech', ',', 'ĠGenre', 'ĠID', ':', 'Ġ', '14', ',', 'ĠLabel', ':', 'ĠSphere', 'ĠRecords', ',', 'ĠLabel', 'ĠID', ':', 'Ġ', '287', '40', ',', 'ĠRelease', 'ĠDate', ':', 'Ġ', '202', '0', '-', '07', '-', '11', ',', 'ĠTrack', 'ĠURL', ':', 'Ġbeat', 'port', '.com', '/', 'track', '/sm', 'oke', '-up', '/', '138', '532', '64', ',', 'ĠMix', ':', 'ĠRemix', ',', 'ĠRemix', ':', 'ĠYes', ',', 'ĠRem', 'ixer', ':', 'ĠYes', ',', 'ĠDuration', ':', 'Ġ', '6', ':', '50', 'Ġminutes', ',', 'ĠBPM', ':', 'Ġ', '128', '.', '0', ',', 'ĠKey', 'ĠID', ':', 'Ġ', '7', '.', '0', ',', 'ĠMode', ':', 'Ġ', '1', '.', '0', ',', 'ĠVal', 'ence', ':', 'Ġ', '0', '.', '386', ',', 'ĠDance', 'ability', ':', 'Ġ', '0', '.', '799', ',', 'ĠEnergy', ':', 'Ġ', '0', '.', '858', ',', 'ĠSpeech', 'iness', ':', 'Ġ', '0', '.', '077', '9', ',', 'ĠLoud', 'ness', ':', 'Ġ-', '8', '.', '803', ',', 'ĠL', 'iveness', ':', 'Ġ', '0', '.', '67', ',', 'ĠInstrument', 'al', 'ness', ':', 'Ġ', '0', '.', '911', ',', 'ĠAc', 'oustic', 'ness', ':', 'Ġ', '0', '.', '000', '398', ',', 'ĠIS', 'RC', ':', 'ĠDE', 'KB', '716', '338', '06', ',', 'ĠArtist', 'ĠURL', ':', 'Ġbeat', 'port', '.com', '/', 'artist', '/y', 'ell', 'ine', 'ck', '/', '250', '897', ',', 'ĠLabel', 'ĠURL', ':', 'Ġbeat', 'port', '.com', '/', 'label', '/s', 'phere', '-', 'records', '/', '287', '40', ',', 'ĠGenre', 'ĠURL', ':', 'Ġ/', 'genre', '/min', 'imal', '-de', 'ep', '-tech', '/', '14', '.']\n",
      "Token IDs: [16042, 3110, 25, 220, 10350, 20711, 1227, 11, 11106, 25, 54304, 3216, 17581, 29459, 25, 816, 616, 483, 377, 11, 29459, 3110, 25, 220, 5154, 24777, 11, 41395, 25, 76212, 611, 18682, 17829, 11, 41395, 3110, 25, 220, 975, 11, 9587, 25, 55599, 22293, 11, 9587, 3110, 25, 220, 17897, 1272, 11, 17836, 2696, 25, 220, 2366, 15, 12, 2589, 12, 806, 11, 20371, 5665, 25, 9567, 403, 916, 14, 13432, 75137, 4845, 5352, 14, 10350, 20711, 1227, 11, 19771, 25, 51127, 11, 51127, 25, 7566, 11, 5031, 40114, 25, 7566, 11, 21722, 25, 220, 21, 25, 1135, 4520, 11, 89319, 25, 220, 4386, 13, 15, 11, 5422, 3110, 25, 220, 22, 13, 15, 11, 14904, 25, 220, 16, 13, 15, 11, 4196, 768, 25, 220, 15, 13, 16481, 11, 30704, 2968, 25, 220, 15, 13, 23987, 11, 12634, 25, 220, 15, 13, 23805, 11, 39841, 1918, 25, 220, 15, 13, 23102, 24, 11, 80648, 2136, 25, 482, 23, 13, 20899, 11, 445, 13071, 25, 220, 15, 13, 3080, 11, 43405, 278, 2136, 25, 220, 15, 13, 17000, 11, 6515, 35415, 2136, 25, 220, 15, 13, 931, 19838, 11, 3507, 7532, 25, 3467, 30962, 23929, 18633, 2705, 11, 29459, 5665, 25, 9567, 403, 916, 14, 19135, 27589, 616, 483, 377, 14, 5154, 24777, 11, 9587, 5665, 25, 9567, 403, 916, 14, 1530, 2754, 8182, 12, 27295, 14, 17897, 1272, 11, 41395, 5665, 25, 611, 34713, 45273, 2931, 6953, 752, 42357, 14, 975, 13]\n"
     ]
    },
    {
     "name": "stderr",
     "output_type": "stream",
     "text": [
      "Tokenizing batches 41-60:  80%|████████  | 16/20 [09:47<02:34, 38.56s/it]"
     ]
    },
    {
     "name": "stdout",
     "output_type": "stream",
     "text": [
      "Tokens: ['Track', 'ĠID', ':', 'Ġ', '101', '180', '85', ',', 'ĠTitle', ':', 'ĠSeven', 'ĠSteps', ',', 'ĠArtist', ':', 'ĠRico', 'ĠMartinez', ',', 'ĠArtist', 'ĠID', ':', 'Ġ', '104', '454', ',', 'ĠGenre', ':', 'ĠMinimal', 'Ġ/', 'ĠDeep', 'ĠTech', ',', 'ĠGenre', 'ĠID', ':', 'Ġ', '14', ',', 'ĠLabel', ':', 'ĠDat', 'ag', 'ro', 'ove', 'ĠMusic', ',', 'ĠLabel', 'ĠID', ':', 'Ġ', '156', '41', ',', 'ĠRelease', 'ĠDate', ':', 'Ġ', '201', '8', '-', '01', '-', '18', ',', 'ĠTrack', 'ĠURL', ':', 'Ġbeat', 'port', '.com', '/', 'track', '/se', 'ven', '-st', 'eps', '/', '101', '180', '85', ',', 'ĠMix', ':', 'ĠOriginal', 'ĠMix', ',', 'ĠRemix', ':', 'ĠYes', ',', 'ĠRem', 'ixer', ':', 'ĠYes', ',', 'ĠDuration', ':', 'Ġ', '5', ':', '48', 'Ġminutes', ',', 'ĠBPM', ':', 'Ġ', '122', '.', '0', ',', 'ĠKey', 'ĠID', ':', 'Ġ', '12', '.', '0', ',', 'ĠMode', ':', 'Ġ', '0', '.', '0', ',', 'ĠVal', 'ence', ':', 'Ġ', '0', '.', '48', ',', 'ĠDance', 'ability', ':', 'Ġ', '0', '.', '814', ',', 'ĠEnergy', ':', 'Ġ', '0', '.', '484', ',', 'ĠSpeech', 'iness', ':', 'Ġ', '0', '.', '061', '8', ',', 'ĠLoud', 'ness', ':', 'Ġ-', '9', '.', '41', ',', 'ĠL', 'iveness', ':', 'Ġ', '0', '.', '070', '7', ',', 'ĠInstrument', 'al', 'ness', ':', 'Ġ', '0', '.', '811', ',', 'ĠAc', 'oustic', 'ness', ':', 'Ġ', '0', '.', '000', '776', ',', 'ĠIS', 'RC', ':', 'ĠCA', '5', 'KR', '170', '754', '6', ',', 'ĠArtist', 'ĠURL', ':', 'Ġbeat', 'port', '.com', '/', 'artist', '/', 'rico', '-m', 'art', 'inez', '/', '104', '454', ',', 'ĠLabel', 'ĠURL', ':', 'Ġbeat', 'port', '.com', '/', 'label', '/dat', 'ag', 'ro', 'ove', '-m', 'usic', '/', '156', '41', ',', 'ĠGenre', 'ĠURL', ':', 'Ġ/', 'genre', '/min', 'imal', '-de', 'ep', '-tech', '/', '14', '.']\n",
      "Token IDs: [16042, 3110, 25, 220, 4645, 5245, 5313, 11, 11106, 25, 31048, 40961, 11, 29459, 25, 34248, 44027, 11, 29459, 3110, 25, 220, 6849, 20555, 11, 41395, 25, 76212, 611, 18682, 17829, 11, 41395, 3110, 25, 220, 975, 11, 9587, 25, 22362, 351, 299, 1009, 10948, 11, 9587, 3110, 25, 220, 10132, 3174, 11, 17836, 2696, 25, 220, 679, 23, 12, 1721, 12, 972, 11, 20371, 5665, 25, 9567, 403, 916, 14, 13432, 60687, 1055, 5594, 7270, 14, 4645, 5245, 5313, 11, 19771, 25, 17674, 19771, 11, 51127, 25, 7566, 11, 5031, 40114, 25, 7566, 11, 21722, 25, 220, 20, 25, 2166, 4520, 11, 89319, 25, 220, 8259, 13, 15, 11, 5422, 3110, 25, 220, 717, 13, 15, 11, 14904, 25, 220, 15, 13, 15, 11, 4196, 768, 25, 220, 15, 13, 2166, 11, 30704, 2968, 25, 220, 15, 13, 25498, 11, 12634, 25, 220, 15, 13, 20339, 11, 39841, 1918, 25, 220, 15, 13, 23324, 23, 11, 80648, 2136, 25, 482, 24, 13, 3174, 11, 445, 13071, 25, 220, 15, 13, 17819, 22, 11, 43405, 278, 2136, 25, 220, 15, 13, 22588, 11, 6515, 35415, 2136, 25, 220, 15, 13, 931, 23823, 11, 3507, 7532, 25, 9362, 20, 62984, 8258, 23952, 21, 11, 29459, 5665, 25, 9567, 403, 916, 14, 19135, 14, 56347, 1474, 472, 39395, 14, 6849, 20555, 11, 9587, 5665, 25, 9567, 403, 916, 14, 1530, 38666, 351, 299, 1009, 1474, 11785, 14, 10132, 3174, 11, 41395, 5665, 25, 611, 34713, 45273, 2931, 6953, 752, 42357, 14, 975, 13]\n"
     ]
    },
    {
     "name": "stderr",
     "output_type": "stream",
     "text": [
      "Tokenizing batches 41-60:  85%|████████▌ | 17/20 [10:28<01:58, 39.50s/it]"
     ]
    },
    {
     "name": "stdout",
     "output_type": "stream",
     "text": [
      "Tokens: ['Track', 'ĠID', ':', 'Ġ', '514', '572', '7', ',', 'ĠTitle', ':', 'ĠDark', 'ĠV', 'isions', ',', 'ĠArtist', ':', 'ĠF', '-L', 'AME', ',', 'ĠArtist', 'ĠID', ':', 'Ġ', '256', '506', ',', 'ĠGenre', ':', 'ĠMinimal', 'Ġ/', 'ĠDeep', 'ĠTech', ',', 'ĠGenre', 'ĠID', ':', 'Ġ', '14', ',', 'ĠLabel', ':', 'ĠChocolate', 'ĠDealer', 'ĠRecords', ',', 'ĠLabel', 'ĠID', ':', 'Ġ', '245', '68', ',', 'ĠRelease', 'ĠDate', ':', 'Ġ', '201', '4', '-', '02', '-', '17', ',', 'ĠTrack', 'ĠURL', ':', 'Ġbeat', 'port', '.com', '/', 'track', '/d', 'ark', '-', 'visions', '/', '514', '572', '7', ',', 'ĠMix', ':', 'ĠRemix', ',', 'ĠRemix', ':', 'ĠYes', ',', 'ĠRem', 'ixer', ':', 'ĠYes', ',', 'ĠDuration', ':', 'Ġ', '6', ':', '01', 'Ġminutes', ',', 'ĠBPM', ':', 'Ġ', '128', '.', '0', ',', 'ĠKey', 'ĠID', ':', 'Ġ', '21', '.', '0', ',', 'ĠMode', ':', 'Ġ', '1', '.', '0', ',', 'ĠVal', 'ence', ':', 'Ġ', '0', '.', '09', ',', 'ĠDance', 'ability', ':', 'Ġ', '0', '.', '795', ',', 'ĠEnergy', ':', 'Ġ', '0', '.', '755', ',', 'ĠSpeech', 'iness', ':', 'Ġ', '0', '.', '057', '3', ',', 'ĠLoud', 'ness', ':', 'Ġ-', '9', '.', '863', ',', 'ĠL', 'iveness', ':', 'Ġ', '0', '.', '056', ',', 'ĠInstrument', 'al', 'ness', ':', 'Ġ', '0', '.', '915', ',', 'ĠAc', 'oustic', 'ness', ':', 'Ġ', '0', '.', '001', '2', ',', 'ĠIS', 'RC', ':', 'ĠGB', 'W', 'UL', '135', '381', '2', ',', 'ĠArtist', 'ĠURL', ':', 'Ġbeat', 'port', '.com', '/', 'artist', '/f', '-l', 'ame', '/', '256', '506', ',', 'ĠLabel', 'ĠURL', ':', 'Ġbeat', 'port', '.com', '/', 'label', '/ch', 'ocolate', '-de', 'aler', '-', 'records', '/', '245', '68', ',', 'ĠGenre', 'ĠURL', ':', 'Ġ/', 'genre', '/min', 'imal', '-de', 'ep', '-tech', '/', '14', '.']\n",
      "Token IDs: [16042, 3110, 25, 220, 20998, 22468, 22, 11, 11106, 25, 12538, 650, 6948, 11, 29459, 25, 435, 8288, 2797, 11, 29459, 3110, 25, 220, 4146, 19673, 11, 41395, 25, 76212, 611, 18682, 17829, 11, 41395, 3110, 25, 220, 975, 11, 9587, 25, 39520, 52996, 22293, 11, 9587, 3110, 25, 220, 13078, 2614, 11, 17836, 2696, 25, 220, 679, 19, 12, 2437, 12, 1114, 11, 20371, 5665, 25, 9567, 403, 916, 14, 13432, 3529, 847, 12, 41115, 14, 20998, 22468, 22, 11, 19771, 25, 51127, 11, 51127, 25, 7566, 11, 5031, 40114, 25, 7566, 11, 21722, 25, 220, 21, 25, 1721, 4520, 11, 89319, 25, 220, 4386, 13, 15, 11, 5422, 3110, 25, 220, 1691, 13, 15, 11, 14904, 25, 220, 16, 13, 15, 11, 4196, 768, 25, 220, 15, 13, 2545, 11, 30704, 2968, 25, 220, 15, 13, 25808, 11, 12634, 25, 220, 15, 13, 23532, 11, 39841, 1918, 25, 220, 15, 13, 26866, 18, 11, 80648, 2136, 25, 482, 24, 13, 26051, 11, 445, 13071, 25, 220, 15, 13, 25921, 11, 43405, 278, 2136, 25, 220, 15, 13, 22387, 11, 6515, 35415, 2136, 25, 220, 15, 13, 4119, 17, 11, 3507, 7532, 25, 19397, 54, 1112, 8878, 19162, 17, 11, 29459, 5665, 25, 9567, 403, 916, 14, 19135, 6801, 2922, 373, 14, 4146, 19673, 11, 9587, 5665, 25, 9567, 403, 916, 14, 1530, 21987, 14136, 6953, 13412, 12, 27295, 14, 13078, 2614, 11, 41395, 5665, 25, 611, 34713, 45273, 2931, 6953, 752, 42357, 14, 975, 13]\n"
     ]
    },
    {
     "name": "stderr",
     "output_type": "stream",
     "text": [
      "Tokenizing batches 41-60:  95%|█████████▌| 19/20 [12:22<00:47, 47.39s/it]"
     ]
    },
    {
     "name": "stdout",
     "output_type": "stream",
     "text": [
      "Tokens: ['Track', 'ĠID', ':', 'Ġ', '144', '545', '83', ',', 'ĠTitle', ':', 'ĠTake', 'ĠThis', 'ĠOut', ',', 'ĠArtist', ':', 'ĠMAT', 'I', 'ĠRiv', 'aday', ',', 'ĠArtist', 'ĠID', ':', 'Ġ', '642', '997', ',', 'ĠGenre', ':', 'ĠMinimal', 'Ġ/', 'ĠDeep', 'ĠTech', ',', 'ĠGenre', 'ĠID', ':', 'Ġ', '14', ',', 'ĠLabel', ':', 'ĠVariety', 'ĠMusic', ',', 'ĠLabel', 'ĠID', ':', 'Ġ', '168', '59', ',', 'ĠRelease', 'ĠDate', ':', 'Ġ', '202', '0', '-', '11', '-', '06', ',', 'ĠTrack', 'ĠURL', ':', 'Ġbeat', 'port', '.com', '/', 'track', '/t', 'ake', '-this', '-out', '/', '144', '545', '83', ',', 'ĠMix', ':', 'ĠRemix', ',', 'ĠRemix', ':', 'ĠYes', ',', 'ĠRem', 'ixer', ':', 'ĠYes', ',', 'ĠDuration', ':', 'Ġ', '6', ':', '32', 'Ġminutes', ',', 'ĠBPM', ':', 'Ġ', '125', '.', '0', ',', 'ĠKey', 'ĠID', ':', 'Ġ', '8', '.', '0', ',', 'ĠMode', ':', 'Ġ', '1', '.', '0', ',', 'ĠVal', 'ence', ':', 'Ġ', '0', '.', '768', ',', 'ĠDance', 'ability', ':', 'Ġ', '0', '.', '809', ',', 'ĠEnergy', ':', 'Ġ', '0', '.', '957', ',', 'ĠSpeech', 'iness', ':', 'Ġ', '0', '.', '061', ',', 'ĠLoud', 'ness', ':', 'Ġ-', '7', '.', '928', ',', 'ĠL', 'iveness', ':', 'Ġ', '0', '.', '035', '9', ',', 'ĠInstrument', 'al', 'ness', ':', 'Ġ', '0', '.', '837', ',', 'ĠAc', 'oustic', 'ness', ':', 'Ġ', '0', '.', '004', '87', ',', 'ĠIS', 'RC', ':', 'ĠDE', 'W', '872', '004', '276', ',', 'ĠArtist', 'ĠURL', ':', 'Ġbeat', 'port', '.com', '/', 'artist', '/m', 'ati', '-r', 'iv', 'aday', '/', '642', '997', ',', 'ĠLabel', 'ĠURL', ':', 'Ġbeat', 'port', '.com', '/', 'label', '/', 'vari', 'ety', '-m', 'usic', '/', '168', '59', ',', 'ĠGenre', 'ĠURL', ':', 'Ġ/', 'genre', '/min', 'imal', '-de', 'ep', '-tech', '/', '14', '.']\n",
      "Token IDs: [16042, 3110, 25, 220, 8929, 20749, 6069, 11, 11106, 25, 12040, 1115, 4470, 11, 29459, 25, 25832, 40, 51768, 65726, 11, 29459, 3110, 25, 220, 22266, 22694, 11, 41395, 25, 76212, 611, 18682, 17829, 11, 41395, 3110, 25, 220, 975, 11, 9587, 25, 71832, 10948, 11, 9587, 3110, 25, 220, 8953, 2946, 11, 17836, 2696, 25, 220, 2366, 15, 12, 806, 12, 2705, 11, 20371, 5665, 25, 9567, 403, 916, 14, 13432, 5640, 731, 61291, 9994, 14, 8929, 20749, 6069, 11, 19771, 25, 51127, 11, 51127, 25, 7566, 11, 5031, 40114, 25, 7566, 11, 21722, 25, 220, 21, 25, 843, 4520, 11, 89319, 25, 220, 6549, 13, 15, 11, 5422, 3110, 25, 220, 23, 13, 15, 11, 14904, 25, 220, 16, 13, 15, 11, 4196, 768, 25, 220, 15, 13, 17521, 11, 30704, 2968, 25, 220, 15, 13, 21474, 11, 12634, 25, 220, 15, 13, 27341, 11, 39841, 1918, 25, 220, 15, 13, 23324, 11, 80648, 2136, 25, 482, 22, 13, 25001, 11, 445, 13071, 25, 220, 15, 13, 22407, 24, 11, 43405, 278, 2136, 25, 220, 15, 13, 26244, 11, 6515, 35415, 2136, 25, 220, 15, 13, 8759, 4044, 11, 3507, 7532, 25, 3467, 54, 25303, 8759, 16660, 11, 29459, 5665, 25, 9567, 403, 916, 14, 19135, 3262, 9491, 3880, 344, 65726, 14, 22266, 22694, 11, 9587, 5665, 25, 9567, 403, 916, 14, 1530, 14, 30265, 2676, 1474, 11785, 14, 8953, 2946, 11, 41395, 5665, 25, 611, 34713, 45273, 2931, 6953, 752, 42357, 14, 975, 13]\n"
     ]
    },
    {
     "name": "stderr",
     "output_type": "stream",
     "text": [
      "Tokenizing batches 41-60: 100%|██████████| 20/20 [13:10<00:00, 39.53s/it]\n",
      "Tokenizing batches 61-80:   5%|▌         | 1/20 [01:18<24:48, 78.34s/it]"
     ]
    },
    {
     "name": "stdout",
     "output_type": "stream",
     "text": [
      "Tokens: ['Track', 'ĠID', ':', 'Ġ', '771', '884', '3', ',', 'ĠTitle', ':', 'ĠSwe', 'ven', ',', 'ĠArtist', ':', 'ĠDimit', 'ri', 'ĠM', 'one', 'v', ',', 'ĠArtist', 'ĠID', ':', 'Ġ', '179', '061', ',', 'ĠGenre', ':', 'ĠMinimal', 'Ġ/', 'ĠDeep', 'ĠTech', ',', 'ĠGenre', 'ĠID', ':', 'Ġ', '14', ',', 'ĠLabel', ':', 'ĠMetro', 'line', 'ĠLimited', ',', 'ĠLabel', 'ĠID', ':', 'Ġ', '472', '3', ',', 'ĠRelease', 'ĠDate', ':', 'Ġ', '201', '6', '-', '03', '-', '18', ',', 'ĠTrack', 'ĠURL', ':', 'Ġbeat', 'port', '.com', '/', 'track', '/s', 'we', 'ven', '/', '771', '884', '3', ',', 'ĠMix', ':', 'ĠOriginal', 'ĠMix', ',', 'ĠRemix', ':', 'ĠYes', ',', 'ĠRem', 'ixer', ':', 'ĠYes', ',', 'ĠDuration', ':', 'Ġ', '9', ':', '45', 'Ġminutes', ',', 'ĠBPM', ':', 'Ġ', '125', '.', '0', ',', 'ĠKey', 'ĠID', ':', 'Ġ', '1', '.', '0', ',', 'ĠMode', ':', 'Ġ', '0', '.', '0', ',', 'ĠVal', 'ence', ':', 'Ġ', '0', '.', '6', ',', 'ĠDance', 'ability', ':', 'Ġ', '0', '.', '811', ',', 'ĠEnergy', ':', 'Ġ', '0', '.', '888', ',', 'ĠSpeech', 'iness', ':', 'Ġ', '0', '.', '052', '8', ',', 'ĠLoud', 'ness', ':', 'Ġ-', '7', '.', '407', ',', 'ĠL', 'iveness', ':', 'Ġ', '0', '.', '075', '1', ',', 'ĠInstrument', 'al', 'ness', ':', 'Ġ', '0', '.', '815', ',', 'ĠAc', 'oustic', 'ness', ':', 'Ġ', '0', '.', '001', '22', ',', 'ĠIS', 'RC', ':', 'ĠG', 'BU', 'HG', '160', '860', '1', ',', 'ĠArtist', 'ĠURL', ':', 'Ġbeat', 'port', '.com', '/', 'artist', '/d', 'imit', 'ri', '-m', 'one', 'v', '/', '179', '061', ',', 'ĠLabel', 'ĠURL', ':', 'Ġbeat', 'port', '.com', '/', 'label', '/m', 'etro', 'line', '-l', 'imited', '/', '472', '3', ',', 'ĠGenre', 'ĠURL', ':', 'Ġ/', 'genre', '/min', 'imal', '-de', 'ep', '-tech', '/', '14', '.']\n",
      "Token IDs: [16042, 3110, 25, 220, 24876, 25962, 18, 11, 11106, 25, 37326, 1055, 11, 29459, 25, 88690, 462, 386, 606, 85, 11, 29459, 3110, 25, 220, 11128, 23324, 11, 41395, 25, 76212, 611, 18682, 17829, 11, 41395, 3110, 25, 220, 975, 11, 9587, 25, 21631, 1074, 19439, 11, 9587, 3110, 25, 220, 21757, 18, 11, 17836, 2696, 25, 220, 679, 21, 12, 2839, 12, 972, 11, 20371, 5665, 25, 9567, 403, 916, 14, 13432, 2754, 906, 1055, 14, 24876, 25962, 18, 11, 19771, 25, 17674, 19771, 11, 51127, 25, 7566, 11, 5031, 40114, 25, 7566, 11, 21722, 25, 220, 24, 25, 1774, 4520, 11, 89319, 25, 220, 6549, 13, 15, 11, 5422, 3110, 25, 220, 16, 13, 15, 11, 14904, 25, 220, 15, 13, 15, 11, 4196, 768, 25, 220, 15, 13, 21, 11, 30704, 2968, 25, 220, 15, 13, 22588, 11, 12634, 25, 220, 15, 13, 12251, 11, 39841, 1918, 25, 220, 15, 13, 24130, 23, 11, 80648, 2136, 25, 482, 22, 13, 18501, 11, 445, 13071, 25, 220, 15, 13, 22679, 16, 11, 43405, 278, 2136, 25, 220, 15, 13, 23582, 11, 6515, 35415, 2136, 25, 220, 15, 13, 4119, 1313, 11, 3507, 7532, 25, 480, 15275, 91211, 6330, 18670, 16, 11, 29459, 5665, 25, 9567, 403, 916, 14, 19135, 3529, 2408, 462, 1474, 606, 85, 14, 11128, 23324, 11, 9587, 5665, 25, 9567, 403, 916, 14, 1530, 3262, 8980, 1074, 2922, 32611, 14, 21757, 18, 11, 41395, 5665, 25, 611, 34713, 45273, 2931, 6953, 752, 42357, 14, 975, 13]\n"
     ]
    },
    {
     "name": "stderr",
     "output_type": "stream",
     "text": [
      "Tokenizing batches 61-80:  10%|█         | 2/20 [02:36<23:31, 78.41s/it]"
     ]
    },
    {
     "name": "stdout",
     "output_type": "stream",
     "text": [
      "Tokens: ['Track', 'ĠID', ':', 'Ġ', '162', '712', '52', ',', 'ĠTitle', ':', 'ĠRead', 'ym', 'ade', ',', 'ĠArtist', ':', 'ĠInterface', 'ĠPalm', ',', 'ĠArtist', 'ĠID', ':', 'Ġ', '711', '791', ',', 'ĠGenre', ':', 'ĠDeep', 'ĠHouse', ',', 'ĠGenre', 'ĠID', ':', 'Ġ', '12', ',', 'ĠLabel', ':', 'ĠBroken', 'ĠDistrict', ',', 'ĠLabel', 'ĠID', ':', 'Ġ', '703', '79', ',', 'ĠRelease', 'ĠDate', ':', 'Ġ', '202', '2', '-', '04', '-', '15', ',', 'ĠTrack', 'ĠURL', ':', 'Ġbeat', 'port', '.com', '/', 'track', '/read', 'ym', 'ade', '/', '162', '712', '52', ',', 'ĠMix', ':', 'ĠOriginal', 'ĠMix', ',', 'ĠRemix', ':', 'ĠYes', ',', 'ĠRem', 'ixer', ':', 'ĠYes', ',', 'ĠDuration', ':', 'Ġ', '4', ':', '22', 'Ġminutes', ',', 'ĠBPM', ':', 'Ġ', '118', '.', '0', ',', 'ĠKey', 'ĠID', ':', 'Ġ', '6', '.', '0', ',', 'ĠMode', ':', 'Ġ', '0', '.', '0', ',', 'ĠVal', 'ence', ':', 'Ġ', '0', '.', '872', ',', 'ĠDance', 'ability', ':', 'Ġ', '0', '.', '529', ',', 'ĠEnergy', ':', 'Ġ', '0', '.', '502', ',', 'ĠSpeech', 'iness', ':', 'Ġ', '0', '.', '064', '6', ',', 'ĠLoud', 'ness', ':', 'Ġ-', '8', '.', '752', ',', 'ĠL', 'iveness', ':', 'Ġ', '0', '.', '187', ',', 'ĠInstrument', 'al', 'ness', ':', 'Ġ', '0', '.', '933', ',', 'ĠAc', 'oustic', 'ness', ':', 'Ġ', '0', '.', '091', '2', ',', 'ĠIS', 'RC', ':', 'ĠFR', 'DX', '622', '024', '60', ',', 'ĠArtist', 'ĠURL', ':', 'Ġbeat', 'port', '.com', '/', 'artist', '/interface', '-p', 'alm', '/', '711', '791', ',', 'ĠLabel', 'ĠURL', ':', 'Ġbeat', 'port', '.com', '/', 'label', '/b', 'roken', '-d', 'istrict', '/', '703', '79', ',', 'ĠGenre', 'ĠURL', ':', 'Ġ/', 'genre', '/de', 'ep', '-house', '/', '12', '.']\n",
      "Token IDs: [16042, 3110, 25, 220, 10674, 22708, 4103, 11, 11106, 25, 4557, 1631, 1037, 11, 29459, 25, 20620, 33578, 11, 29459, 3110, 25, 220, 22375, 26234, 11, 41395, 25, 18682, 4783, 11, 41395, 3110, 25, 220, 717, 11, 9587, 25, 54683, 11182, 11, 9587, 3110, 25, 220, 20436, 4643, 11, 17836, 2696, 25, 220, 2366, 17, 12, 2371, 12, 868, 11, 20371, 5665, 25, 9567, 403, 916, 14, 13432, 70299, 1631, 1037, 14, 10674, 22708, 4103, 11, 19771, 25, 17674, 19771, 11, 51127, 25, 7566, 11, 5031, 40114, 25, 7566, 11, 21722, 25, 220, 19, 25, 1313, 4520, 11, 89319, 25, 220, 8899, 13, 15, 11, 5422, 3110, 25, 220, 21, 13, 15, 11, 14904, 25, 220, 15, 13, 15, 11, 4196, 768, 25, 220, 15, 13, 25303, 11, 30704, 2968, 25, 220, 15, 13, 21618, 11, 12634, 25, 220, 15, 13, 17824, 11, 39841, 1918, 25, 220, 15, 13, 20478, 21, 11, 80648, 2136, 25, 482, 23, 13, 23644, 11, 445, 13071, 25, 220, 15, 13, 9674, 11, 43405, 278, 2136, 25, 220, 15, 13, 25806, 11, 6515, 35415, 2136, 25, 220, 15, 13, 24443, 17, 11, 3507, 7532, 25, 17067, 17001, 19808, 19592, 1399, 11, 29459, 5665, 25, 9567, 403, 916, 14, 19135, 48222, 2320, 7828, 14, 22375, 26234, 11, 9587, 5665, 25, 9567, 403, 916, 14, 1530, 3554, 82809, 1773, 8557, 14, 20436, 4643, 11, 41395, 5665, 25, 611, 34713, 23365, 752, 37002, 14, 717, 13]\n",
      "Tokens: ['Track', 'ĠID', ':', 'Ġ', '166', '691', '00', ',', 'ĠTitle', ':', 'ĠLove', 'ĠMe', ',', 'ĠArtist', ':', 'ĠDave', 'ĠMatthias', ',', 'ĠArtist', 'ĠID', ':', 'Ġ', '702', '10', ',', 'ĠGenre', ':', 'ĠDeep', 'ĠHouse', ',', 'ĠGenre', 'ĠID', ':', 'Ġ', '12', ',', 'ĠLabel', ':', 'ĠD', 'MM', ',', 'ĠLabel', 'ĠID', ':', 'Ġ', '103', '648', ',', 'ĠRelease', 'ĠDate', ':', 'Ġ', '202', '1', '-', '07', '-', '19', ',', 'ĠTrack', 'ĠURL', ':', 'Ġbeat', 'port', '.com', '/', 'track', '/', 'love', '-me', '/', '166', '691', '00', ',', 'ĠMix', ':', 'ĠOriginal', 'ĠMix', ',', 'ĠRemix', ':', 'ĠYes', ',', 'ĠRem', 'ixer', ':', 'ĠYes', ',', 'ĠDuration', ':', 'Ġ', '4', ':', '28', 'Ġminutes', ',', 'ĠBPM', ':', 'Ġ', '125', '.', '0', ',', 'ĠKey', 'ĠID', ':', 'Ġ', '15', '.', '0', ',', 'ĠMode', ':', 'Ġ', '1', '.', '0', ',', 'ĠVal', 'ence', ':', 'Ġ', '0', '.', '673', ',', 'ĠDance', 'ability', ':', 'Ġ', '0', '.', '797', ',', 'ĠEnergy', ':', 'Ġ', '0', '.', '681', ',', 'ĠSpeech', 'iness', ':', 'Ġ', '0', '.', '050', '5', ',', 'ĠLoud', 'ness', ':', 'Ġ-', '5', '.', '196', ',', 'ĠL', 'iveness', ':', 'Ġ', '0', '.', '066', '5', ',', 'ĠInstrument', 'al', 'ness', ':', 'Ġ', '0', '.', '000', '237', ',', 'ĠAc', 'oustic', 'ness', ':', 'Ġ', '0', '.', '016', '4', ',', 'ĠIS', 'RC', ':', 'ĠQ', 'Z', 'K', 'WA', '202', '862', '7', ',', 'ĠArtist', 'ĠURL', ':', 'Ġbeat', 'port', '.com', '/', 'artist', '/d', 'ave', '-m', 'at', 'th', 'ias', '/', '702', '10', ',', 'ĠLabel', 'ĠURL', ':', 'Ġbeat', 'port', '.com', '/', 'label', '/d', 'mm', '/', '103', '648', ',', 'ĠGenre', 'ĠURL', ':', 'Ġ/', 'genre', '/de', 'ep', '-house', '/', '12', '.']\n",
      "Token IDs: [16042, 3110, 25, 220, 11247, 25168, 410, 11, 11106, 25, 10919, 2206, 11, 29459, 25, 20851, 90587, 11, 29459, 3110, 25, 220, 20253, 605, 11, 41395, 25, 18682, 4783, 11, 41395, 3110, 25, 220, 717, 11, 9587, 25, 423, 8195, 11, 9587, 3110, 25, 220, 6889, 23802, 11, 17836, 2696, 25, 220, 2366, 16, 12, 2589, 12, 777, 11, 20371, 5665, 25, 9567, 403, 916, 14, 13432, 14, 31153, 35073, 14, 11247, 25168, 410, 11, 19771, 25, 17674, 19771, 11, 51127, 25, 7566, 11, 5031, 40114, 25, 7566, 11, 21722, 25, 220, 19, 25, 1591, 4520, 11, 89319, 25, 220, 6549, 13, 15, 11, 5422, 3110, 25, 220, 868, 13, 15, 11, 14904, 25, 220, 16, 13, 15, 11, 4196, 768, 25, 220, 15, 13, 24938, 11, 30704, 2968, 25, 220, 15, 13, 25314, 11, 12634, 25, 220, 15, 13, 25091, 11, 39841, 1918, 25, 220, 15, 13, 16193, 20, 11, 80648, 2136, 25, 482, 20, 13, 5162, 11, 445, 13071, 25, 220, 15, 13, 23835, 20, 11, 43405, 278, 2136, 25, 220, 15, 13, 931, 14590, 11, 6515, 35415, 2136, 25, 220, 15, 13, 15794, 19, 11, 3507, 7532, 25, 1229, 57, 42, 27486, 2366, 24071, 22, 11, 29459, 5665, 25, 9567, 403, 916, 14, 19135, 3529, 525, 1474, 266, 339, 3557, 14, 20253, 605, 11, 9587, 5665, 25, 9567, 403, 916, 14, 1530, 3529, 3906, 14, 6889, 23802, 11, 41395, 5665, 25, 611, 34713, 23365, 752, 37002, 14, 717, 13]\n"
     ]
    },
    {
     "name": "stderr",
     "output_type": "stream",
     "text": [
      "Tokenizing batches 61-80:  25%|██▌       | 5/20 [05:49<16:21, 65.46s/it]"
     ]
    },
    {
     "name": "stdout",
     "output_type": "stream",
     "text": [
      "Tokens: ['Track', 'ĠID', ':', 'Ġ', '332', '863', '3', ',', 'ĠTitle', ':', 'ĠB', 'ree', 'zin', ',', 'ĠArtist', ':', 'ĠVincent', 'ĠKw', 'ok', ',', 'ĠArtist', 'ĠID', ':', 'Ġ', '593', '8', ',', 'ĠGenre', ':', 'ĠDeep', 'ĠHouse', ',', 'ĠGenre', 'ĠID', ':', 'Ġ', '12', ',', 'ĠLabel', ':', 'ĠK', 'apa', 'ĠMusic', ',', 'ĠLabel', 'ĠID', ':', 'Ġ', '102', '71', ',', 'ĠRelease', 'ĠDate', ':', 'Ġ', '201', '2', '-', '04', '-', '17', ',', 'ĠTrack', 'ĠURL', ':', 'Ġbeat', 'port', '.com', '/', 'track', '/b', 'ree', 'zin', '/', '332', '863', '3', ',', 'ĠMix', ':', 'ĠOriginal', 'ĠMix', ',', 'ĠRemix', ':', 'ĠYes', ',', 'ĠRem', 'ixer', ':', 'ĠYes', ',', 'ĠDuration', ':', 'Ġ', '6', ':', '01', 'Ġminutes', ',', 'ĠBPM', ':', 'Ġ', '125', '.', '0', ',', 'ĠKey', 'ĠID', ':', 'Ġ', '9', '.', '0', ',', 'ĠMode', ':', 'Ġ', '0', '.', '0', ',', 'ĠVal', 'ence', ':', 'Ġ', '0', '.', '965', ',', 'ĠDance', 'ability', ':', 'Ġ', '0', '.', '809', ',', 'ĠEnergy', ':', 'Ġ', '0', '.', '802', ',', 'ĠSpeech', 'iness', ':', 'Ġ', '0', '.', '052', '4', ',', 'ĠLoud', 'ness', ':', 'Ġ-', '7', '.', '763', ',', 'ĠL', 'iveness', ':', 'Ġ', '0', '.', '632', ',', 'ĠInstrument', 'al', 'ness', ':', 'Ġ', '0', '.', '911', ',', 'ĠAc', 'oustic', 'ness', ':', 'Ġ', '0', '.', '000', '943', ',', 'ĠIS', 'RC', ':', 'ĠUS', 'CH', 'G', '129', '000', '2', ',', 'ĠArtist', 'ĠURL', ':', 'Ġbeat', 'port', '.com', '/', 'artist', '/v', 'in', 'cent', '-k', 'w', 'ok', '/', '593', '8', ',', 'ĠLabel', 'ĠURL', ':', 'Ġbeat', 'port', '.com', '/', 'label', '/k', 'apa', '-m', 'usic', '/', '102', '71', ',', 'ĠGenre', 'ĠURL', ':', 'Ġ/', 'genre', '/de', 'ep', '-house', '/', '12', '.']\n",
      "Token IDs: [16042, 3110, 25, 220, 17079, 26051, 18, 11, 11106, 25, 426, 770, 58197, 11, 29459, 25, 35407, 65462, 564, 11, 29459, 3110, 25, 220, 22608, 23, 11, 41395, 25, 18682, 4783, 11, 41395, 3110, 25, 220, 717, 11, 9587, 25, 735, 18826, 10948, 11, 9587, 3110, 25, 220, 4278, 6028, 11, 17836, 2696, 25, 220, 679, 17, 12, 2371, 12, 1114, 11, 20371, 5665, 25, 9567, 403, 916, 14, 13432, 3554, 770, 58197, 14, 17079, 26051, 18, 11, 19771, 25, 17674, 19771, 11, 51127, 25, 7566, 11, 5031, 40114, 25, 7566, 11, 21722, 25, 220, 21, 25, 1721, 4520, 11, 89319, 25, 220, 6549, 13, 15, 11, 5422, 3110, 25, 220, 24, 13, 15, 11, 14904, 25, 220, 15, 13, 15, 11, 4196, 768, 25, 220, 15, 13, 24837, 11, 30704, 2968, 25, 220, 15, 13, 21474, 11, 12634, 25, 220, 15, 13, 13135, 11, 39841, 1918, 25, 220, 15, 13, 24130, 19, 11, 80648, 2136, 25, 482, 22, 13, 26083, 11, 445, 13071, 25, 220, 15, 13, 20775, 11, 43405, 278, 2136, 25, 220, 15, 13, 17000, 11, 6515, 35415, 2136, 25, 220, 15, 13, 931, 26576, 11, 3507, 7532, 25, 2326, 2198, 38, 9748, 931, 17, 11, 29459, 5665, 25, 9567, 403, 916, 14, 19135, 5574, 258, 1189, 12934, 86, 564, 14, 22608, 23, 11, 9587, 5665, 25, 9567, 403, 916, 14, 1530, 14441, 18826, 1474, 11785, 14, 4278, 6028, 11, 41395, 5665, 25, 611, 34713, 23365, 752, 37002, 14, 717, 13]\n",
      "Tokens: ['Track', 'ĠID', ':', 'Ġ', '108', '719', '74', ',', 'ĠTitle', ':', 'ĠPer', 'Ġun', \"'\", 'ora', 'Ġd', \"'am\", 'ore', 'Ġfeat', '.', 'ĠSim', 'ona', 'ĠB', 'enc', 'ini', ',', 'ĠDanny', 'ĠLos', 'ito', ',', 'ĠArtist', ':', 'ĠD', \"'\", 'Andy', ',', 'ĠArtist', 'ĠID', ':', 'Ġ', '330', '401', ',', 'ĠGenre', ':', 'ĠDeep', 'ĠHouse', ',', 'ĠGenre', 'ĠID', ':', 'Ġ', '12', ',', 'ĠLabel', ':', 'ĠPy', 'ram', 'ide', ',', 'ĠLabel', 'ĠID', ':', 'Ġ', '138', '09', ',', 'ĠRelease', 'ĠDate', ':', 'Ġ', '201', '8', '-', '08', '-', '24', ',', 'ĠTrack', 'ĠURL', ':', 'Ġbeat', 'port', '.com', '/', 'track', '/per', '-un', 'ora', '-d', 'am', 'ore', '-fe', 'at', '-s', 'im', 'ona', '-b', 'enc', 'ini', '-d', 'anny', '-', 'los', 'ito', '/', '108', '719', '74', ',', 'ĠMix', ':', 'ĠOriginal', 'ĠMix', ',', 'ĠRemix', ':', 'ĠYes', ',', 'ĠRem', 'ixer', ':', 'ĠYes', ',', 'ĠDuration', ':', 'Ġ', '4', ':', '48', 'Ġminutes', ',', 'ĠBPM', ':', 'Ġ', '125', '.', '0', ',', 'ĠKey', 'ĠID', ':', 'Ġ', '34', '.', '0', ',', 'ĠMode', ':', 'Ġ', '0', '.', '0', ',', 'ĠVal', 'ence', ':', 'Ġ', '0', '.', '738', ',', 'ĠDance', 'ability', ':', 'Ġ', '0', '.', '74', ',', 'ĠEnergy', ':', 'Ġ', '0', '.', '931', ',', 'ĠSpeech', 'iness', ':', 'Ġ', '0', '.', '044', '2', ',', 'ĠLoud', 'ness', ':', 'Ġ-', '8', '.', '752', ',', 'ĠL', 'iveness', ':', 'Ġ', '0', '.', '299', ',', 'ĠInstrument', 'al', 'ness', ':', 'Ġ', '3', 'e', '-', '05', ',', 'ĠAc', 'oustic', 'ness', ':', 'Ġ', '0', '.', '058', '8', ',', 'ĠIS', 'RC', ':', 'ĠIT', 'I', '021', '800', '353', ',', 'ĠArtist', 'ĠURL', ':', 'Ġbeat', 'port', '.com', '/', 'artist', '/d', 'andy', '/', '330', '401', ',', 'ĠLabel', 'ĠURL', ':', 'Ġbeat', 'port', '.com', '/', 'label', '/py', 'ram', 'ide', '/', '138', '09', ',', 'ĠGenre', 'ĠURL', ':', 'Ġ/', 'genre', '/de', 'ep', '-house', '/', '12', '.']\n",
      "Token IDs: [16042, 3110, 25, 220, 6640, 24758, 5728, 11, 11106, 25, 3700, 653, 6, 6347, 294, 58591, 461, 12627, 13, 4567, 6863, 426, 967, 6729, 11, 33699, 9853, 6491, 11, 29459, 25, 423, 6, 68517, 11, 29459, 3110, 25, 220, 10568, 10841, 11, 41395, 25, 18682, 4783, 11, 41395, 3110, 25, 220, 717, 11, 9587, 25, 5468, 2453, 579, 11, 9587, 3110, 25, 220, 10350, 2545, 11, 17836, 2696, 25, 220, 679, 23, 12, 2318, 12, 1187, 11, 20371, 5665, 25, 9567, 403, 916, 14, 13432, 45085, 20486, 6347, 1773, 309, 461, 34303, 266, 1355, 318, 6863, 1481, 967, 6729, 1773, 13184, 12, 2353, 6491, 14, 6640, 24758, 5728, 11, 19771, 25, 17674, 19771, 11, 51127, 25, 7566, 11, 5031, 40114, 25, 7566, 11, 21722, 25, 220, 19, 25, 2166, 4520, 11, 89319, 25, 220, 6549, 13, 15, 11, 5422, 3110, 25, 220, 1958, 13, 15, 11, 14904, 25, 220, 15, 13, 15, 11, 4196, 768, 25, 220, 15, 13, 25527, 11, 30704, 2968, 25, 220, 15, 13, 5728, 11, 12634, 25, 220, 15, 13, 25717, 11, 39841, 1918, 25, 220, 15, 13, 20078, 17, 11, 80648, 2136, 25, 482, 23, 13, 23644, 11, 445, 13071, 25, 220, 15, 13, 15531, 11, 43405, 278, 2136, 25, 220, 18, 68, 12, 2304, 11, 6515, 35415, 2136, 25, 220, 15, 13, 24824, 23, 11, 3507, 7532, 25, 8871, 40, 11592, 4728, 17228, 11, 29459, 5665, 25, 9567, 403, 916, 14, 19135, 3529, 13634, 14, 10568, 10841, 11, 9587, 5665, 25, 9567, 403, 916, 14, 1530, 91934, 2453, 579, 14, 10350, 2545, 11, 41395, 5665, 25, 611, 34713, 23365, 752, 37002, 14, 717, 13]\n"
     ]
    },
    {
     "name": "stderr",
     "output_type": "stream",
     "text": [
      "Tokenizing batches 61-80:  50%|█████     | 10/20 [12:13<12:42, 76.27s/it]"
     ]
    },
    {
     "name": "stdout",
     "output_type": "stream",
     "text": [
      "Tokens: ['Track', 'ĠID', ':', 'Ġ', '167', '794', '46', ',', 'ĠTitle', ':', 'ĠOrg', 'asm', ',', 'ĠArtist', ':', 'ĠQ', '-G', 'reen', ',', 'ĠArtist', 'ĠID', ':', 'Ġ', '657', '157', ',', 'ĠGenre', ':', 'ĠDeep', 'ĠHouse', ',', 'ĠGenre', 'ĠID', ':', 'Ġ', '12', ',', 'ĠLabel', ':', 'ĠHouse', 'ĠFreedom', ',', 'ĠLabel', 'ĠID', ':', 'Ġ', '600', '76', ',', 'ĠRelease', 'ĠDate', ':', 'Ġ', '202', '2', '-', '08', '-', '31', ',', 'ĠTrack', 'ĠURL', ':', 'Ġbeat', 'port', '.com', '/', 'track', '/org', 'asm', '/', '167', '794', '46', ',', 'ĠMix', ':', 'ĠDub', 'ĠMix', ',', 'ĠRemix', ':', 'ĠYes', ',', 'ĠRem', 'ixer', ':', 'ĠYes', ',', 'ĠDuration', ':', 'Ġ', '7', ':', '28', 'Ġminutes', ',', 'ĠBPM', ':', 'Ġ', '120', '.', '0', ',', 'ĠKey', 'ĠID', ':', 'Ġ', '6', '.', '0', ',', 'ĠMode', ':', 'Ġ', '1', '.', '0', ',', 'ĠVal', 'ence', ':', 'Ġ', '0', '.', '691', ',', 'ĠDance', 'ability', ':', 'Ġ', '0', '.', '762', ',', 'ĠEnergy', ':', 'Ġ', '0', '.', '683', ',', 'ĠSpeech', 'iness', ':', 'Ġ', '0', '.', '055', '7', ',', 'ĠLoud', 'ness', ':', 'Ġ-', '7', '.', '642', ',', 'ĠL', 'iveness', ':', 'Ġ', '0', '.', '097', '6', ',', 'ĠInstrument', 'al', 'ness', ':', 'Ġ', '0', '.', '932', ',', 'ĠAc', 'oustic', 'ness', ':', 'Ġ', '0', '.', '000', '549', ',', 'ĠIS', 'RC', ':', 'ĠBE', 'Y', '921', '815', '175', ',', 'ĠArtist', 'ĠURL', ':', 'Ġbeat', 'port', '.com', '/', 'artist', '/q', '-green', '/', '657', '157', ',', 'ĠLabel', 'ĠURL', ':', 'Ġbeat', 'port', '.com', '/', 'label', '/h', 'ouse', '-f', 're', 'edom', '/', '600', '76', ',', 'ĠGenre', 'ĠURL', ':', 'Ġ/', 'genre', '/de', 'ep', '-house', '/', '12', '.']\n",
      "Token IDs: [16042, 3110, 25, 220, 11515, 25926, 2790, 11, 11106, 25, 34806, 10753, 11, 29459, 25, 1229, 12279, 4542, 11, 29459, 3110, 25, 220, 23480, 10895, 11, 41395, 25, 18682, 4783, 11, 41395, 3110, 25, 220, 717, 11, 9587, 25, 4783, 25320, 11, 9587, 3110, 25, 220, 5067, 4767, 11, 17836, 2696, 25, 220, 2366, 17, 12, 2318, 12, 2148, 11, 20371, 5665, 25, 9567, 403, 916, 14, 13432, 42461, 10753, 14, 11515, 25926, 2790, 11, 19771, 25, 17533, 19771, 11, 51127, 25, 7566, 11, 5031, 40114, 25, 7566, 11, 21722, 25, 220, 22, 25, 1591, 4520, 11, 89319, 25, 220, 4364, 13, 15, 11, 5422, 3110, 25, 220, 21, 13, 15, 11, 14904, 25, 220, 16, 13, 15, 11, 4196, 768, 25, 220, 15, 13, 25168, 11, 30704, 2968, 25, 220, 15, 13, 24376, 11, 12634, 25, 220, 15, 13, 24887, 11, 39841, 1918, 25, 220, 15, 13, 22913, 22, 11, 80648, 2136, 25, 482, 22, 13, 22266, 11, 445, 13071, 25, 220, 15, 13, 28384, 21, 11, 43405, 278, 2136, 25, 220, 15, 13, 25401, 11, 6515, 35415, 2136, 25, 220, 15, 13, 931, 22782, 11, 3507, 7532, 25, 7354, 56, 22536, 23582, 10005, 11, 29459, 5665, 25, 9567, 403, 916, 14, 19135, 34994, 39368, 14, 23480, 10895, 11, 9587, 5665, 25, 9567, 403, 916, 14, 1530, 7682, 1559, 2269, 265, 8944, 14, 5067, 4767, 11, 41395, 5665, 25, 611, 34713, 23365, 752, 37002, 14, 717, 13]\n"
     ]
    },
    {
     "name": "stderr",
     "output_type": "stream",
     "text": [
      "Tokenizing batches 61-80:  85%|████████▌ | 17/20 [21:19<04:02, 80.76s/it]"
     ]
    },
    {
     "name": "stdout",
     "output_type": "stream",
     "text": [
      "Tokens: ['Track', 'ĠID', ':', 'Ġ', '433', '668', '2', ',', 'ĠTitle', ':', 'ĠBlack', 'ĠGirl', ',', 'ĠArtist', ':', 'ĠLady', 'ĠBlack', 'tron', 'ika', ',', 'ĠArtist', 'ĠID', ':', 'Ġ', '182', '172', ',', 'ĠGenre', ':', 'ĠDeep', 'ĠHouse', ',', 'ĠGenre', 'ĠID', ':', 'Ġ', '12', ',', 'ĠLabel', ':', 'ĠSound', 'ĠBlack', 'ĠRecord', 'ings', ',', 'ĠLabel', 'ĠID', ':', 'Ġ', '321', '87', ',', 'ĠRelease', 'ĠDate', ':', 'Ġ', '201', '3', '-', '04', '-', '22', ',', 'ĠTrack', 'ĠURL', ':', 'Ġbeat', 'port', '.com', '/', 'track', '/black', '-girl', '/', '433', '668', '2', ',', 'ĠMix', ':', 'ĠSl', 'omo', 'ĠMix', ',', 'ĠRemix', ':', 'ĠYes', ',', 'ĠRem', 'ixer', ':', 'ĠYes', ',', 'ĠDuration', ':', 'Ġ', '7', ':', '57', 'Ġminutes', ',', 'ĠBPM', ':', 'Ġ', '101', '.', '0', ',', 'ĠKey', 'ĠID', ':', 'Ġ', '9', '.', '0', ',', 'ĠMode', ':', 'Ġ', '1', '.', '0', ',', 'ĠVal', 'ence', ':', 'Ġ', '0', '.', '315', ',', 'ĠDance', 'ability', ':', 'Ġ', '0', '.', '644', ',', 'ĠEnergy', ':', 'Ġ', '0', '.', '922', ',', 'ĠSpeech', 'iness', ':', 'Ġ', '0', '.', '058', '3', ',', 'ĠLoud', 'ness', ':', 'Ġ-', '7', '.', '224', ',', 'ĠL', 'iveness', ':', 'Ġ', '0', '.', '069', '3', ',', 'ĠInstrument', 'al', 'ness', ':', 'Ġ', '0', '.', '073', ',', 'ĠAc', 'oustic', 'ness', ':', 'Ġ', '0', '.', '009', '17', ',', 'ĠIS', 'RC', ':', 'ĠDE', 'PL', '913', '580', '11', ',', 'ĠArtist', 'ĠURL', ':', 'Ġbeat', 'port', '.com', '/', 'artist', '/l', 'ady', '-black', 'tron', 'ika', '/', '182', '172', ',', 'ĠLabel', 'ĠURL', ':', 'Ġbeat', 'port', '.com', '/', 'label', '/s', 'ound', '-black', '-record', 'ings', '/', '321', '87', ',', 'ĠGenre', 'ĠURL', ':', 'Ġ/', 'genre', '/de', 'ep', '-house', '/', '12', '.']\n",
      "Token IDs: [16042, 3110, 25, 220, 20153, 24427, 17, 11, 11106, 25, 5348, 11617, 11, 29459, 25, 21270, 5348, 35785, 11755, 11, 29459, 3110, 25, 220, 10828, 10861, 11, 41395, 25, 18682, 4783, 11, 41395, 3110, 25, 220, 717, 11, 9587, 25, 14936, 5348, 13896, 826, 11, 9587, 3110, 25, 220, 14423, 4044, 11, 17836, 2696, 25, 220, 679, 18, 12, 2371, 12, 1313, 11, 20371, 5665, 25, 9567, 403, 916, 14, 13432, 99645, 63970, 14, 20153, 24427, 17, 11, 19771, 25, 6995, 16279, 19771, 11, 51127, 25, 7566, 11, 5031, 40114, 25, 7566, 11, 21722, 25, 220, 22, 25, 3226, 4520, 11, 89319, 25, 220, 4645, 13, 15, 11, 5422, 3110, 25, 220, 24, 13, 15, 11, 14904, 25, 220, 16, 13, 15, 11, 4196, 768, 25, 220, 15, 13, 15189, 11, 30704, 2968, 25, 220, 15, 13, 21975, 11, 12634, 25, 220, 15, 13, 20275, 11, 39841, 1918, 25, 220, 15, 13, 24824, 18, 11, 80648, 2136, 25, 482, 22, 13, 10697, 11, 445, 13071, 25, 220, 15, 13, 27325, 18, 11, 43405, 278, 2136, 25, 220, 15, 13, 25779, 11, 6515, 35415, 2136, 25, 220, 15, 13, 13858, 1114, 11, 3507, 7532, 25, 3467, 2989, 24331, 18216, 806, 11, 29459, 5665, 25, 9567, 403, 916, 14, 19135, 13631, 7759, 38046, 35785, 11755, 14, 10828, 10861, 11, 9587, 5665, 25, 9567, 403, 916, 14, 1530, 2754, 801, 38046, 57263, 826, 14, 14423, 4044, 11, 41395, 5665, 25, 611, 34713, 23365, 752, 37002, 14, 717, 13]\n"
     ]
    },
    {
     "name": "stderr",
     "output_type": "stream",
     "text": [
      "Tokenizing batches 61-80: 100%|██████████| 20/20 [25:34<00:00, 76.72s/it]\n",
      "Tokenizing batches 81-100:   0%|          | 0/20 [00:00<?, ?it/s]"
     ]
    },
    {
     "name": "stdout",
     "output_type": "stream",
     "text": [
      "Tokens: ['Track', 'ĠID', ':', 'Ġ', '858', '527', '5', ',', 'ĠTitle', ':', 'ĠGet', 'ĠTw', 'isted', ',', 'ĠArtist', ':', 'ĠBaba', 'Ġ(', 'Italy', '),', 'ĠArtist', 'ĠID', ':', 'Ġ', '239', '369', ',', 'ĠGenre', ':', 'ĠHouse', ',', 'ĠGenre', 'ĠID', ':', 'Ġ', '5', ',', 'ĠLabel', ':', 'ĠKeep', 'ĠCal', 'm', 'ĠRecords', ',', 'ĠLabel', 'ĠID', ':', 'Ġ', '519', '32', ',', 'ĠRelease', 'ĠDate', ':', 'Ġ', '201', '6', '-', '11', '-', '21', ',', 'ĠTrack', 'ĠURL', ':', 'Ġbeat', 'port', '.com', '/', 'track', '/get', '-tw', 'isted', '/', '858', '527', '5', ',', 'ĠMix', ':', 'ĠOriginal', 'ĠMix', ',', 'ĠRemix', ':', 'ĠYes', ',', 'ĠRem', 'ixer', ':', 'ĠYes', ',', 'ĠDuration', ':', 'Ġ', '7', ':', '00', 'Ġminutes', ',', 'ĠBPM', ':', 'Ġ', '125', '.', '0', ',', 'ĠKey', 'ĠID', ':', 'Ġ', '34', '.', '0', ',', 'ĠMode', ':', 'Ġ', '1', '.', '0', ',', 'ĠVal', 'ence', ':', 'Ġ', '0', '.', '608', ',', 'ĠDance', 'ability', ':', 'Ġ', '0', '.', '81', ',', 'ĠEnergy', ':', 'Ġ', '0', '.', '65', ',', 'ĠSpeech', 'iness', ':', 'Ġ', '0', '.', '057', '9', ',', 'ĠLoud', 'ness', ':', 'Ġ-', '9', '.', '419', ',', 'ĠL', 'iveness', ':', 'Ġ', '0', '.', '165', ',', 'ĠInstrument', 'al', 'ness', ':', 'Ġ', '0', '.', '839', ',', 'ĠAc', 'oustic', 'ness', ':', 'Ġ', '0', '.', '025', '3', ',', 'ĠIS', 'RC', ':', 'ĠI', 'TR', '831', '600', '499', ',', 'ĠArtist', 'ĠURL', ':', 'Ġbeat', 'port', '.com', '/', 'artist', '/b', 'aba', '-', 'ital', 'y', '/', '239', '369', ',', 'ĠLabel', 'ĠURL', ':', 'Ġbeat', 'port', '.com', '/', 'label', '/', 'keep', '-c', 'alm', '-', 'records', '/', '519', '32', ',', 'ĠGenre', 'ĠURL', ':', 'Ġ/', 'genre', '/h', 'ouse', '/', '5', '.']\n",
      "Token IDs: [16042, 3110, 25, 220, 23805, 22369, 20, 11, 11106, 25, 2175, 12015, 13539, 11, 29459, 25, 97452, 320, 71603, 705, 29459, 3110, 25, 220, 14815, 19929, 11, 41395, 25, 4783, 11, 41395, 3110, 25, 220, 20, 11, 9587, 25, 13969, 3400, 76, 22293, 11, 9587, 3110, 25, 220, 21851, 843, 11, 17836, 2696, 25, 220, 679, 21, 12, 806, 12, 1691, 11, 20371, 5665, 25, 9567, 403, 916, 14, 13432, 24183, 98662, 13539, 14, 23805, 22369, 20, 11, 19771, 25, 17674, 19771, 11, 51127, 25, 7566, 11, 5031, 40114, 25, 7566, 11, 21722, 25, 220, 22, 25, 410, 4520, 11, 89319, 25, 220, 6549, 13, 15, 11, 5422, 3110, 25, 220, 1958, 13, 15, 11, 14904, 25, 220, 16, 13, 15, 11, 4196, 768, 25, 220, 15, 13, 19944, 11, 30704, 2968, 25, 220, 15, 13, 5932, 11, 12634, 25, 220, 15, 13, 2397, 11, 39841, 1918, 25, 220, 15, 13, 26866, 24, 11, 80648, 2136, 25, 482, 24, 13, 19391, 11, 445, 13071, 25, 220, 15, 13, 10680, 11, 43405, 278, 2136, 25, 220, 15, 13, 25465, 11, 6515, 35415, 2136, 25, 220, 15, 13, 18070, 18, 11, 3507, 7532, 25, 358, 2434, 25009, 5067, 18162, 11, 29459, 5665, 25, 9567, 403, 916, 14, 19135, 3554, 12273, 12, 2223, 88, 14, 14815, 19929, 11, 9587, 5665, 25, 9567, 403, 916, 14, 1530, 14, 13397, 1824, 7828, 12, 27295, 14, 21851, 843, 11, 41395, 5665, 25, 611, 34713, 7682, 1559, 14, 20, 13]\n",
      "Tokens: ['Track', 'ĠID', ':', 'Ġ', '334', '337', '5', ',', 'ĠTitle', ':', 'ĠSex', 'ys', 'uga', ',', 'ĠArtist', ':', 'ĠR', 'afa', 'ĠMarco', ',', 'ĠArtist', 'ĠID', ':', 'Ġ', '124', '087', ',', 'ĠGenre', ':', 'ĠHouse', ',', 'ĠGenre', 'ĠID', ':', 'Ġ', '5', ',', 'ĠLabel', ':', 'ĠCon', 'tras', 'ena', 'ĠRecords', ',', 'ĠLabel', 'ĠID', ':', 'Ġ', '820', '3', ',', 'ĠRelease', 'ĠDate', ':', 'Ġ', '201', '2', '-', '02', '-', '26', ',', 'ĠTrack', 'ĠURL', ':', 'Ġbeat', 'port', '.com', '/', 'track', '/', 'sex', 'ys', 'uga', '/', '334', '337', '5', ',', 'ĠMix', ':', 'ĠOriginal', 'ĠMix', ',', 'ĠRemix', ':', 'ĠYes', ',', 'ĠRem', 'ixer', ':', 'ĠYes', ',', 'ĠDuration', ':', 'Ġ', '6', ':', '33', 'Ġminutes', ',', 'ĠBPM', ':', 'Ġ', '129', '.', '0', ',', 'ĠKey', 'ĠID', ':', 'Ġ', '20', '.', '0', ',', 'ĠMode', ':', 'Ġ', '1', '.', '0', ',', 'ĠVal', 'ence', ':', 'Ġ', '0', '.', '56', ',', 'ĠDance', 'ability', ':', 'Ġ', '0', '.', '856', ',', 'ĠEnergy', ':', 'Ġ', '0', '.', '897', ',', 'ĠSpeech', 'iness', ':', 'Ġ', '0', '.', '138', ',', 'ĠLoud', 'ness', ':', 'Ġ-', '5', '.', '349', ',', 'ĠL', 'iveness', ':', 'Ġ', '0', '.', '048', '7', ',', 'ĠInstrument', 'al', 'ness', ':', 'Ġ', '0', '.', '005', '11', ',', 'ĠAc', 'oustic', 'ness', ':', 'Ġ', '0', '.', '001', '49', ',', 'ĠIS', 'RC', ':', 'ĠES', '577', '060', '293', '3', ',', 'ĠArtist', 'ĠURL', ':', 'Ġbeat', 'port', '.com', '/', 'artist', '/', 'ra', 'fa', '-mar', 'co', '/', '124', '087', ',', 'ĠLabel', 'ĠURL', ':', 'Ġbeat', 'port', '.com', '/', 'label', '/', 'contr', 'as', 'ena', '-', 'records', '/', '820', '3', ',', 'ĠGenre', 'ĠURL', ':', 'Ġ/', 'genre', '/h', 'ouse', '/', '5', '.']\n",
      "Token IDs: [16042, 3110, 25, 220, 17153, 17609, 20, 11, 11106, 25, 6834, 1065, 38060, 11, 29459, 25, 432, 36934, 35281, 11, 29459, 3110, 25, 220, 8874, 27311, 11, 41395, 25, 4783, 11, 41395, 3110, 25, 220, 20, 11, 9587, 25, 1221, 13811, 7304, 22293, 11, 9587, 3110, 25, 220, 18248, 18, 11, 17836, 2696, 25, 220, 679, 17, 12, 2437, 12, 1627, 11, 20371, 5665, 25, 9567, 403, 916, 14, 13432, 14, 11814, 1065, 38060, 14, 17153, 17609, 20, 11, 19771, 25, 17674, 19771, 11, 51127, 25, 7566, 11, 5031, 40114, 25, 7566, 11, 21722, 25, 220, 21, 25, 1644, 4520, 11, 89319, 25, 220, 9748, 13, 15, 11, 5422, 3110, 25, 220, 508, 13, 15, 11, 14904, 25, 220, 16, 13, 15, 11, 4196, 768, 25, 220, 15, 13, 3487, 11, 30704, 2968, 25, 220, 15, 13, 25505, 11, 12634, 25, 220, 15, 13, 24777, 11, 39841, 1918, 25, 220, 15, 13, 10350, 11, 80648, 2136, 25, 482, 20, 13, 18634, 11, 445, 13071, 25, 220, 15, 13, 23904, 22, 11, 43405, 278, 2136, 25, 220, 15, 13, 8504, 806, 11, 6515, 35415, 2136, 25, 220, 15, 13, 4119, 2491, 11, 3507, 7532, 25, 19844, 23411, 15101, 17313, 18, 11, 29459, 5665, 25, 9567, 403, 916, 14, 19135, 14, 969, 3716, 71098, 1030, 14, 8874, 27311, 11, 9587, 5665, 25, 9567, 403, 916, 14, 1530, 14, 8386, 300, 7304, 12, 27295, 14, 18248, 18, 11, 41395, 5665, 25, 611, 34713, 7682, 1559, 14, 20, 13]\n"
     ]
    },
    {
     "name": "stderr",
     "output_type": "stream",
     "text": [
      "Tokenizing batches 81-100:  10%|█         | 2/20 [02:51<26:39, 88.86s/it]"
     ]
    },
    {
     "name": "stdout",
     "output_type": "stream",
     "text": [
      "Tokens: ['Track', 'ĠID', ':', 'Ġ', '617', '403', '6', ',', 'ĠTitle', ':', 'ĠI', 'ĠLove', 'ĠYou', ',', 'ĠArtist', ':', 'ĠAng', 'y', 'ĠBaxter', ',', 'ĠArtist', 'ĠID', ':', 'Ġ', '454', '654', ',', 'ĠGenre', ':', 'ĠHouse', ',', 'ĠGenre', 'ĠID', ':', 'Ġ', '5', ',', 'ĠLabel', ':', 'ĠNEWS', 'ĠPROM', 'OTION', ',', 'ĠLabel', 'ĠID', ':', 'Ġ', '452', '79', ',', 'ĠRelease', 'ĠDate', ':', 'Ġ', '201', '0', '-', '05', '-', '16', ',', 'ĠTrack', 'ĠURL', ':', 'Ġbeat', 'port', '.com', '/', 'track', '/i', '-lo', 've', '-you', '/', '617', '403', '6', ',', 'ĠMix', ':', 'ĠOriginal', 'ĠMix', ',', 'ĠRemix', ':', 'ĠYes', ',', 'ĠRem', 'ixer', ':', 'ĠYes', ',', 'ĠDuration', ':', 'Ġ', '3', ':', '45', 'Ġminutes', ',', 'ĠBPM', ':', 'Ġ', '125', '.', '0', ',', 'ĠKey', 'ĠID', ':', 'Ġ', '19', '.', '0', ',', 'ĠMode', ':', 'Ġ', '1', '.', '0', ',', 'ĠVal', 'ence', ':', 'Ġ', '0', '.', '251', ',', 'ĠDance', 'ability', ':', 'Ġ', '0', '.', '805', ',', 'ĠEnergy', ':', 'Ġ', '0', '.', '885', ',', 'ĠSpeech', 'iness', ':', 'Ġ', '0', '.', '050', '7', ',', 'ĠLoud', 'ness', ':', 'Ġ-', '14', '.', '714', ',', 'ĠL', 'iveness', ':', 'Ġ', '0', '.', '112', ',', 'ĠInstrument', 'al', 'ness', ':', 'Ġ', '0', '.', '285', ',', 'ĠAc', 'oustic', 'ness', ':', 'Ġ', '0', '.', '101', ',', 'ĠIS', 'RC', ':', 'ĠDE', 'BL', '610', '605', '10', ',', 'ĠArtist', 'ĠURL', ':', 'Ġbeat', 'port', '.com', '/', 'artist', '/', 'ang', 'y', '-b', 'axter', '/', '454', '654', ',', 'ĠLabel', 'ĠURL', ':', 'Ġbeat', 'port', '.com', '/', 'label', '/news', '-prom', 'otion', '/', '452', '79', ',', 'ĠGenre', 'ĠURL', ':', 'Ġ/', 'genre', '/h', 'ouse', '/', '5', '.']\n",
      "Token IDs: [16042, 3110, 25, 220, 21717, 13074, 21, 11, 11106, 25, 358, 10919, 1472, 11, 29459, 25, 7568, 88, 92847, 11, 29459, 3110, 25, 220, 20555, 21969, 11, 41395, 25, 4783, 11, 41395, 3110, 25, 220, 20, 11, 9587, 25, 41226, 68788, 55101, 11, 9587, 3110, 25, 220, 21098, 4643, 11, 17836, 2696, 25, 220, 679, 15, 12, 2304, 12, 845, 11, 20371, 5665, 25, 9567, 403, 916, 14, 13432, 16843, 27578, 588, 46517, 14, 21717, 13074, 21, 11, 19771, 25, 17674, 19771, 11, 51127, 25, 7566, 11, 5031, 40114, 25, 7566, 11, 21722, 25, 220, 18, 25, 1774, 4520, 11, 89319, 25, 220, 6549, 13, 15, 11, 5422, 3110, 25, 220, 777, 13, 15, 11, 14904, 25, 220, 16, 13, 15, 11, 4196, 768, 25, 220, 15, 13, 13860, 11, 30704, 2968, 25, 220, 15, 13, 21032, 11, 12634, 25, 220, 15, 13, 19445, 11, 39841, 1918, 25, 220, 15, 13, 16193, 22, 11, 80648, 2136, 25, 482, 975, 13, 23193, 11, 445, 13071, 25, 220, 15, 13, 7261, 11, 43405, 278, 2136, 25, 220, 15, 13, 15935, 11, 6515, 35415, 2136, 25, 220, 15, 13, 4645, 11, 3507, 7532, 25, 3467, 9574, 17608, 19666, 605, 11, 29459, 5665, 25, 9567, 403, 916, 14, 19135, 14, 526, 88, 1481, 73639, 14, 20555, 21969, 11, 9587, 5665, 25, 9567, 403, 916, 14, 1530, 28455, 66271, 6082, 14, 21098, 4643, 11, 41395, 5665, 25, 611, 34713, 7682, 1559, 14, 20, 13]\n"
     ]
    },
    {
     "name": "stderr",
     "output_type": "stream",
     "text": [
      "Tokenizing batches 81-100:  25%|██▌       | 5/20 [07:21<22:32, 90.17s/it]"
     ]
    },
    {
     "name": "stdout",
     "output_type": "stream",
     "text": [
      "Tokens: ['Track', 'ĠID', ':', 'Ġ', '134', '615', '44', ',', 'ĠTitle', ':', 'ĠX', 'ĠWings', ',', 'ĠArtist', ':', 'ĠG', 'REG', ',', 'ĠArtist', 'ĠID', ':', 'Ġ', '102', '56', ',', 'ĠGenre', ':', 'ĠHouse', ',', 'ĠGenre', 'ĠID', ':', 'Ġ', '5', ',', 'ĠLabel', ':', 'ĠKal', 'amb', 'ur', 'ĠPublishing', ',', 'ĠLabel', 'ĠID', ':', 'Ġ', '313', '11', ',', 'ĠRelease', 'ĠDate', ':', 'Ġ', '202', '0', '-', '06', '-', '24', ',', 'ĠTrack', 'ĠURL', ':', 'Ġbeat', 'port', '.com', '/', 'track', '/x', '-w', 'ings', '/', '134', '615', '44', ',', 'ĠMix', ':', 'ĠOriginal', 'ĠMix', ',', 'ĠRemix', ':', 'ĠYes', ',', 'ĠRem', 'ixer', ':', 'ĠYes', ',', 'ĠDuration', ':', 'Ġ', '2', ':', '15', 'Ġminutes', ',', 'ĠBPM', ':', 'Ġ', '128', '.', '0', ',', 'ĠKey', 'ĠID', ':', 'Ġ', '6', '.', '0', ',', 'ĠMode', ':', 'Ġ', '1', '.', '0', ',', 'ĠVal', 'ence', ':', 'Ġ', '0', '.', '972', ',', 'ĠDance', 'ability', ':', 'Ġ', '0', '.', '807', ',', 'ĠEnergy', ':', 'Ġ', '0', '.', '968', ',', 'ĠSpeech', 'iness', ':', 'Ġ', '0', '.', '101', ',', 'ĠLoud', 'ness', ':', 'Ġ-', '11', '.', '34', ',', 'ĠL', 'iveness', ':', 'Ġ', '0', '.', '089', ',', 'ĠInstrument', 'al', 'ness', ':', 'Ġ', '0', '.', '911', ',', 'ĠAc', 'oustic', 'ness', ':', 'Ġ', '0', '.', '056', '1', ',', 'ĠIS', 'RC', ':', 'ĠIT', 'D', 'Q', '412', '001', '76', ',', 'ĠArtist', 'ĠURL', ':', 'Ġbeat', 'port', '.com', '/', 'artist', '/g', 'reg', '/', '102', '56', ',', 'ĠLabel', 'ĠURL', ':', 'Ġbeat', 'port', '.com', '/', 'label', '/k', 'al', 'amb', 'ur', '-publish', 'ing', '/', '313', '11', ',', 'ĠGenre', 'ĠURL', ':', 'Ġ/', 'genre', '/h', 'ouse', '/', '5', '.']\n",
      "Token IDs: [16042, 3110, 25, 220, 9565, 21385, 2096, 11, 11106, 25, 1630, 46197, 11, 29459, 25, 480, 12450, 11, 29459, 3110, 25, 220, 4278, 3487, 11, 41395, 25, 4783, 11, 41395, 3110, 25, 220, 20, 11, 9587, 25, 27930, 3042, 324, 37933, 11, 9587, 3110, 25, 220, 15231, 806, 11, 17836, 2696, 25, 220, 2366, 15, 12, 2705, 12, 1187, 11, 20371, 5665, 25, 9567, 403, 916, 14, 13432, 11009, 2695, 826, 14, 9565, 21385, 2096, 11, 19771, 25, 17674, 19771, 11, 51127, 25, 7566, 11, 5031, 40114, 25, 7566, 11, 21722, 25, 220, 17, 25, 868, 4520, 11, 89319, 25, 220, 4386, 13, 15, 11, 5422, 3110, 25, 220, 21, 13, 15, 11, 14904, 25, 220, 16, 13, 15, 11, 4196, 768, 25, 220, 15, 13, 24425, 11, 30704, 2968, 25, 220, 15, 13, 23178, 11, 12634, 25, 220, 15, 13, 23386, 11, 39841, 1918, 25, 220, 15, 13, 4645, 11, 80648, 2136, 25, 482, 806, 13, 1958, 11, 445, 13071, 25, 220, 15, 13, 25867, 11, 43405, 278, 2136, 25, 220, 15, 13, 17000, 11, 6515, 35415, 2136, 25, 220, 15, 13, 25921, 16, 11, 3507, 7532, 25, 8871, 35, 48, 17574, 4119, 4767, 11, 29459, 5665, 25, 9567, 403, 916, 14, 19135, 4951, 1610, 14, 4278, 3487, 11, 9587, 5665, 25, 9567, 403, 916, 14, 1530, 14441, 278, 3042, 324, 98453, 287, 14, 15231, 806, 11, 41395, 5665, 25, 611, 34713, 7682, 1559, 14, 20, 13]\n",
      "Tokens: ['Track', 'ĠID', ':', 'Ġ', '114', '139', '14', ',', 'ĠTitle', ':', 'ĠLeave', 'ĠIt', 'ĠAll', 'ĠBehind', ',', 'ĠArtist', ':', 'ĠNext', 'ĠDoor', 'ĠBut', 'ĠOne', ',', 'ĠArtist', 'ĠID', ':', 'Ġ', '509', '28', ',', 'ĠGenre', ':', 'ĠHouse', ',', 'ĠGenre', 'ĠID', ':', 'Ġ', '5', ',', 'ĠLabel', ':', 'ĠChem', 'iz', 'tri', 'ĠRecord', 'ings', ',', 'ĠLabel', 'ĠID', ':', 'Ġ', '287', '03', ',', 'ĠRelease', 'ĠDate', ':', 'Ġ', '201', '9', '-', '01', '-', '18', ',', 'ĠTrack', 'ĠURL', ':', 'Ġbeat', 'port', '.com', '/', 'track', '/', 'leave', '-it', '-all', '-be', 'hind', '/', '114', '139', '14', ',', 'ĠMix', ':', 'ĠRemix', ',', 'ĠRemix', ':', 'ĠYes', ',', 'ĠRem', 'ixer', ':', 'ĠYes', ',', 'ĠDuration', ':', 'Ġ', '5', ':', '20', 'Ġminutes', ',', 'ĠBPM', ':', 'Ġ', '126', '.', '0', ',', 'ĠKey', 'ĠID', ':', 'Ġ', '24', '.', '0', ',', 'ĠMode', ':', 'Ġ', '1', '.', '0', ',', 'ĠVal', 'ence', ':', 'Ġ', '0', '.', '71', ',', 'ĠDance', 'ability', ':', 'Ġ', '0', '.', '832', ',', 'ĠEnergy', ':', 'Ġ', '0', '.', '685', ',', 'ĠSpeech', 'iness', ':', 'Ġ', '0', '.', '071', '2', ',', 'ĠLoud', 'ness', ':', 'Ġ-', '9', '.', '148', ',', 'ĠL', 'iveness', ':', 'Ġ', '0', '.', '091', '1', ',', 'ĠInstrument', 'al', 'ness', ':', 'Ġ', '0', '.', '047', '8', ',', 'ĠAc', 'oustic', 'ness', ':', 'Ġ', '0', '.', '005', '44', ',', 'ĠIS', 'RC', ':', 'ĠGB', 'RT', '218', '001', '60', ',', 'ĠArtist', 'ĠURL', ':', 'Ġbeat', 'port', '.com', '/', 'artist', '/', 'next', '-door', '-but', '-one', '/', '509', '28', ',', 'ĠLabel', 'ĠURL', ':', 'Ġbeat', 'port', '.com', '/', 'label', '/', 'chem', 'iz', 'tri', '-record', 'ings', '/', '287', '03', ',', 'ĠGenre', 'ĠURL', ':', 'Ġ/', 'genre', '/h', 'ouse', '/', '5', '.']\n",
      "Token IDs: [16042, 3110, 25, 220, 8011, 10125, 975, 11, 11106, 25, 26257, 1102, 2052, 43474, 11, 29459, 25, 9479, 25166, 2030, 3861, 11, 29459, 3110, 25, 220, 12448, 1591, 11, 41395, 25, 4783, 11, 41395, 3110, 25, 220, 20, 11, 9587, 25, 19531, 450, 23254, 13896, 826, 11, 9587, 3110, 25, 220, 17897, 2839, 11, 17836, 2696, 25, 220, 679, 24, 12, 1721, 12, 972, 11, 20371, 5665, 25, 9567, 403, 916, 14, 13432, 14, 22233, 38611, 23148, 15502, 75038, 14, 8011, 10125, 975, 11, 19771, 25, 51127, 11, 51127, 25, 7566, 11, 5031, 40114, 25, 7566, 11, 21722, 25, 220, 20, 25, 508, 4520, 11, 89319, 25, 220, 9390, 13, 15, 11, 5422, 3110, 25, 220, 1187, 13, 15, 11, 14904, 25, 220, 16, 13, 15, 11, 4196, 768, 25, 220, 15, 13, 6028, 11, 30704, 2968, 25, 220, 15, 13, 23879, 11, 12634, 25, 220, 15, 13, 23717, 11, 39841, 1918, 25, 220, 15, 13, 24508, 17, 11, 80648, 2136, 25, 482, 24, 13, 10410, 11, 445, 13071, 25, 220, 15, 13, 24443, 16, 11, 43405, 278, 2136, 25, 220, 15, 13, 24970, 23, 11, 6515, 35415, 2136, 25, 220, 15, 13, 8504, 2096, 11, 3507, 7532, 25, 19397, 5463, 13302, 4119, 1399, 11, 29459, 5665, 25, 9567, 403, 916, 14, 19135, 14, 3684, 58190, 70896, 19101, 14, 12448, 1591, 11, 9587, 5665, 25, 9567, 403, 916, 14, 1530, 14, 2464, 450, 23254, 57263, 826, 14, 17897, 2839, 11, 41395, 5665, 25, 611, 34713, 7682, 1559, 14, 20, 13]\n"
     ]
    },
    {
     "name": "stderr",
     "output_type": "stream",
     "text": [
      "Tokenizing batches 81-100:  35%|███▌      | 7/20 [10:51<21:21, 98.56s/it]"
     ]
    },
    {
     "name": "stdout",
     "output_type": "stream",
     "text": [
      "Tokens: ['Track', 'ĠID', ':', 'Ġ', '592', '498', '1', ',', 'ĠTitle', ':', 'ĠWhat', 'ĠU', 'ĠSay', ',', 'ĠArtist', ':', 'ĠCarlo', 'ĠCal', 'dar', 'eri', ',', 'ĠArtist', 'ĠID', ':', 'Ġ', '147', '415', ',', 'ĠGenre', ':', 'ĠHouse', ',', 'ĠGenre', 'ĠID', ':', 'Ġ', '5', ',', 'ĠLabel', ':', 'ĠSim', 'ma', 'ĠBlack', ',', 'ĠLabel', 'ĠID', ':', 'Ġ', '318', '07', ',', 'ĠRelease', 'ĠDate', ':', 'Ġ', '201', '4', '-', '11', '-', '03', ',', 'ĠTrack', 'ĠURL', ':', 'Ġbeat', 'port', '.com', '/', 'track', '/', 'what', '-u', '-s', 'ay', '/', '592', '498', '1', ',', 'ĠMix', ':', 'ĠOriginal', 'ĠMix', ',', 'ĠRemix', ':', 'ĠYes', ',', 'ĠRem', 'ixer', ':', 'ĠYes', ',', 'ĠDuration', ':', 'Ġ', '6', ':', '26', 'Ġminutes', ',', 'ĠBPM', ':', 'Ġ', '125', '.', '0', ',', 'ĠKey', 'ĠID', ':', 'Ġ', '6', '.', '0', ',', 'ĠMode', ':', 'Ġ', '1', '.', '0', ',', 'ĠVal', 'ence', ':', 'Ġ', '0', '.', '804', ',', 'ĠDance', 'ability', ':', 'Ġ', '0', '.', '803', ',', 'ĠEnergy', ':', 'Ġ', '0', '.', '974', ',', 'ĠSpeech', 'iness', ':', 'Ġ', '0', '.', '082', '9', ',', 'ĠLoud', 'ness', ':', 'Ġ-', '6', '.', '009', ',', 'ĠL', 'iveness', ':', 'Ġ', '0', '.', '104', ',', 'ĠInstrument', 'al', 'ness', ':', 'Ġ', '0', '.', '736', ',', 'ĠAc', 'oustic', 'ness', ':', 'Ġ', '0', '.', '001', '17', ',', 'ĠIS', 'RC', ':', 'ĠQ', 'MS', 'NZ', '146', '036', '6', ',', 'ĠArtist', 'ĠURL', ':', 'Ġbeat', 'port', '.com', '/', 'artist', '/c', 'arlo', '-c', 'ald', 'ar', 'eri', '/', '147', '415', ',', 'ĠLabel', 'ĠURL', ':', 'Ġbeat', 'port', '.com', '/', 'label', '/s', 'im', 'ma', '-black', '/', '318', '07', ',', 'ĠGenre', 'ĠURL', ':', 'Ġ/', 'genre', '/h', 'ouse', '/', '5', '.']\n",
      "Token IDs: [16042, 3110, 25, 220, 20128, 21962, 16, 11, 11106, 25, 3639, 549, 25961, 11, 29459, 25, 58870, 3400, 35223, 31803, 11, 29459, 3110, 25, 220, 10288, 18136, 11, 41395, 25, 4783, 11, 41395, 3110, 25, 220, 20, 11, 9587, 25, 4567, 1764, 5348, 11, 9587, 3110, 25, 220, 17592, 2589, 11, 17836, 2696, 25, 220, 679, 19, 12, 806, 12, 2839, 11, 20371, 5665, 25, 9567, 403, 916, 14, 13432, 14, 12840, 46481, 1355, 352, 14, 20128, 21962, 16, 11, 19771, 25, 17674, 19771, 11, 51127, 25, 7566, 11, 5031, 40114, 25, 7566, 11, 21722, 25, 220, 21, 25, 1627, 4520, 11, 89319, 25, 220, 6549, 13, 15, 11, 5422, 3110, 25, 220, 21, 13, 15, 11, 14904, 25, 220, 16, 13, 15, 11, 4196, 768, 25, 220, 15, 13, 20417, 11, 30704, 2968, 25, 220, 15, 13, 20899, 11, 12634, 25, 220, 15, 13, 26007, 11, 39841, 1918, 25, 220, 15, 13, 24996, 24, 11, 80648, 2136, 25, 482, 21, 13, 13858, 11, 445, 13071, 25, 220, 15, 13, 6849, 11, 43405, 278, 2136, 25, 220, 15, 13, 23969, 11, 6515, 35415, 2136, 25, 220, 15, 13, 4119, 1114, 11, 3507, 7532, 25, 1229, 4931, 71030, 10465, 23110, 21, 11, 29459, 5665, 25, 9567, 403, 916, 14, 19135, 2971, 62028, 1824, 4852, 277, 31803, 14, 10288, 18136, 11, 9587, 5665, 25, 9567, 403, 916, 14, 1530, 2754, 318, 1764, 38046, 14, 17592, 2589, 11, 41395, 5665, 25, 611, 34713, 7682, 1559, 14, 20, 13]\n",
      "Tokens: ['Track', 'ĠID', ':', 'Ġ', '505', '081', '5', ',', 'ĠTitle', ':', 'ĠJust', 'ĠA', 'ĠGirl', ',', 'ĠArtist', ':', 'ĠErin', 'ĠLeah', ',', 'ĠArtist', 'ĠID', ':', 'Ġ', '616', '75', ',', 'ĠGenre', ':', 'ĠHouse', ',', 'ĠGenre', 'ĠID', ':', 'Ġ', '5', ',', 'ĠLabel', ':', 'ĠQuant', 'ize', 'ĠRecord', 'ings', ',', 'ĠLabel', 'ĠID', ':', 'Ġ', '246', '24', ',', 'ĠRelease', 'ĠDate', ':', 'Ġ', '201', '4', '-', '01', '-', '20', ',', 'ĠTrack', 'ĠURL', ':', 'Ġbeat', 'port', '.com', '/', 'track', '/', 'just', '-a', '-girl', '/', '505', '081', '5', ',', 'ĠMix', ':', 'ĠDj', 'ĠS', 'pen', 'ĠVocal', 'ĠMix', ',', 'ĠRemix', ':', 'ĠYes', ',', 'ĠRem', 'ixer', ':', 'ĠYes', ',', 'ĠDuration', ':', 'Ġ', '7', ':', '48', 'Ġminutes', ',', 'ĠBPM', ':', 'Ġ', '123', '.', '0', ',', 'ĠKey', 'ĠID', ':', 'Ġ', '6', '.', '0', ',', 'ĠMode', ':', 'Ġ', '0', '.', '0', ',', 'ĠVal', 'ence', ':', 'Ġ', '0', '.', '473', ',', 'ĠDance', 'ability', ':', 'Ġ', '0', '.', '736', ',', 'ĠEnergy', ':', 'Ġ', '0', '.', '642', ',', 'ĠSpeech', 'iness', ':', 'Ġ', '0', '.', '038', '6', ',', 'ĠLoud', 'ness', ':', 'Ġ-', '7', '.', '595', ',', 'ĠL', 'iveness', ':', 'Ġ', '0', '.', '611', ',', 'ĠInstrument', 'al', 'ness', ':', 'Ġ', '0', '.', '822', ',', 'ĠAc', 'oustic', 'ness', ':', 'Ġ', '0', '.', '000', '161', ',', 'ĠIS', 'RC', ':', 'ĠGB', '3', 'T', 'Q', '120', '037', '4', ',', 'ĠArtist', 'ĠURL', ':', 'Ġbeat', 'port', '.com', '/', 'artist', '/', 'erin', '-le', 'ah', '/', '616', '75', ',', 'ĠLabel', 'ĠURL', ':', 'Ġbeat', 'port', '.com', '/', 'label', '/', 'quant', 'ize', '-record', 'ings', '/', '246', '24', ',', 'ĠGenre', 'ĠURL', ':', 'Ġ/', 'genre', '/h', 'ouse', '/', '5', '.']\n",
      "Token IDs: [16042, 3110, 25, 220, 17786, 22534, 20, 11, 11106, 25, 4702, 362, 11617, 11, 29459, 25, 56914, 67961, 11, 29459, 3110, 25, 220, 21379, 2075, 11, 41395, 25, 4783, 11, 41395, 3110, 25, 220, 20, 11, 9587, 25, 32541, 553, 13896, 826, 11, 9587, 3110, 25, 220, 14205, 1187, 11, 17836, 2696, 25, 220, 679, 19, 12, 1721, 12, 508, 11, 20371, 5665, 25, 9567, 403, 916, 14, 13432, 14, 4345, 7561, 63970, 14, 17786, 22534, 20, 11, 19771, 25, 52162, 328, 2821, 98403, 19771, 11, 51127, 25, 7566, 11, 5031, 40114, 25, 7566, 11, 21722, 25, 220, 22, 25, 2166, 4520, 11, 89319, 25, 220, 4513, 13, 15, 11, 5422, 3110, 25, 220, 21, 13, 15, 11, 14904, 25, 220, 15, 13, 15, 11, 4196, 768, 25, 220, 15, 13, 21505, 11, 30704, 2968, 25, 220, 15, 13, 23969, 11, 12634, 25, 220, 15, 13, 22266, 11, 39841, 1918, 25, 220, 15, 13, 24462, 21, 11, 80648, 2136, 25, 482, 22, 13, 22754, 11, 445, 13071, 25, 220, 15, 13, 20973, 11, 43405, 278, 2136, 25, 220, 15, 13, 23105, 11, 6515, 35415, 2136, 25, 220, 15, 13, 931, 10718, 11, 3507, 7532, 25, 19397, 18, 51, 48, 4364, 23587, 19, 11, 29459, 5665, 25, 9567, 403, 916, 14, 19135, 14, 85509, 31307, 1494, 14, 21379, 2075, 11, 9587, 5665, 25, 9567, 403, 916, 14, 1530, 14, 31548, 553, 57263, 826, 14, 14205, 1187, 11, 41395, 5665, 25, 611, 34713, 7682, 1559, 14, 20, 13]\n"
     ]
    },
    {
     "name": "stderr",
     "output_type": "stream",
     "text": [
      "Tokenizing batches 81-100:  45%|████▌     | 9/20 [13:21<15:47, 86.11s/it]"
     ]
    },
    {
     "name": "stdout",
     "output_type": "stream",
     "text": [
      "Tokens: ['Track', 'ĠID', ':', 'Ġ', '164', '601', '81', ',', 'ĠTitle', ':', 'ĠFinal', 'ĠCall', ',', 'ĠArtist', ':', 'ĠNi', 'els', 'ĠKirk', ',', 'ĠArtist', 'ĠID', ':', 'Ġ', '105', '203', '6', ',', 'ĠGenre', ':', 'ĠHouse', ',', 'ĠGenre', 'ĠID', ':', 'Ġ', '5', ',', 'ĠLabel', ':', 'ĠStereo', 'ĠRoyal', ',', 'ĠLabel', 'ĠID', ':', 'Ġ', '878', '61', ',', 'ĠRelease', 'ĠDate', ':', 'Ġ', '202', '2', '-', '05', '-', '20', ',', 'ĠTrack', 'ĠURL', ':', 'Ġbeat', 'port', '.com', '/', 'track', '/f', 'inal', '-call', '/', '164', '601', '81', ',', 'ĠMix', ':', 'ĠOriginal', 'ĠMix', ',', 'ĠRemix', ':', 'ĠYes', ',', 'ĠRem', 'ixer', ':', 'ĠYes', ',', 'ĠDuration', ':', 'Ġ', '3', ':', '19', 'Ġminutes', ',', 'ĠBPM', ':', 'Ġ', '100', '.', '0', ',', 'ĠKey', 'ĠID', ':', 'Ġ', '5', '.', '0', ',', 'ĠMode', ':', 'Ġ', '0', '.', '0', ',', 'ĠVal', 'ence', ':', 'Ġ', '0', '.', '041', '2', ',', 'ĠDance', 'ability', ':', 'Ġ', '0', '.', '632', ',', 'ĠEnergy', ':', 'Ġ', '0', '.', '35', ',', 'ĠSpeech', 'iness', ':', 'Ġ', '0', '.', '041', '4', ',', 'ĠLoud', 'ness', ':', 'Ġ-', '12', '.', '943', ',', 'ĠL', 'iveness', ':', 'Ġ', '0', '.', '175', ',', 'ĠInstrument', 'al', 'ness', ':', 'Ġ', '0', '.', '892', ',', 'ĠAc', 'oustic', 'ness', ':', 'Ġ', '0', '.', '13', ',', 'ĠIS', 'RC', ':', 'ĠDK', '9', 'K', '722', '002', '10', ',', 'ĠArtist', 'ĠURL', ':', 'Ġbeat', 'port', '.com', '/', 'artist', '/', 'ni', 'els', '-k', 'irk', '/', '105', '203', '6', ',', 'ĠLabel', 'ĠURL', ':', 'Ġbeat', 'port', '.com', '/', 'label', '/st', 'ereo', '-', 'roy', 'al', '/', '878', '61', ',', 'ĠGenre', 'ĠURL', ':', 'Ġ/', 'genre', '/h', 'ouse', '/', '5', '.']\n",
      "Token IDs: [16042, 3110, 25, 220, 10513, 18262, 5932, 11, 11106, 25, 13321, 7290, 11, 29459, 25, 22652, 2053, 32446, 11, 29459, 3110, 25, 220, 6550, 9639, 21, 11, 41395, 25, 4783, 11, 41395, 3110, 25, 220, 20, 11, 9587, 25, 73075, 16591, 11, 9587, 3110, 25, 220, 25890, 5547, 11, 17836, 2696, 25, 220, 2366, 17, 12, 2304, 12, 508, 11, 20371, 5665, 25, 9567, 403, 916, 14, 13432, 6801, 992, 59997, 14, 10513, 18262, 5932, 11, 19771, 25, 17674, 19771, 11, 51127, 25, 7566, 11, 5031, 40114, 25, 7566, 11, 21722, 25, 220, 18, 25, 777, 4520, 11, 89319, 25, 220, 1041, 13, 15, 11, 5422, 3110, 25, 220, 20, 13, 15, 11, 14904, 25, 220, 15, 13, 15, 11, 4196, 768, 25, 220, 15, 13, 20945, 17, 11, 30704, 2968, 25, 220, 15, 13, 20775, 11, 12634, 25, 220, 15, 13, 1758, 11, 39841, 1918, 25, 220, 15, 13, 20945, 19, 11, 80648, 2136, 25, 482, 717, 13, 26576, 11, 445, 13071, 25, 220, 15, 13, 10005, 11, 43405, 278, 2136, 25, 220, 15, 13, 24110, 11, 6515, 35415, 2136, 25, 220, 15, 13, 1032, 11, 3507, 7532, 25, 56340, 24, 42, 23024, 6726, 605, 11, 29459, 5665, 25, 9567, 403, 916, 14, 19135, 14, 7907, 2053, 12934, 14468, 14, 6550, 9639, 21, 11, 9587, 5665, 25, 9567, 403, 916, 14, 1530, 14607, 65953, 12, 3433, 278, 14, 25890, 5547, 11, 41395, 5665, 25, 611, 34713, 7682, 1559, 14, 20, 13]\n"
     ]
    },
    {
     "name": "stderr",
     "output_type": "stream",
     "text": [
      "Tokenizing batches 81-100:  50%|█████     | 10/20 [15:09<15:29, 92.90s/it]"
     ]
    },
    {
     "name": "stdout",
     "output_type": "stream",
     "text": [
      "Tokens: ['Track', 'ĠID', ':', 'Ġ', '132', '940', '48', ',', 'ĠTitle', ':', 'ĠGive', ',', 'ĠArtist', ':', 'ĠSilver', 'filter', ',', 'ĠArtist', 'ĠID', ':', 'Ġ', '181', '798', ',', 'ĠGenre', ':', 'ĠHouse', ',', 'ĠGenre', 'ĠID', ':', 'Ġ', '5', ',', 'ĠLabel', ':', 'ĠDee', 'pl', 'ife', 'ĠRecords', ',', 'ĠLabel', 'ĠID', ':', 'Ġ', '114', '6', ',', 'ĠRelease', 'ĠDate', ':', 'Ġ', '202', '0', '-', '04', '-', '03', ',', 'ĠTrack', 'ĠURL', ':', 'Ġbeat', 'port', '.com', '/', 'track', '/g', 'ive', '/', '132', '940', '48', ',', 'ĠMix', ':', 'ĠOriginal', 'ĠMix', ',', 'ĠRemix', ':', 'ĠYes', ',', 'ĠRem', 'ixer', ':', 'ĠYes', ',', 'ĠDuration', ':', 'Ġ', '7', ':', '09', 'Ġminutes', ',', 'ĠBPM', ':', 'Ġ', '123', '.', '0', ',', 'ĠKey', 'ĠID', ':', 'Ġ', '25', '.', '0', ',', 'ĠMode', ':', 'Ġ', '0', '.', '0', ',', 'ĠVal', 'ence', ':', 'Ġ', '0', '.', '403', ',', 'ĠDance', 'ability', ':', 'Ġ', '0', '.', '811', ',', 'ĠEnergy', ':', 'Ġ', '0', '.', '626', ',', 'ĠSpeech', 'iness', ':', 'Ġ', '0', '.', '043', '1', ',', 'ĠLoud', 'ness', ':', 'Ġ-', '6', '.', '011', ',', 'ĠL', 'iveness', ':', 'Ġ', '0', '.', '055', '3', ',', 'ĠInstrument', 'al', 'ness', ':', 'Ġ', '0', '.', '897', ',', 'ĠAc', 'oustic', 'ness', ':', 'Ġ', '3', '.', '15', 'e', '-', '05', ',', 'ĠIS', 'RC', ':', 'ĠGB', 'K', 'QU', '202', '258', '4', ',', 'ĠArtist', 'ĠURL', ':', 'Ġbeat', 'port', '.com', '/', 'artist', '/s', 'ilver', 'filter', '/', '181', '798', ',', 'ĠLabel', 'ĠURL', ':', 'Ġbeat', 'port', '.com', '/', 'label', '/de', 'e', 'pl', 'ife', '-', 'records', '/', '114', '6', ',', 'ĠGenre', 'ĠURL', ':', 'Ġ/', 'genre', '/h', 'ouse', '/', '5', '.']\n",
      "Token IDs: [16042, 3110, 25, 220, 9413, 21251, 2166, 11, 11106, 25, 21335, 11, 29459, 25, 15347, 5428, 11, 29459, 3110, 25, 220, 10562, 26519, 11, 41395, 25, 4783, 11, 41395, 3110, 25, 220, 20, 11, 9587, 25, 56004, 501, 1643, 22293, 11, 9587, 3110, 25, 220, 8011, 21, 11, 17836, 2696, 25, 220, 2366, 15, 12, 2371, 12, 2839, 11, 20371, 5665, 25, 9567, 403, 916, 14, 13432, 4951, 535, 14, 9413, 21251, 2166, 11, 19771, 25, 17674, 19771, 11, 51127, 25, 7566, 11, 5031, 40114, 25, 7566, 11, 21722, 25, 220, 22, 25, 2545, 4520, 11, 89319, 25, 220, 4513, 13, 15, 11, 5422, 3110, 25, 220, 914, 13, 15, 11, 14904, 25, 220, 15, 13, 15, 11, 4196, 768, 25, 220, 15, 13, 13074, 11, 30704, 2968, 25, 220, 15, 13, 22588, 11, 12634, 25, 220, 15, 13, 22385, 11, 39841, 1918, 25, 220, 15, 13, 17776, 16, 11, 80648, 2136, 25, 482, 21, 13, 10731, 11, 445, 13071, 25, 220, 15, 13, 22913, 18, 11, 43405, 278, 2136, 25, 220, 15, 13, 24777, 11, 6515, 35415, 2136, 25, 220, 18, 13, 868, 68, 12, 2304, 11, 3507, 7532, 25, 19397, 42, 5876, 2366, 15966, 19, 11, 29459, 5665, 25, 9567, 403, 916, 14, 19135, 2754, 48130, 5428, 14, 10562, 26519, 11, 9587, 5665, 25, 9567, 403, 916, 14, 1530, 23365, 68, 501, 1643, 12, 27295, 14, 8011, 21, 11, 41395, 5665, 25, 611, 34713, 7682, 1559, 14, 20, 13]\n"
     ]
    },
    {
     "name": "stderr",
     "output_type": "stream",
     "text": [
      "Tokenizing batches 81-100:  55%|█████▌    | 11/20 [16:59<14:41, 97.99s/it]"
     ]
    },
    {
     "name": "stdout",
     "output_type": "stream",
     "text": [
      "Tokens: ['Track', 'ĠID', ':', 'Ġ', '116', '962', '21', ',', 'ĠTitle', ':', 'ĠR', 'aining', ',', 'ĠArtist', ':', 'ĠSant', 'ory', 'u', ',', 'ĠArtist', 'ĠID', ':', 'Ġ', '711', '933', ',', 'ĠGenre', ':', 'ĠHouse', ',', 'ĠGenre', 'ĠID', ':', 'Ġ', '5', ',', 'ĠLabel', ':', 'Ġ', '305', 'ĠV', 'ibe', ',', 'ĠLabel', 'ĠID', ':', 'Ġ', '764', '07', ',', 'ĠRelease', 'ĠDate', ':', 'Ġ', '201', '9', '-', '02', '-', '06', ',', 'ĠTrack', 'ĠURL', ':', 'Ġbeat', 'port', '.com', '/', 'track', '/r', 'aining', '/', '116', '962', '21', ',', 'ĠMix', ':', 'ĠOriginal', 'ĠMix', ',', 'ĠRemix', ':', 'ĠYes', ',', 'ĠRem', 'ixer', ':', 'ĠYes', ',', 'ĠDuration', ':', 'Ġ', '4', ':', '50', 'Ġminutes', ',', 'ĠBPM', ':', 'Ġ', '127', '.', '0', ',', 'ĠKey', 'ĠID', ':', 'Ġ', '28', '.', '0', ',', 'ĠMode', ':', 'Ġ', '1', '.', '0', ',', 'ĠVal', 'ence', ':', 'Ġ', '0', '.', '734', ',', 'ĠDance', 'ability', ':', 'Ġ', '0', '.', '804', ',', 'ĠEnergy', ':', 'Ġ', '0', '.', '545', ',', 'ĠSpeech', 'iness', ':', 'Ġ', '0', '.', '064', '1', ',', 'ĠLoud', 'ness', ':', 'Ġ-', '9', '.', '194', ',', 'ĠL', 'iveness', ':', 'Ġ', '0', '.', '092', '1', ',', 'ĠInstrument', 'al', 'ness', ':', 'Ġ', '0', '.', '944', ',', 'ĠAc', 'oustic', 'ness', ':', 'Ġ', '0', '.', '474', ',', 'ĠIS', 'RC', ':', 'ĠDE', 'KB', '719', '005', '02', ',', 'ĠArtist', 'ĠURL', ':', 'Ġbeat', 'port', '.com', '/', 'artist', '/s', 'ant', 'ory', 'u', '/', '711', '933', ',', 'ĠLabel', 'ĠURL', ':', 'Ġbeat', 'port', '.com', '/', 'label', '/', '305', '-v', 'ibe', '/', '764', '07', ',', 'ĠGenre', 'ĠURL', ':', 'Ġ/', 'genre', '/h', 'ouse', '/', '5', '.']\n",
      "Token IDs: [16042, 3110, 25, 220, 8027, 26366, 1691, 11, 11106, 25, 432, 2101, 11, 29459, 25, 23746, 683, 84, 11, 29459, 3110, 25, 220, 22375, 25806, 11, 41395, 25, 4783, 11, 41395, 3110, 25, 220, 20, 11, 9587, 25, 220, 13364, 650, 24459, 11, 9587, 3110, 25, 220, 24402, 2589, 11, 17836, 2696, 25, 220, 679, 24, 12, 2437, 12, 2705, 11, 20371, 5665, 25, 9567, 403, 916, 14, 13432, 7534, 2101, 14, 8027, 26366, 1691, 11, 19771, 25, 17674, 19771, 11, 51127, 25, 7566, 11, 5031, 40114, 25, 7566, 11, 21722, 25, 220, 19, 25, 1135, 4520, 11, 89319, 25, 220, 6804, 13, 15, 11, 5422, 3110, 25, 220, 1591, 13, 15, 11, 14904, 25, 220, 16, 13, 15, 11, 4196, 768, 25, 220, 15, 13, 24438, 11, 30704, 2968, 25, 220, 15, 13, 20417, 11, 12634, 25, 220, 15, 13, 20749, 11, 39841, 1918, 25, 220, 15, 13, 20478, 16, 11, 80648, 2136, 25, 482, 24, 13, 6393, 11, 445, 13071, 25, 220, 15, 13, 25221, 16, 11, 43405, 278, 2136, 25, 220, 15, 13, 25687, 11, 6515, 35415, 2136, 25, 220, 15, 13, 21358, 11, 3507, 7532, 25, 3467, 30962, 24758, 8504, 2437, 11, 29459, 5665, 25, 9567, 403, 916, 14, 19135, 2754, 519, 683, 84, 14, 22375, 25806, 11, 9587, 5665, 25, 9567, 403, 916, 14, 1530, 14, 13364, 8437, 24459, 14, 24402, 2589, 11, 41395, 5665, 25, 611, 34713, 7682, 1559, 14, 20, 13]\n"
     ]
    },
    {
     "name": "stderr",
     "output_type": "stream",
     "text": [
      "Tokenizing batches 81-100:  60%|██████    | 12/20 [18:16<12:11, 91.46s/it]"
     ]
    },
    {
     "name": "stdout",
     "output_type": "stream",
     "text": [
      "Tokens: ['Track', 'ĠID', ':', 'Ġ', '691', '336', '2', ',', 'ĠTitle', ':', 'ĠBaby', 'ĠStop', ',', 'ĠArtist', ':', 'ĠMart', 'a', 'ĠAdam', 'ch', 'uk', ',', 'ĠArtist', 'ĠID', ':', 'Ġ', '436', '175', ',', 'ĠGenre', ':', 'ĠHouse', ',', 'ĠGenre', 'ĠID', ':', 'Ġ', '5', ',', 'ĠLabel', ':', 'ĠKing', 'ĠStreet', 'ĠSounds', ',', 'ĠLabel', 'ĠID', ':', 'Ġ', '266', ',', 'ĠRelease', 'ĠDate', ':', 'Ġ', '201', '5', '-', '08', '-', '24', ',', 'ĠTrack', 'ĠURL', ':', 'Ġbeat', 'port', '.com', '/', 'track', '/b', 'aby', '-stop', '/', '691', '336', '2', ',', 'ĠMix', ':', 'ĠRemix', ',', 'ĠRemix', ':', 'ĠYes', ',', 'ĠRem', 'ixer', ':', 'ĠYes', ',', 'ĠDuration', ':', 'Ġ', '4', ':', '28', 'Ġminutes', ',', 'ĠBPM', ':', 'Ġ', '120', '.', '0', ',', 'ĠKey', 'ĠID', ':', 'Ġ', '5', '.', '0', ',', 'ĠMode', ':', 'Ġ', '1', '.', '0', ',', 'ĠVal', 'ence', ':', 'Ġ', '0', '.', '476', ',', 'ĠDance', 'ability', ':', 'Ġ', '0', '.', '881', ',', 'ĠEnergy', ':', 'Ġ', '0', '.', '322', ',', 'ĠSpeech', 'iness', ':', 'Ġ', '0', '.', '044', '6', ',', 'ĠLoud', 'ness', ':', 'Ġ-', '6', '.', '502', ',', 'ĠL', 'iveness', ':', 'Ġ', '0', '.', '034', '8', ',', 'ĠInstrument', 'al', 'ness', ':', 'Ġ', '0', '.', '392', ',', 'ĠAc', 'oustic', 'ness', ':', 'Ġ', '0', '.', '002', '38', ',', 'ĠIS', 'RC', ':', 'ĠUSA', '671', '500', '447', ',', 'ĠArtist', 'ĠURL', ':', 'Ġbeat', 'port', '.com', '/', 'artist', '/m', 'arta', '-ad', 'am', 'ch', 'uk', '/', '436', '175', ',', 'ĠLabel', 'ĠURL', ':', 'Ġbeat', 'port', '.com', '/', 'label', '/', 'king', '-st', 'reet', '-s', 'ounds', '/', '266', ',', 'ĠGenre', 'ĠURL', ':', 'Ġ/', 'genre', '/h', 'ouse', '/', '5', '.']\n",
      "Token IDs: [16042, 3110, 25, 220, 25168, 17014, 17, 11, 11106, 25, 21266, 14549, 11, 29459, 25, 8290, 64, 15387, 331, 3178, 11, 29459, 3110, 25, 220, 21299, 10005, 11, 41395, 25, 4783, 11, 41395, 3110, 25, 220, 20, 11, 9587, 25, 6342, 6825, 45241, 11, 9587, 3110, 25, 220, 15999, 11, 17836, 2696, 25, 220, 679, 20, 12, 2318, 12, 1187, 11, 20371, 5665, 25, 9567, 403, 916, 14, 13432, 3554, 6243, 42311, 14, 25168, 17014, 17, 11, 19771, 25, 51127, 11, 51127, 25, 7566, 11, 5031, 40114, 25, 7566, 11, 21722, 25, 220, 19, 25, 1591, 4520, 11, 89319, 25, 220, 4364, 13, 15, 11, 5422, 3110, 25, 220, 20, 13, 15, 11, 14904, 25, 220, 16, 13, 15, 11, 4196, 768, 25, 220, 15, 13, 22191, 11, 30704, 2968, 25, 220, 15, 13, 25339, 11, 12634, 25, 220, 15, 13, 15805, 11, 39841, 1918, 25, 220, 15, 13, 20078, 21, 11, 80648, 2136, 25, 482, 21, 13, 17824, 11, 445, 13071, 25, 220, 15, 13, 22379, 23, 11, 43405, 278, 2136, 25, 220, 15, 13, 19695, 11, 6515, 35415, 2136, 25, 220, 15, 13, 6726, 1987, 11, 3507, 7532, 25, 7427, 23403, 2636, 20800, 11, 29459, 5665, 25, 9567, 403, 916, 14, 19135, 3262, 26017, 26831, 309, 331, 3178, 14, 21299, 10005, 11, 9587, 5665, 25, 9567, 403, 916, 14, 1530, 14, 10789, 5594, 3829, 1355, 3171, 14, 15999, 11, 41395, 5665, 25, 611, 34713, 7682, 1559, 14, 20, 13]\n"
     ]
    },
    {
     "name": "stderr",
     "output_type": "stream",
     "text": [
      "Tokenizing batches 81-100:  65%|██████▌   | 13/20 [20:07<11:22, 97.49s/it]"
     ]
    },
    {
     "name": "stdout",
     "output_type": "stream",
     "text": [
      "Tokens: ['Track', 'ĠID', ':', 'Ġ', '496', '091', '0', ',', 'ĠTitle', ':', 'ĠMed', 'usa', ',', 'ĠArtist', ':', 'ĠH', 'azz', 'aro', ',', 'ĠArtist', 'ĠID', ':', 'Ġ', '284', '551', ',', 'ĠGenre', ':', 'ĠHouse', ',', 'ĠGenre', 'ĠID', ':', 'Ġ', '5', ',', 'ĠLabel', ':', 'ĠRH', '2', ',', 'ĠLabel', 'ĠID', ':', 'Ġ', '159', '31', ',', 'ĠRelease', 'ĠDate', ':', 'Ġ', '201', '3', '-', '12', '-', '25', ',', 'ĠTrack', 'ĠURL', ':', 'Ġbeat', 'port', '.com', '/', 'track', '/', 'med', 'usa', '/', '496', '091', '0', ',', 'ĠMix', ':', 'ĠOriginal', 'ĠMix', ',', 'ĠRemix', ':', 'ĠYes', ',', 'ĠRem', 'ixer', ':', 'ĠYes', ',', 'ĠDuration', ':', 'Ġ', '7', ':', '00', 'Ġminutes', ',', 'ĠBPM', ':', 'Ġ', '126', '.', '0', ',', 'ĠKey', 'ĠID', ':', 'Ġ', '3', '.', '0', ',', 'ĠMode', ':', 'Ġ', '0', '.', '0', ',', 'ĠVal', 'ence', ':', 'Ġ', '0', '.', '633', ',', 'ĠDance', 'ability', ':', 'Ġ', '0', '.', '735', ',', 'ĠEnergy', ':', 'Ġ', '0', '.', '948', ',', 'ĠSpeech', 'iness', ':', 'Ġ', '0', '.', '045', '2', ',', 'ĠLoud', 'ness', ':', 'Ġ-', '4', '.', '4', ',', 'ĠL', 'iveness', ':', 'Ġ', '0', '.', '603', ',', 'ĠInstrument', 'al', 'ness', ':', 'Ġ', '0', '.', '584', ',', 'ĠAc', 'oustic', 'ness', ':', 'Ġ', '0', '.', '006', '3', ',', 'ĠIS', 'RC', ':', 'ĠDE', 'W', '871', '305', '357', ',', 'ĠArtist', 'ĠURL', ':', 'Ġbeat', 'port', '.com', '/', 'artist', '/h', 'azz', 'aro', '/', '284', '551', ',', 'ĠLabel', 'ĠURL', ':', 'Ġbeat', 'port', '.com', '/', 'label', '/r', 'h', '2', '/', '159', '31', ',', 'ĠGenre', 'ĠURL', ':', 'Ġ/', 'genre', '/h', 'ouse', '/', '5', '.']\n",
      "Token IDs: [16042, 3110, 25, 220, 19447, 24443, 15, 11, 11106, 25, 3344, 31853, 11, 29459, 25, 473, 10002, 17606, 11, 29459, 3110, 25, 220, 17058, 21860, 11, 41395, 25, 4783, 11, 41395, 3110, 25, 220, 20, 11, 9587, 25, 57256, 17, 11, 9587, 3110, 25, 220, 11068, 2148, 11, 17836, 2696, 25, 220, 679, 18, 12, 717, 12, 914, 11, 20371, 5665, 25, 9567, 403, 916, 14, 13432, 14, 2106, 31853, 14, 19447, 24443, 15, 11, 19771, 25, 17674, 19771, 11, 51127, 25, 7566, 11, 5031, 40114, 25, 7566, 11, 21722, 25, 220, 22, 25, 410, 4520, 11, 89319, 25, 220, 9390, 13, 15, 11, 5422, 3110, 25, 220, 18, 13, 15, 11, 14904, 25, 220, 15, 13, 15, 11, 4196, 768, 25, 220, 15, 13, 23736, 11, 30704, 2968, 25, 220, 15, 13, 24939, 11, 12634, 25, 220, 15, 13, 26979, 11, 39841, 1918, 25, 220, 15, 13, 23785, 17, 11, 80648, 2136, 25, 482, 19, 13, 19, 11, 445, 13071, 25, 220, 15, 13, 21006, 11, 43405, 278, 2136, 25, 220, 15, 13, 23816, 11, 6515, 35415, 2136, 25, 220, 15, 13, 11030, 18, 11, 3507, 7532, 25, 3467, 54, 25665, 13364, 18520, 11, 29459, 5665, 25, 9567, 403, 916, 14, 19135, 7682, 10002, 17606, 14, 17058, 21860, 11, 9587, 5665, 25, 9567, 403, 916, 14, 1530, 7534, 71, 17, 14, 11068, 2148, 11, 41395, 5665, 25, 611, 34713, 7682, 1559, 14, 20, 13]\n"
     ]
    },
    {
     "name": "stderr",
     "output_type": "stream",
     "text": [
      "Tokenizing batches 81-100:  75%|███████▌  | 15/20 [23:54<08:48, 105.76s/it]"
     ]
    },
    {
     "name": "stdout",
     "output_type": "stream",
     "text": [
      "Tokens: ['Track', 'ĠID', ':', 'Ġ', '130', '906', '20', ',', 'ĠTitle', ':', 'ĠCl', 'ap', 'Ġto', 'Ġthe', 'ĠBeat', ',', 'ĠArtist', ':', 'ĠJ', 'ules', 'ĠHe', 'ff', 'ner', ',', 'ĠArtist', 'ĠID', ':', 'Ġ', '322', '969', ',', 'ĠGenre', ':', 'ĠHouse', ',', 'ĠGenre', 'ĠID', ':', 'Ġ', '5', ',', 'ĠLabel', ':', 'ĠRH', '2', ',', 'ĠLabel', 'ĠID', ':', 'Ġ', '159', '31', ',', 'ĠRelease', 'ĠDate', ':', 'Ġ', '202', '0', '-', '01', '-', '31', ',', 'ĠTrack', 'ĠURL', ':', 'Ġbeat', 'port', '.com', '/', 'track', '/cl', 'ap', '-to', '-the', '-be', 'at', '/', '130', '906', '20', ',', 'ĠMix', ':', 'ĠOriginal', 'ĠMix', ',', 'ĠRemix', ':', 'ĠYes', ',', 'ĠRem', 'ixer', ':', 'ĠYes', ',', 'ĠDuration', ':', 'Ġ', '6', ':', '21', 'Ġminutes', ',', 'ĠBPM', ':', 'Ġ', '121', '.', '0', ',', 'ĠKey', 'ĠID', ':', 'Ġ', '7', '.', '0', ',', 'ĠMode', ':', 'Ġ', '1', '.', '0', ',', 'ĠVal', 'ence', ':', 'Ġ', '0', '.', '429', ',', 'ĠDance', 'ability', ':', 'Ġ', '0', '.', '88', ',', 'ĠEnergy', ':', 'Ġ', '0', '.', '645', ',', 'ĠSpeech', 'iness', ':', 'Ġ', '0', '.', '191', ',', 'ĠLoud', 'ness', ':', 'Ġ-', '10', '.', '087', ',', 'ĠL', 'iveness', ':', 'Ġ', '0', '.', '098', '8', ',', 'ĠInstrument', 'al', 'ness', ':', 'Ġ', '0', '.', '001', '2', ',', 'ĠAc', 'oustic', 'ness', ':', 'Ġ', '0', '.', '013', '7', ',', 'ĠIS', 'RC', ':', 'ĠDE', 'W', '871', '904', '919', ',', 'ĠArtist', 'ĠURL', ':', 'Ġbeat', 'port', '.com', '/', 'artist', '/j', 'ules', '-he', 'ff', 'ner', '/', '322', '969', ',', 'ĠLabel', 'ĠURL', ':', 'Ġbeat', 'port', '.com', '/', 'label', '/r', 'h', '2', '/', '159', '31', ',', 'ĠGenre', 'ĠURL', ':', 'Ġ/', 'genre', '/h', 'ouse', '/', '5', '.']\n",
      "Token IDs: [16042, 3110, 25, 220, 5894, 22224, 508, 11, 11106, 25, 2493, 391, 311, 279, 27894, 11, 29459, 25, 622, 2482, 1283, 544, 1215, 11, 29459, 3110, 25, 220, 15805, 24792, 11, 41395, 25, 4783, 11, 41395, 3110, 25, 220, 20, 11, 9587, 25, 57256, 17, 11, 9587, 3110, 25, 220, 11068, 2148, 11, 17836, 2696, 25, 220, 2366, 15, 12, 1721, 12, 2148, 11, 20371, 5665, 25, 9567, 403, 916, 14, 13432, 57031, 391, 4791, 10826, 15502, 266, 14, 5894, 22224, 508, 11, 19771, 25, 17674, 19771, 11, 51127, 25, 7566, 11, 5031, 40114, 25, 7566, 11, 21722, 25, 220, 21, 25, 1691, 4520, 11, 89319, 25, 220, 7994, 13, 15, 11, 5422, 3110, 25, 220, 22, 13, 15, 11, 14904, 25, 220, 16, 13, 15, 11, 4196, 768, 25, 220, 15, 13, 16371, 11, 30704, 2968, 25, 220, 15, 13, 2421, 11, 12634, 25, 220, 15, 13, 22926, 11, 39841, 1918, 25, 220, 15, 13, 7529, 11, 80648, 2136, 25, 482, 605, 13, 27311, 11, 445, 13071, 25, 220, 15, 13, 26983, 23, 11, 43405, 278, 2136, 25, 220, 15, 13, 4119, 17, 11, 6515, 35415, 2136, 25, 220, 15, 13, 16368, 22, 11, 3507, 7532, 25, 3467, 54, 25665, 22777, 24337, 11, 29459, 5665, 25, 9567, 403, 916, 14, 19135, 4537, 2482, 38435, 544, 1215, 14, 15805, 24792, 11, 9587, 5665, 25, 9567, 403, 916, 14, 1530, 7534, 71, 17, 14, 11068, 2148, 11, 41395, 5665, 25, 611, 34713, 7682, 1559, 14, 20, 13]\n"
     ]
    },
    {
     "name": "stderr",
     "output_type": "stream",
     "text": [
      "Tokenizing batches 81-100:  80%|████████  | 16/20 [25:13<06:31, 97.86s/it] "
     ]
    },
    {
     "name": "stdout",
     "output_type": "stream",
     "text": [
      "Tokens: ['Track', 'ĠID', ':', 'Ġ', '593', '184', '4', ',', 'ĠTitle', ':', 'ĠOne', 'ĠDesire', ',', 'ĠArtist', ':', 'ĠT', 'ucc', 'illo', ',', 'ĠArtist', 'ĠID', ':', 'Ġ', '553', '72', ',', 'ĠGenre', ':', 'ĠHouse', ',', 'ĠGenre', 'ĠID', ':', 'Ġ', '5', ',', 'ĠLabel', ':', 'ĠStreet', 'ĠKing', ',', 'ĠLabel', 'ĠID', ':', 'Ġ', '126', '44', ',', 'ĠRelease', 'ĠDate', ':', 'Ġ', '201', '4', '-', '11', '-', '17', ',', 'ĠTrack', 'ĠURL', ':', 'Ġbeat', 'port', '.com', '/', 'track', '/', 'one', '-des', 'ire', '/', '593', '184', '4', ',', 'ĠMix', ':', 'ĠAli', 'x', 'ĠAlvarez', 'ĠF', '1', 'Ġseries', 'ĠVox', ',', 'ĠRemix', ':', 'ĠYes', ',', 'ĠRem', 'ixer', ':', 'ĠYes', ',', 'ĠDuration', ':', 'Ġ', '7', ':', '42', 'Ġminutes', ',', 'ĠBPM', ':', 'Ġ', '126', '.', '0', ',', 'ĠKey', 'ĠID', ':', 'Ġ', '9', '.', '0', ',', 'ĠMode', ':', 'Ġ', '0', '.', '0', ',', 'ĠVal', 'ence', ':', 'Ġ', '0', '.', '7', ',', 'ĠDance', 'ability', ':', 'Ġ', '0', '.', '804', ',', 'ĠEnergy', ':', 'Ġ', '0', '.', '877', ',', 'ĠSpeech', 'iness', ':', 'Ġ', '0', '.', '039', '3', ',', 'ĠLoud', 'ness', ':', 'Ġ-', '8', '.', '395', ',', 'ĠL', 'iveness', ':', 'Ġ', '0', '.', '091', '6', ',', 'ĠInstrument', 'al', 'ness', ':', 'Ġ', '0', '.', '24', ',', 'ĠAc', 'oustic', 'ness', ':', 'Ġ', '0', '.', '000', '729', ',', 'ĠIS', 'RC', ':', 'ĠUSA', '670', '601', '819', ',', 'ĠArtist', 'ĠURL', ':', 'Ġbeat', 'port', '.com', '/', 'artist', '/t', 'ucc', 'illo', '/', '553', '72', ',', 'ĠLabel', 'ĠURL', ':', 'Ġbeat', 'port', '.com', '/', 'label', '/st', 'reet', '-', 'king', '/', '126', '44', ',', 'ĠGenre', 'ĠURL', ':', 'Ġ/', 'genre', '/h', 'ouse', '/', '5', '.']\n",
      "Token IDs: [16042, 3110, 25, 220, 22608, 10336, 19, 11, 11106, 25, 3861, 82524, 11, 29459, 25, 350, 14912, 22532, 11, 29459, 3110, 25, 220, 22663, 5332, 11, 41395, 25, 4783, 11, 41395, 3110, 25, 220, 20, 11, 9587, 25, 6825, 6342, 11, 9587, 3110, 25, 220, 9390, 2096, 11, 17836, 2696, 25, 220, 679, 19, 12, 806, 12, 1114, 11, 20371, 5665, 25, 9567, 403, 916, 14, 13432, 14, 606, 25520, 556, 14, 22608, 10336, 19, 11, 19771, 25, 14925, 87, 77815, 435, 16, 4101, 80712, 11, 51127, 25, 7566, 11, 5031, 40114, 25, 7566, 11, 21722, 25, 220, 22, 25, 2983, 4520, 11, 89319, 25, 220, 9390, 13, 15, 11, 5422, 3110, 25, 220, 24, 13, 15, 11, 14904, 25, 220, 15, 13, 15, 11, 4196, 768, 25, 220, 15, 13, 22, 11, 30704, 2968, 25, 220, 15, 13, 20417, 11, 12634, 25, 220, 15, 13, 23873, 11, 39841, 1918, 25, 220, 15, 13, 21602, 18, 11, 80648, 2136, 25, 482, 23, 13, 19498, 11, 445, 13071, 25, 220, 15, 13, 24443, 21, 11, 43405, 278, 2136, 25, 220, 15, 13, 1187, 11, 6515, 35415, 2136, 25, 220, 15, 13, 931, 22194, 11, 3507, 7532, 25, 7427, 21218, 18262, 18831, 11, 29459, 5665, 25, 9567, 403, 916, 14, 19135, 5640, 14912, 22532, 14, 22663, 5332, 11, 9587, 5665, 25, 9567, 403, 916, 14, 1530, 14607, 3829, 12, 10789, 14, 9390, 2096, 11, 41395, 5665, 25, 611, 34713, 7682, 1559, 14, 20, 13]\n"
     ]
    },
    {
     "name": "stderr",
     "output_type": "stream",
     "text": [
      "Tokenizing batches 81-100:  85%|████████▌ | 17/20 [26:32<04:36, 92.14s/it]"
     ]
    },
    {
     "name": "stdout",
     "output_type": "stream",
     "text": [
      "Tokens: ['Track', 'ĠID', ':', 'Ġ', '119', '689', '01', ',', 'ĠTitle', ':', 'ĠHe', 'ĠMakes', 'ĠMe', 'ĠSay', ',', 'ĠArtist', ':', 'ĠKe', 'isha', 'ĠHall', ',', 'ĠArtist', 'ĠID', ':', 'Ġ', '633', '694', ',', 'ĠGenre', ':', 'ĠHouse', ',', 'ĠGenre', 'ĠID', ':', 'Ġ', '5', ',', 'ĠLabel', ':', 'ĠLW', 'ĠRecord', 'ings', ',', 'ĠLabel', 'ĠID', ':', 'Ġ', '783', '9', ',', 'ĠRelease', 'ĠDate', ':', 'Ġ', '201', '9', '-', '05', '-', '24', ',', 'ĠTrack', 'ĠURL', ':', 'Ġbeat', 'port', '.com', '/', 'track', '/he', '-m', 'akes', '-me', '-s', 'ay', '/', '119', '689', '01', ',', 'ĠMix', ':', 'ĠDub', 'ĠMix', ',', 'ĠRemix', ':', 'ĠYes', ',', 'ĠRem', 'ixer', ':', 'ĠYes', ',', 'ĠDuration', ':', 'Ġ', '7', ':', '44', 'Ġminutes', ',', 'ĠBPM', ':', 'Ġ', '124', '.', '0', ',', 'ĠKey', 'ĠID', ':', 'Ġ', '8', '.', '0', ',', 'ĠMode', ':', 'Ġ', '0', '.', '0', ',', 'ĠVal', 'ence', ':', 'Ġ', '0', '.', '671', ',', 'ĠDance', 'ability', ':', 'Ġ', '0', '.', '804', ',', 'ĠEnergy', ':', 'Ġ', '0', '.', '586', ',', 'ĠSpeech', 'iness', ':', 'Ġ', '0', '.', '060', '5', ',', 'ĠLoud', 'ness', ':', 'Ġ-', '12', '.', '354', ',', 'ĠL', 'iveness', ':', 'Ġ', '0', '.', '078', '1', ',', 'ĠInstrument', 'al', 'ness', ':', 'Ġ', '0', '.', '162', ',', 'ĠAc', 'oustic', 'ness', ':', 'Ġ', '0', '.', '013', '4', ',', 'ĠIS', 'RC', ':', 'ĠG', 'BL', 'V', '618', '168', '15', ',', 'ĠArtist', 'ĠURL', ':', 'Ġbeat', 'port', '.com', '/', 'artist', '/', 'ke', 'isha', '-h', 'all', '/', '633', '694', ',', 'ĠLabel', 'ĠURL', ':', 'Ġbeat', 'port', '.com', '/', 'label', '/l', 'w', '-record', 'ings', '/', '783', '9', ',', 'ĠGenre', 'ĠURL', ':', 'Ġ/', 'genre', '/h', 'ouse', '/', '5', '.']\n",
      "Token IDs: [16042, 3110, 25, 220, 9079, 25458, 1721, 11, 11106, 25, 1283, 37970, 2206, 25961, 11, 29459, 25, 6706, 36040, 11166, 11, 29459, 3110, 25, 220, 23736, 25392, 11, 41395, 25, 4783, 11, 41395, 3110, 25, 220, 20, 11, 9587, 25, 56841, 13896, 826, 11, 9587, 3110, 25, 220, 26008, 24, 11, 17836, 2696, 25, 220, 679, 24, 12, 2304, 12, 1187, 11, 20371, 5665, 25, 9567, 403, 916, 14, 13432, 78156, 1474, 2094, 35073, 1355, 352, 14, 9079, 25458, 1721, 11, 19771, 25, 17533, 19771, 11, 51127, 25, 7566, 11, 5031, 40114, 25, 7566, 11, 21722, 25, 220, 22, 25, 2096, 4520, 11, 89319, 25, 220, 8874, 13, 15, 11, 5422, 3110, 25, 220, 23, 13, 15, 11, 14904, 25, 220, 15, 13, 15, 11, 4196, 768, 25, 220, 15, 13, 23403, 11, 30704, 2968, 25, 220, 15, 13, 20417, 11, 12634, 25, 220, 15, 13, 22345, 11, 39841, 1918, 25, 220, 15, 13, 15101, 20, 11, 80648, 2136, 25, 482, 717, 13, 18384, 11, 445, 13071, 25, 220, 15, 13, 24850, 16, 11, 43405, 278, 2136, 25, 220, 15, 13, 10674, 11, 6515, 35415, 2136, 25, 220, 15, 13, 16368, 19, 11, 3507, 7532, 25, 480, 9574, 53, 21985, 8953, 868, 11, 29459, 5665, 25, 9567, 403, 916, 14, 19135, 14, 441, 36040, 2902, 543, 14, 23736, 25392, 11, 9587, 5665, 25, 9567, 403, 916, 14, 1530, 13631, 86, 57263, 826, 14, 26008, 24, 11, 41395, 5665, 25, 611, 34713, 7682, 1559, 14, 20, 13]\n",
      "Tokens: ['Track', 'ĠID', ':', 'Ġ', '120', '007', '81', ',', 'ĠTitle', ':', 'ĠCry', 'Ġ&', 'ĠRelease', ',', 'ĠArtist', ':', 'ĠSunshine', 'ĠJones', ',', 'ĠArtist', 'ĠID', ':', 'Ġ', '152', '44', ',', 'ĠGenre', ':', 'ĠHouse', ',', 'ĠGenre', 'ĠID', ':', 'Ġ', '5', ',', 'ĠLabel', ':', 'ĠThe', 'ĠUrg', 'ency', 'ĠOf', 'ĠChange', ',', 'ĠLabel', 'ĠID', ':', 'Ġ', '735', '65', ',', 'ĠRelease', 'ĠDate', ':', 'Ġ', '201', '9', '-', '05', '-', '24', ',', 'ĠTrack', 'ĠURL', ':', 'Ġbeat', 'port', '.com', '/', 'track', '/c', 'ry', '-release', '/', '120', '007', '81', ',', 'ĠMix', ':', 'ĠOriginal', 'ĠMix', ',', 'ĠRemix', ':', 'ĠYes', ',', 'ĠRem', 'ixer', ':', 'ĠYes', ',', 'ĠDuration', ':', 'Ġ', '6', ':', '28', 'Ġminutes', ',', 'ĠBPM', ':', 'Ġ', '116', '.', '0', ',', 'ĠKey', 'ĠID', ':', 'Ġ', '7', '.', '0', ',', 'ĠMode', ':', 'Ġ', '1', '.', '0', ',', 'ĠVal', 'ence', ':', 'Ġ', '0', '.', '201', ',', 'ĠDance', 'ability', ':', 'Ġ', '0', '.', '767', ',', 'ĠEnergy', ':', 'Ġ', '0', '.', '542', ',', 'ĠSpeech', 'iness', ':', 'Ġ', '0', '.', '063', '8', ',', 'ĠLoud', 'ness', ':', 'Ġ-', '8', '.', '074', ',', 'ĠL', 'iveness', ':', 'Ġ', '0', '.', '068', '2', ',', 'ĠInstrument', 'al', 'ness', ':', 'Ġ', '0', '.', '164', ',', 'ĠAc', 'oustic', 'ness', ':', 'Ġ', '0', '.', '000', '538', ',', 'ĠIS', 'RC', ':', 'ĠAUX', 'N', '219', '161', '77', ',', 'ĠArtist', 'ĠURL', ':', 'Ġbeat', 'port', '.com', '/', 'artist', '/s', 'un', 'shine', '-j', 'ones', '/', '152', '44', ',', 'ĠLabel', 'ĠURL', ':', 'Ġbeat', 'port', '.com', '/', 'label', '/the', '-', 'urg', 'ency', '-of', '-change', '/', '735', '65', ',', 'ĠGenre', 'ĠURL', ':', 'Ġ/', 'genre', '/h', 'ouse', '/', '5', '.']\n",
      "Token IDs: [16042, 3110, 25, 220, 4364, 11194, 5932, 11, 11106, 25, 43805, 612, 17836, 11, 29459, 25, 62394, 12201, 11, 29459, 3110, 25, 220, 9756, 2096, 11, 41395, 25, 4783, 11, 41395, 3110, 25, 220, 20, 11, 9587, 25, 578, 86586, 2301, 5046, 10604, 11, 9587, 3110, 25, 220, 24939, 2397, 11, 17836, 2696, 25, 220, 679, 24, 12, 2304, 12, 1187, 11, 20371, 5665, 25, 9567, 403, 916, 14, 13432, 2971, 894, 45824, 14, 4364, 11194, 5932, 11, 19771, 25, 17674, 19771, 11, 51127, 25, 7566, 11, 5031, 40114, 25, 7566, 11, 21722, 25, 220, 21, 25, 1591, 4520, 11, 89319, 25, 220, 8027, 13, 15, 11, 5422, 3110, 25, 220, 22, 13, 15, 11, 14904, 25, 220, 16, 13, 15, 11, 4196, 768, 25, 220, 15, 13, 679, 11, 30704, 2968, 25, 220, 15, 13, 23275, 11, 12634, 25, 220, 15, 13, 21791, 11, 39841, 1918, 25, 220, 15, 13, 24254, 23, 11, 80648, 2136, 25, 482, 23, 13, 26739, 11, 445, 13071, 25, 220, 15, 13, 26661, 17, 11, 43405, 278, 2136, 25, 220, 15, 13, 10513, 11, 6515, 35415, 2136, 25, 220, 15, 13, 931, 22600, 11, 3507, 7532, 25, 96855, 45, 13762, 10718, 2813, 11, 29459, 5665, 25, 9567, 403, 916, 14, 19135, 2754, 359, 31338, 13636, 3233, 14, 9756, 2096, 11, 9587, 5665, 25, 9567, 403, 916, 14, 1530, 52357, 12, 5673, 2301, 8838, 51502, 14, 24939, 2397, 11, 41395, 5665, 25, 611, 34713, 7682, 1559, 14, 20, 13]\n"
     ]
    },
    {
     "name": "stderr",
     "output_type": "stream",
     "text": [
      "Tokenizing batches 81-100: 100%|██████████| 20/20 [31:49<00:00, 95.48s/it] \n",
      "Tokenizing batches 101-120:   0%|          | 0/20 [00:00<?, ?it/s]"
     ]
    },
    {
     "name": "stdout",
     "output_type": "stream",
     "text": [
      "Tokens: ['Track', 'ĠID', ':', 'Ġ', '164', '509', '5', ',', 'ĠTitle', ':', 'ĠDual', 'ĠBand', ',', 'ĠArtist', ':', 'ĠRico', 'ĠBon', 'etti', ',', 'ĠArtist', 'ĠID', ':', 'Ġ', '947', '72', ',', 'ĠGenre', ':', 'ĠHouse', ',', 'ĠGenre', 'ĠID', ':', 'Ġ', '5', ',', 'ĠLabel', ':', 'ĠP', 'ino', 'ĠMusic', ',', 'ĠLabel', 'ĠID', ':', 'Ġ', '857', '5', ',', 'ĠRelease', 'ĠDate', ':', 'Ġ', '201', '1', '-', '01', '-', '14', ',', 'ĠTrack', 'ĠURL', ':', 'Ġbeat', 'port', '.com', '/', 'track', '/d', 'ual', '-band', '/', '164', '509', '5', ',', 'ĠMix', ':', 'ĠOriginal', 'ĠMix', ',', 'ĠRemix', ':', 'ĠYes', ',', 'ĠRem', 'ixer', ':', 'ĠYes', ',', 'ĠDuration', ':', 'Ġ', '11', ':', '38', 'Ġminutes', ',', 'ĠBPM', ':', 'Ġ', '151', '.', '0', ',', 'ĠKey', 'ĠID', ':', 'Ġ', '6', '.', '0', ',', 'ĠMode', ':', 'Ġ', '0', '.', '0', ',', 'ĠVal', 'ence', ':', 'Ġ', '0', '.', '391', ',', 'ĠDance', 'ability', ':', 'Ġ', '0', '.', '806', ',', 'ĠEnergy', ':', 'Ġ', '0', '.', '899', ',', 'ĠSpeech', 'iness', ':', 'Ġ', '0', '.', '060', '5', ',', 'ĠLoud', 'ness', ':', 'Ġ-', '8', '.', '33', ',', 'ĠL', 'iveness', ':', 'Ġ', '0', '.', '125', ',', 'ĠInstrument', 'al', 'ness', ':', 'Ġ', '0', '.', '889', ',', 'ĠAc', 'oustic', 'ness', ':', 'Ġ', '0', '.', '022', '8', ',', 'ĠIS', 'RC', ':', 'ĠCH', '513', '100', '130', '7', ',', 'ĠArtist', 'ĠURL', ':', 'Ġbeat', 'port', '.com', '/', 'artist', '/', 'rico', '-b', 'on', 'etti', '/', '947', '72', ',', 'ĠLabel', 'ĠURL', ':', 'Ġbeat', 'port', '.com', '/', 'label', '/p', 'ino', '-m', 'usic', '/', '857', '5', ',', 'ĠGenre', 'ĠURL', ':', 'Ġ/', 'genre', '/h', 'ouse', '/', '5', '.']\n",
      "Token IDs: [16042, 3110, 25, 220, 10513, 12448, 20, 11, 11106, 25, 34759, 17366, 11, 29459, 25, 34248, 13789, 29037, 11, 29459, 3110, 25, 220, 26511, 5332, 11, 41395, 25, 4783, 11, 41395, 3110, 25, 220, 20, 11, 9587, 25, 393, 3394, 10948, 11, 9587, 3110, 25, 220, 20907, 20, 11, 17836, 2696, 25, 220, 679, 16, 12, 1721, 12, 975, 11, 20371, 5665, 25, 9567, 403, 916, 14, 13432, 3529, 940, 68775, 14, 10513, 12448, 20, 11, 19771, 25, 17674, 19771, 11, 51127, 25, 7566, 11, 5031, 40114, 25, 7566, 11, 21722, 25, 220, 806, 25, 1987, 4520, 11, 89319, 25, 220, 9690, 13, 15, 11, 5422, 3110, 25, 220, 21, 13, 15, 11, 14904, 25, 220, 15, 13, 15, 11, 4196, 768, 25, 220, 15, 13, 19631, 11, 30704, 2968, 25, 220, 15, 13, 22397, 11, 12634, 25, 220, 15, 13, 22889, 11, 39841, 1918, 25, 220, 15, 13, 15101, 20, 11, 80648, 2136, 25, 482, 23, 13, 1644, 11, 445, 13071, 25, 220, 15, 13, 6549, 11, 43405, 278, 2136, 25, 220, 15, 13, 25354, 11, 6515, 35415, 2136, 25, 220, 15, 13, 18642, 23, 11, 3507, 7532, 25, 6969, 21164, 1041, 5894, 22, 11, 29459, 5665, 25, 9567, 403, 916, 14, 19135, 14, 56347, 1481, 263, 29037, 14, 26511, 5332, 11, 9587, 5665, 25, 9567, 403, 916, 14, 1530, 4420, 3394, 1474, 11785, 14, 20907, 20, 11, 41395, 5665, 25, 611, 34713, 7682, 1559, 14, 20, 13]\n",
      "Tokens: ['Track', 'ĠID', ':', 'Ġ', '162', '760', '6', ',', 'ĠTitle', ':', 'ĠThr', 'app', ',', 'ĠArtist', ':', 'ĠFunk', 'agenda', ',', 'ĠArtist', 'ĠID', ':', 'Ġ', '108', '56', ',', 'ĠGenre', ':', 'ĠHouse', ',', 'ĠGenre', 'ĠID', ':', 'Ġ', '5', ',', 'ĠLabel', ':', 'ĠN', 'erv', 'ous', 'ĠRecords', ',', 'ĠLabel', 'ĠID', ':', 'Ġ', '275', '2', ',', 'ĠRelease', 'ĠDate', ':', 'Ġ', '201', '0', '-', '12', '-', '28', ',', 'ĠTrack', 'ĠURL', ':', 'Ġbeat', 'port', '.com', '/', 'track', '/th', 'r', 'app', '/', '162', '760', '6', ',', 'ĠMix', ':', 'ĠDub', 'ĠMix', ',', 'ĠRemix', ':', 'ĠYes', ',', 'ĠRem', 'ixer', ':', 'ĠYes', ',', 'ĠDuration', ':', 'Ġ', '6', ':', '28', 'Ġminutes', ',', 'ĠBPM', ':', 'Ġ', '125', '.', '0', ',', 'ĠKey', 'ĠID', ':', 'Ġ', '20', '.', '0', ',', 'ĠMode', ':', 'Ġ', '0', '.', '0', ',', 'ĠVal', 'ence', ':', 'Ġ', '0', '.', '315', ',', 'ĠDance', 'ability', ':', 'Ġ', '0', '.', '803', ',', 'ĠEnergy', ':', 'Ġ', '0', '.', '752', ',', 'ĠSpeech', 'iness', ':', 'Ġ', '0', '.', '053', '1', ',', 'ĠLoud', 'ness', ':', 'Ġ-', '10', '.', '976', ',', 'ĠL', 'iveness', ':', 'Ġ', '0', '.', '108', ',', 'ĠInstrument', 'al', 'ness', ':', 'Ġ', '0', '.', '916', ',', 'ĠAc', 'oustic', 'ness', ':', 'Ġ', '0', '.', '000', '107', ',', 'ĠIS', 'RC', ':', 'ĠUS', 'N', 'RS', '112', '755', '8', ',', 'ĠArtist', 'ĠURL', ':', 'Ġbeat', 'port', '.com', '/', 'artist', '/f', 'unk', 'agenda', '/', '108', '56', ',', 'ĠLabel', 'ĠURL', ':', 'Ġbeat', 'port', '.com', '/', 'label', '/n', 'erv', 'ous', '-', 'records', '/', '275', '2', ',', 'ĠGenre', 'ĠURL', ':', 'Ġ/', 'genre', '/h', 'ouse', '/', '5', '.']\n",
      "Token IDs: [16042, 3110, 25, 220, 10674, 19104, 21, 11, 11106, 25, 30665, 680, 11, 29459, 25, 40710, 80823, 11, 29459, 3110, 25, 220, 6640, 3487, 11, 41395, 25, 4783, 11, 41395, 3110, 25, 220, 20, 11, 9587, 25, 452, 651, 788, 22293, 11, 9587, 3110, 25, 220, 14417, 17, 11, 17836, 2696, 25, 220, 679, 15, 12, 717, 12, 1591, 11, 20371, 5665, 25, 9567, 403, 916, 14, 13432, 21071, 81, 680, 14, 10674, 19104, 21, 11, 19771, 25, 17533, 19771, 11, 51127, 25, 7566, 11, 5031, 40114, 25, 7566, 11, 21722, 25, 220, 21, 25, 1591, 4520, 11, 89319, 25, 220, 6549, 13, 15, 11, 5422, 3110, 25, 220, 508, 13, 15, 11, 14904, 25, 220, 15, 13, 15, 11, 4196, 768, 25, 220, 15, 13, 15189, 11, 30704, 2968, 25, 220, 15, 13, 20899, 11, 12634, 25, 220, 15, 13, 23644, 11, 39841, 1918, 25, 220, 15, 13, 25210, 16, 11, 80648, 2136, 25, 482, 605, 13, 25208, 11, 445, 13071, 25, 220, 15, 13, 6640, 11, 43405, 278, 2136, 25, 220, 15, 13, 24487, 11, 6515, 35415, 2136, 25, 220, 15, 13, 931, 7699, 11, 3507, 7532, 25, 2326, 45, 11706, 7261, 23532, 23, 11, 29459, 5665, 25, 9567, 403, 916, 14, 19135, 6801, 3200, 80823, 14, 6640, 3487, 11, 9587, 5665, 25, 9567, 403, 916, 14, 1530, 9809, 651, 788, 12, 27295, 14, 14417, 17, 11, 41395, 5665, 25, 611, 34713, 7682, 1559, 14, 20, 13]\n"
     ]
    },
    {
     "name": "stderr",
     "output_type": "stream",
     "text": [
      "Tokenizing batches 101-120:  10%|█         | 2/20 [04:00<36:06, 120.35s/it]"
     ]
    },
    {
     "name": "stdout",
     "output_type": "stream",
     "text": [
      "Tokens: ['Track', 'ĠID', ':', 'Ġ', '178', '783', '09', ',', 'ĠTitle', ':', 'ĠBack', ',', 'ĠArtist', ':', 'ĠW', 'add', ',', 'ĠArtist', 'ĠID', ':', 'Ġ', '624', '782', ',', 'ĠGenre', ':', 'ĠOrganic', 'ĠHouse', 'Ġ/', 'ĠD', 'ownt', 'empo', ',', 'ĠGenre', 'ĠID', ':', 'Ġ', '93', ',', 'ĠLabel', ':', 'ĠTibet', 'ania', 'ĠRecords', ',', 'ĠLabel', 'ĠID', ':', 'Ġ', '914', '79', ',', 'ĠRelease', 'ĠDate', ':', 'Ġ', '202', '3', '-', '07', '-', '31', ',', 'ĠTrack', 'ĠURL', ':', 'Ġbeat', 'port', '.com', '/', 'track', '/back', '/', '178', '783', '09', ',', 'ĠMix', ':', 'ĠRemix', ',', 'ĠRemix', ':', 'ĠYes', ',', 'ĠRem', 'ixer', ':', 'ĠYes', ',', 'ĠDuration', ':', 'Ġ', '8', ':', '24', 'Ġminutes', ',', 'ĠBPM', ':', 'Ġ', '105', '.', '0', ',', 'ĠKey', 'ĠID', ':', 'Ġ', '9', '.', '0', ',', 'ĠMode', ':', 'Ġ', '0', '.', '0', ',', 'ĠVal', 'ence', ':', 'Ġ', '0', '.', '059', '4', ',', 'ĠDance', 'ability', ':', 'Ġ', '0', '.', '756', ',', 'ĠEnergy', ':', 'Ġ', '0', '.', '487', ',', 'ĠSpeech', 'iness', ':', 'Ġ', '0', '.', '039', '2', ',', 'ĠLoud', 'ness', ':', 'Ġ-', '9', '.', '377', ',', 'ĠL', 'iveness', ':', 'Ġ', '0', '.', '082', '6', ',', 'ĠInstrument', 'al', 'ness', ':', 'Ġ', '0', '.', '816', ',', 'ĠAc', 'oustic', 'ness', ':', 'Ġ', '0', '.', '010', '7', ',', 'ĠIS', 'RC', ':', 'ĠUS', '83', 'Z', '231', '463', '8', ',', 'ĠArtist', 'ĠURL', ':', 'Ġbeat', 'port', '.com', '/', 'artist', '/w', 'add', '/', '624', '782', ',', 'ĠLabel', 'ĠURL', ':', 'Ġbeat', 'port', '.com', '/', 'label', '/t', 'ib', 'et', 'ania', '-', 'records', '/', '914', '79', ',', 'ĠGenre', 'ĠURL', ':', 'Ġ/', 'genre', '/', 'organic', '-house', '-d', 'ownt', 'empo', '/', '93', '.']\n",
      "Token IDs: [16042, 3110, 25, 220, 11256, 26008, 2545, 11, 11106, 25, 6984, 11, 29459, 25, 468, 723, 11, 29459, 3110, 25, 220, 23000, 23833, 11, 41395, 25, 44037, 4783, 611, 423, 13197, 22893, 11, 41395, 3110, 25, 220, 6365, 11, 9587, 25, 45261, 9345, 22293, 11, 9587, 3110, 25, 220, 24579, 4643, 11, 17836, 2696, 25, 220, 2366, 18, 12, 2589, 12, 2148, 11, 20371, 5665, 25, 9567, 403, 916, 14, 13432, 61048, 14, 11256, 26008, 2545, 11, 19771, 25, 51127, 11, 51127, 25, 7566, 11, 5031, 40114, 25, 7566, 11, 21722, 25, 220, 23, 25, 1187, 4520, 11, 89319, 25, 220, 6550, 13, 15, 11, 5422, 3110, 25, 220, 24, 13, 15, 11, 14904, 25, 220, 15, 13, 15, 11, 4196, 768, 25, 220, 15, 13, 27033, 19, 11, 30704, 2968, 25, 220, 15, 13, 24456, 11, 12634, 25, 220, 15, 13, 22184, 11, 39841, 1918, 25, 220, 15, 13, 21602, 17, 11, 80648, 2136, 25, 482, 24, 13, 10898, 11, 445, 13071, 25, 220, 15, 13, 24996, 21, 11, 43405, 278, 2136, 25, 220, 15, 13, 23713, 11, 6515, 35415, 2136, 25, 220, 15, 13, 7755, 22, 11, 3507, 7532, 25, 2326, 6069, 57, 12245, 21290, 23, 11, 29459, 5665, 25, 9567, 403, 916, 14, 19135, 6458, 723, 14, 23000, 23833, 11, 9587, 5665, 25, 9567, 403, 916, 14, 1530, 5640, 581, 295, 9345, 12, 27295, 14, 24579, 4643, 11, 41395, 5665, 25, 611, 34713, 14, 61694, 37002, 1773, 13197, 22893, 14, 6365, 13]\n"
     ]
    },
    {
     "name": "stderr",
     "output_type": "stream",
     "text": [
      "Tokenizing batches 101-120:  40%|████      | 8/20 [14:28<20:59, 105.00s/it]"
     ]
    }
   ],
   "source": [
    "bp_text_tokens = dolly_tunes(bp_text_values, farm_trips)"
   ]
  },
  {
   "cell_type": "markdown",
   "metadata": {},
   "source": [
    "### Cache tokenized data"
   ]
  },
  {
   "cell_type": "code",
   "execution_count": null,
   "metadata": {},
   "outputs": [],
   "source": [
    "def pickled_cache(obj, filename_prefix, pickles):\n",
    "    os.makedirs('cache_parts', exist_ok=True)\n",
    "    for i in range(0, len(obj), pickles):\n",
    "        with open(f'cache_parts/{filename_prefix}_part_{i // pickles}.pkl', 'wb') as part_file:\n",
    "            pickle.dump(obj[i:i + pickles], part_file)\n",
    "\n",
    "def pickle_jar(filename_prefix):\n",
    "    parts = []\n",
    "    i = 0\n",
    "    while os.path.exists(f'cache_parts/{filename_prefix}_part_{i}.pkl'):\n",
    "        with open(f'cache_parts/{filename_prefix}_part_{i}.pkl', 'rb') as part_file:\n",
    "            parts.extend(pickle.load(part_file))\n",
    "        i += 1\n",
    "    return parts"
   ]
  },
  {
   "cell_type": "code",
   "execution_count": null,
   "metadata": {},
   "outputs": [],
   "source": [
    "pickle_count = 50000\n",
    "pickled_cache(bp_text_tokens, 'bp_text_tokens_cache')"
   ]
  },
  {
   "cell_type": "code",
   "execution_count": null,
   "metadata": {},
   "outputs": [],
   "source": [
    "\n",
    "bp_text_tokens_cached = pickle_jar('bp_text_tokens_cache')\n",
    "\n",
    "print(\"Tokenized output: \", bp_text_tokens_cached)"
   ]
  },
  {
   "cell_type": "markdown",
   "metadata": {},
   "source": [
    "### Token Visualizations"
   ]
  },
  {
   "cell_type": "markdown",
   "metadata": {},
   "source": [
    "#### Summarize Token Statistics"
   ]
  },
  {
   "cell_type": "code",
   "execution_count": null,
   "metadata": {},
   "outputs": [],
   "source": [
    "#Token Length Statistics\n",
    "from statistics import mean, median\n",
    "\n",
    "all_token_lengths = [len(token) for tokens_batch in dolly_grazing for token in tokens_batch]\n",
    "\n",
    "print(\"Mean Token Length:\", mean(all_token_lengths))\n",
    "print(\"Median Token Length:\", median(all_token_lengths))\n",
    "print(\"Minimum Token Length:\", min(all_token_lengths))\n",
    "print(\"Maximum Token Length:\", max(all_token_lengths))"
   ]
  },
  {
   "cell_type": "code",
   "execution_count": null,
   "metadata": {},
   "outputs": [],
   "source": [
    "#Vocabulary Size\n",
    "unique_tokens = set([token for tokens_batch in dolly_grazing for token in tokens_batch])\n",
    "print(\"Vocabulary Size:\", len(unique_tokens))\n"
   ]
  },
  {
   "cell_type": "markdown",
   "metadata": {},
   "source": [
    "#### Token Frequency Analysis"
   ]
  },
  {
   "cell_type": "code",
   "execution_count": null,
   "metadata": {},
   "outputs": [],
   "source": [
    "from collections import Counter\n",
    "\n",
    "# Count token frequencies\n",
    "all_tokens = [token for tokens_batch in dolly_grazing for token in tokens_batch]\n",
    "token_counts = Counter(all_tokens)\n",
    "\n",
    "# Print the top 20 most common tokens\n",
    "most_common_tokens = token_counts.most_common(20)\n",
    "for token, count in most_common_tokens:\n",
    "    print(f\"Token: {token}, Frequency: {count}\")"
   ]
  },
  {
   "cell_type": "markdown",
   "metadata": {},
   "source": [
    "#### Visualize Aggregated Data\n",
    "\n",
    " Instead of focusing on individual tokens, visualize aggregated statistics. For instance:\n",
    "\n",
    "Vocabulary Growth Curve: Plot the growth of unique tokens as you tokenize more data to understand how the vocabulary evolves with more input.\n",
    "Token Length Distribution: Create a histogram or boxplot of token lengths.\n",
    "Frequency Heatmaps: Use a heatmap to visualize how often specific tokens appear in different parts of the dataset"
   ]
  },
  {
   "cell_type": "code",
   "execution_count": null,
   "metadata": {},
   "outputs": [],
   "source": [
    "import matplotlib.pyplot as plt\n",
    "from collections import defaultdict\n",
    "\n",
    "# Accumulate token frequencies over batches\n",
    "token_frequency = defaultdict(int)\n",
    "\n",
    "for batch in dolly_grazing:\n",
    "    for tokens in batch['input_ids']:\n",
    "        for token in tokens:\n",
    "            token_frequency[token] += 1\n",
    "\n",
    "# Get the top 20 most common tokens by frequency\n",
    "sorted_tokens = sorted(token_frequency.items(), key=lambda x: x[1], reverse=True)[:20]\n",
    "\n",
    "# Plot the token frequencies\n",
    "tokens, frequencies = zip(*sorted_tokens)\n",
    "plt.figure(figsize=(10, 6))\n",
    "plt.bar(tokens, frequencies)\n",
    "plt.xticks(rotation=45)\n",
    "plt.xlabel('Token IDs')\n",
    "plt.ylabel('Frequency')\n",
    "plt.title('Top 20 Most Common Tokens')\n",
    "plt.show()"
   ]
  },
  {
   "cell_type": "markdown",
   "metadata": {},
   "source": [
    "### processing HTML into text tokens "
   ]
  },
  {
   "cell_type": "code",
   "execution_count": null,
   "metadata": {},
   "outputs": [],
   "source": [
    "def dolly_crawl(html_location):\n",
    "    seeds = document_loaders.HTMLLoader(html_location)\n",
    "    pellets = seeds.load()\n",
    "    snack = pellets[0].page_content\n",
    "    clean_cut = RecursiveCharacterTextSplitter(chunk_size=1000, chunk_overlap=50)\n",
    "    chunks = clean_cut.split_text(snack)\n",
    "    tokenized_chunks = [llama_3211b_tokenizer(chunk, return_tensors=\"tf\", truncation=True, padding=True) for chunk in chunks]\n",
    "\n",
    "    return tokenized_chunks\n",
    "\n",
    "radiance = \"I need to add an html file here at some point\"\n",
    "tokens = dolly_crawl(radiance)\n",
    "print(f\"Tokenized output: {tokens}\")\n"
   ]
  }
 ],
 "metadata": {
  "kernelspec": {
   "display_name": "venv-metal",
   "language": "python",
   "name": "venv-metal"
  },
  "language_info": {
   "codemirror_mode": {
    "name": "ipython",
    "version": 3
   },
   "file_extension": ".py",
   "mimetype": "text/x-python",
   "name": "python",
   "nbconvert_exporter": "python",
   "pygments_lexer": "ipython3",
   "version": "3.11.9"
  }
 },
 "nbformat": 4,
 "nbformat_minor": 2
}
